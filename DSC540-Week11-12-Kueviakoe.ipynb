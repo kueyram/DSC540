{
 "cells": [
  {
   "cell_type": "raw",
   "id": "ff4562a7",
   "metadata": {},
   "source": [
    "DSC 540 - Data Wrangling\n",
    "Week 11 & 12 Assignment\n",
    "Eyram Kueviakoe"
   ]
  },
  {
   "cell_type": "raw",
   "id": "e0398c44",
   "metadata": {},
   "source": [
    "1. Connect to the petsDB and check whether the connection has been successful"
   ]
  },
  {
   "cell_type": "code",
   "execution_count": 1,
   "id": "380b197a",
   "metadata": {},
   "outputs": [],
   "source": [
    "# Let's import the libraries we need\n",
    "import sqlite3\n",
    "\n",
    "# Let's assign the database to a variable\n",
    "database = 'petsdb'\n",
    "\n",
    "# Connecting to the database\n",
    "conn = sqlite3.connect(database)"
   ]
  },
  {
   "cell_type": "code",
   "execution_count": 2,
   "id": "543b7937",
   "metadata": {},
   "outputs": [],
   "source": [
    "# Let's create a function to check if the connection was successful\n",
    "def check_connection(conn):\n",
    "    try:\n",
    "        # Create a cursor to interact with the database\n",
    "        cursor = conn.cursor()\n",
    "        \n",
    "        # Let's execute a sql query to check the connection\n",
    "        cursor.execute(\"SELECT 1\")\n",
    "        \n",
    "        # Let's now close the cursor\n",
    "        cursor.close()\n",
    "        \n",
    "        # If query is successful, let's return True\n",
    "        print('The connection was successful')\n",
    "        return True\n",
    "    except sqlite3.Error as e:\n",
    "        # Display error message if there was an error and return false\n",
    "        print('The connection was not successful')\n",
    "        return False"
   ]
  },
  {
   "cell_type": "code",
   "execution_count": 3,
   "id": "17e19ebf",
   "metadata": {},
   "outputs": [
    {
     "name": "stdout",
     "output_type": "stream",
     "text": [
      "The connection was successful\n",
      "Connection successful: True\n"
     ]
    }
   ],
   "source": [
    "# Checking the connection\n",
    "print(\"Connection successful:\", check_connection(conn))"
   ]
  },
  {
   "cell_type": "code",
   "execution_count": 4,
   "id": "ef16e21a",
   "metadata": {},
   "outputs": [],
   "source": [
    "# Closing the connection\n",
    "conn.close()"
   ]
  },
  {
   "cell_type": "raw",
   "id": "e77e2f0d",
   "metadata": {},
   "source": [
    "2. Find the different age groups in the persons database"
   ]
  },
  {
   "cell_type": "code",
   "execution_count": 5,
   "id": "1877f611",
   "metadata": {},
   "outputs": [
    {
     "name": "stdout",
     "output_type": "stream",
     "text": [
      "+-----+-------------------+\n",
      "| Age | Number of Persons |\n",
      "+-----+-------------------+\n",
      "|  5  |         2         |\n",
      "|  6  |         1         |\n",
      "|  7  |         1         |\n",
      "|  8  |         3         |\n",
      "|  9  |         1         |\n",
      "|  11 |         2         |\n",
      "|  12 |         3         |\n",
      "|  13 |         1         |\n",
      "|  14 |         4         |\n",
      "|  16 |         2         |\n",
      "|  17 |         2         |\n",
      "|  18 |         3         |\n",
      "|  19 |         1         |\n",
      "|  22 |         3         |\n",
      "|  23 |         2         |\n",
      "|  24 |         3         |\n",
      "|  25 |         2         |\n",
      "|  27 |         1         |\n",
      "|  30 |         1         |\n",
      "|  31 |         3         |\n",
      "|  32 |         1         |\n",
      "|  33 |         1         |\n",
      "|  34 |         2         |\n",
      "|  35 |         3         |\n",
      "|  36 |         3         |\n",
      "|  37 |         1         |\n",
      "|  39 |         2         |\n",
      "|  40 |         1         |\n",
      "|  42 |         1         |\n",
      "|  44 |         2         |\n",
      "|  48 |         2         |\n",
      "|  49 |         1         |\n",
      "|  50 |         1         |\n",
      "|  51 |         2         |\n",
      "|  52 |         2         |\n",
      "|  53 |         2         |\n",
      "|  54 |         2         |\n",
      "|  58 |         1         |\n",
      "|  59 |         1         |\n",
      "|  60 |         1         |\n",
      "|  61 |         1         |\n",
      "|  62 |         2         |\n",
      "|  63 |         1         |\n",
      "|  65 |         2         |\n",
      "|  66 |         2         |\n",
      "|  67 |         1         |\n",
      "|  68 |         3         |\n",
      "|  69 |         1         |\n",
      "|  70 |         1         |\n",
      "|  71 |         4         |\n",
      "|  72 |         1         |\n",
      "|  73 |         5         |\n",
      "|  74 |         3         |\n",
      "+-----+-------------------+\n"
     ]
    }
   ],
   "source": [
    "# Different age groups\n",
    "# We are going to use the library Prettytable to nicely display the result\n",
    "from prettytable import PrettyTable\n",
    "\n",
    "# Connecting to the database\n",
    "conn = sqlite3.connect(database)\n",
    "c = conn.cursor()\n",
    "\n",
    "# Query to select the age and the count\n",
    "query = \" SELECT age, COUNT(*) AS count FROM persons GROUP BY age;\"\n",
    "\n",
    "# Let's execute the query\n",
    "c.execute(query)\n",
    "rows = c.fetchall()\n",
    "\n",
    "# Closing the connection\n",
    "conn.close()\n",
    "\n",
    "# We are going to use the library Prettytable to nicely display the result\n",
    "table = PrettyTable()\n",
    "table.field_names = [\"Age\", \"Number of Persons\"]\n",
    "\n",
    "# Add rows to the table\n",
    "for row in rows:\n",
    "    table.add_row(row)\n",
    "\n",
    "# Printing the table\n",
    "print(table)\n"
   ]
  },
  {
   "cell_type": "raw",
   "id": "01047250",
   "metadata": {},
   "source": [
    "3. Find the age group that has the maximum number of people"
   ]
  },
  {
   "cell_type": "code",
   "execution_count": 6,
   "id": "8e747747",
   "metadata": {},
   "outputs": [
    {
     "name": "stdout",
     "output_type": "stream",
     "text": [
      "The age group that have the maximum number of people is : 73\n",
      "The maximum number of people is : 5\n"
     ]
    }
   ],
   "source": [
    "# Connecting to the database\n",
    "conn = sqlite3.connect(database)\n",
    "\n",
    "cursor = conn.cursor()\n",
    "\n",
    "# Query to find the maximum\n",
    "query = \"SELECT age, COUNT(*) AS count FROM persons GROUP BY age ORDER BY count DESC LIMIT 1;\"\n",
    "\n",
    "# Let's execute the query\n",
    "cursor.execute(query)\n",
    "\n",
    "# Let's fetch the result. There will be only 1 row in the result\n",
    "result = cursor.fetchone()\n",
    "\n",
    "age, count = result\n",
    "\n",
    "# Printing the result\n",
    "print('The age group that have the maximum number of people is :', age)\n",
    "print('The maximum number of people is :', count)\n",
    "\n",
    "# Closing the connection\n",
    "conn.close()"
   ]
  },
  {
   "cell_type": "raw",
   "id": "0debb2b8",
   "metadata": {},
   "source": [
    "4. Find the people who do not have a last name"
   ]
  },
  {
   "cell_type": "code",
   "execution_count": 7,
   "id": "a0c64e8a",
   "metadata": {},
   "outputs": [
    {
     "name": "stdout",
     "output_type": "stream",
     "text": [
      "There are  60  people with no last name\n",
      "People who do not have a last name:\n",
      "Erica\n",
      "Jordi\n",
      "Chasity\n",
      "Gregg\n",
      "Cary\n",
      "Francisca\n",
      "Raleigh\n",
      "Maria\n",
      "Mariane\n",
      "Mona\n",
      "Kayla\n",
      "Karlie\n",
      "Morris\n",
      "Sandy\n",
      "Hector\n",
      "Hiram\n",
      "Tressa\n",
      "Berry\n",
      "Pearline\n",
      "Maynard\n",
      "Dorian\n",
      "Mylene\n",
      "Lafayette\n",
      "Tara\n",
      "Destiny\n",
      "Lesly\n",
      "Perry\n",
      "Maritza\n",
      "Grant\n",
      "Laury\n",
      "Name\n",
      "Estefania\n",
      "Destiney\n",
      "Jaquelin\n",
      "Alfonzo\n",
      "Lisandro\n",
      "Priscilla\n",
      "Elenora\n",
      "Rudolph\n",
      "Ona\n",
      "Rebeca\n",
      "Sigurd\n",
      "Alice\n",
      "Dane\n",
      "Judge\n",
      "Allene\n",
      "Jalen\n",
      "Myron\n",
      "Travon\n",
      "Shayna\n",
      "Myah\n",
      "Letha\n",
      "Felton\n",
      "London\n",
      "Koby\n",
      "Golden\n",
      "Anissa\n",
      "Sid\n",
      "Ernesto\n",
      "Josianne\n"
     ]
    }
   ],
   "source": [
    "# Connecting to the database\n",
    "conn = sqlite3.connect(database)\n",
    "\n",
    "cursor = conn.cursor()\n",
    "\n",
    "# Query to find the people who do not have last name\n",
    "query_no_last_name = \"SELECT first_name FROM persons WHERE last_name IS NULL or Last_name = '';\"\n",
    "\n",
    "# Query to count the number of people with no last name\n",
    "query_count = \"SELECT COUNT(*) FROM persons WHERE last_name IS NULL OR last_name = '';\"\n",
    "\n",
    "# Let's execute the query to count the number of person\n",
    "cursor.execute(query_count)\n",
    "count = cursor.fetchone()[0]\n",
    "\n",
    "# Printing the count\n",
    "print('There are ', count, ' people with no last name')\n",
    "\n",
    "# Let's execute the query to list the people with no last name\n",
    "cursor.execute(query_no_last_name)\n",
    "\n",
    "# Printing the result of names\n",
    "print(\"People who do not have a last name:\")\n",
    "for row in cursor:\n",
    "    first_name = row[0]\n",
    "    print(first_name)\n",
    "    \n",
    "# Closing the connection\n",
    "conn.close()"
   ]
  },
  {
   "cell_type": "raw",
   "id": "2b713fac",
   "metadata": {},
   "source": [
    "5. Find out how many people have more than 1 pet"
   ]
  },
  {
   "cell_type": "code",
   "execution_count": 8,
   "id": "2d80a429",
   "metadata": {},
   "outputs": [
    {
     "name": "stdout",
     "output_type": "stream",
     "text": [
      "Number of people with more than one pet: 43\n"
     ]
    }
   ],
   "source": [
    "# Connecting to the database\n",
    "conn = sqlite3.connect(database)\n",
    "\n",
    "cursor = conn.cursor()\n",
    "\n",
    "# Query to find the number of people with more that 1 pet\n",
    "query = \"SELECT owner_id, COUNT(*) AS number_of_pets FROM pets GROUP BY owner_id HAVING number_of_pets > 1;\"\n",
    "\n",
    "# Let's execute the query\n",
    "cursor.execute(query)\n",
    "\n",
    "# Let's initialize a counter for people with more than one pet\n",
    "people_with_multiple_pets = 0\n",
    "\n",
    "# Let's loop through the reset and count\n",
    "for row in cursor:\n",
    "    people_with_multiple_pets += 1\n",
    "    \n",
    "# Printing the results\n",
    "print('Number of people with more than one pet:',people_with_multiple_pets)\n",
    "\n",
    "# Closing the connection\n",
    "conn.close()"
   ]
  },
  {
   "cell_type": "raw",
   "id": "af3c2de4",
   "metadata": {},
   "source": [
    "6. Find out how many pets have received treatment"
   ]
  },
  {
   "cell_type": "code",
   "execution_count": 9,
   "id": "d3fe2ff7",
   "metadata": {},
   "outputs": [
    {
     "name": "stdout",
     "output_type": "stream",
     "text": [
      "Number of pets who have received treatment:  36\n"
     ]
    }
   ],
   "source": [
    "# Connecting to the database\n",
    "conn = sqlite3.connect(database)\n",
    "\n",
    "cursor = conn.cursor()\n",
    "\n",
    "# Query to find the number of pets who have reveiced treatment\n",
    "query = \"SELECT COUNT(*) AS number_of_pets FROM pets WHERE treatment_done = 1;\"\n",
    "\n",
    "# Let's execute the query\n",
    "cursor.execute(query)\n",
    "\n",
    "# Initialize number_of_pets counter\n",
    "number_of_pets = 0\n",
    "\n",
    "# Let's loop through the result to get the number of pets\n",
    "for row in cursor:\n",
    "    number_of_pets = row[0]\n",
    "\n",
    "# Printing the result\n",
    "print('Number of pets who have received treatment: ',number_of_pets)\n",
    "\n",
    "# Closing the connection\n",
    "conn.close()"
   ]
  },
  {
   "cell_type": "raw",
   "id": "0eba15c7",
   "metadata": {},
   "source": [
    "7. Find out how many pets have received treatment and the type of pet is known"
   ]
  },
  {
   "cell_type": "code",
   "execution_count": 10,
   "id": "51c4c8f8",
   "metadata": {},
   "outputs": [
    {
     "name": "stdout",
     "output_type": "stream",
     "text": [
      "Number of pets who have received treatment and we know the type of pet is  16\n"
     ]
    }
   ],
   "source": [
    "# Connecting to the database\n",
    "conn = sqlite3.connect(database)\n",
    "\n",
    "cursor = conn.cursor()\n",
    "\n",
    "# Query to find the number of pets who have reveiced treatment and the type of pet is known\n",
    "query = \"SELECT COUNT(*) AS number_of_pets FROM pets WHERE treatment_done = 1 AND pet_type IS NOT NULL;\"\n",
    "\n",
    "# Let's execute the query\n",
    "cursor.execute(query)\n",
    "\n",
    "# Initialize the counter number_of_pets\n",
    "number_of_pets = 0\n",
    "\n",
    "# Let's loop through the result to get the number of pets\n",
    "for row in cursor:\n",
    "    number_of_pets = row[0]\n",
    "\n",
    "# Printing the result\n",
    "print('Number of pets who have received treatment and we know the type of pet is ',number_of_pets)\n",
    "\n",
    "# Closing the connection\n",
    "conn.close()"
   ]
  },
  {
   "cell_type": "raw",
   "id": "95a3af99",
   "metadata": {},
   "source": [
    "8. How many pets are from the city called east port"
   ]
  },
  {
   "cell_type": "code",
   "execution_count": 11,
   "id": "1f23cf44",
   "metadata": {},
   "outputs": [
    {
     "name": "stdout",
     "output_type": "stream",
     "text": [
      "Number of pets from East Port is  49\n"
     ]
    }
   ],
   "source": [
    "# Connecting to the database\n",
    "conn = sqlite3.connect(database)\n",
    "\n",
    "cursor = conn.cursor()\n",
    "\n",
    "# Query to find the number of pets from east port\n",
    "query = \"\"\"\n",
    "SELECT COUNT(*) AS number_of_pets_east_port \n",
    "FROM pets \n",
    "INNER JOIN persons on pets.owner_id = persons.id \n",
    "WHERE persons.city = 'east port';\n",
    "\"\"\"\n",
    "\n",
    "# Let's execute the query\n",
    "cursor.execute(query)\n",
    "\n",
    "# Initialize counter number_of_pets\n",
    "number_of_pets_east_port = 0\n",
    "\n",
    "# Let's loop through the result to get the number of pets\n",
    "for row in cursor:\n",
    "    number_of_pets_east_port = row[0]\n",
    "\n",
    "# Printing the result\n",
    "print('Number of pets from East Port is ',number_of_pets_east_port)\n",
    "\n",
    "# Closing the connection\n",
    "conn.close()"
   ]
  },
  {
   "cell_type": "raw",
   "id": "28d740d4",
   "metadata": {},
   "source": [
    "9. Find out how many pets are from east port and who have received treatment"
   ]
  },
  {
   "cell_type": "code",
   "execution_count": 12,
   "id": "69f32879",
   "metadata": {},
   "outputs": [
    {
     "name": "stdout",
     "output_type": "stream",
     "text": [
      "Number of pets from East Port and who have receive treatment is  11\n"
     ]
    }
   ],
   "source": [
    "# Connecting to the database\n",
    "conn = sqlite3.connect(database)\n",
    "\n",
    "cursor = conn.cursor()\n",
    "\n",
    "# Query to find the number of pets from east port and who have received treatment\n",
    "query = \"\"\"\n",
    "SELECT COUNT(*) AS number_of_pets_east_port\n",
    "FROM pets\n",
    "INNER JOIN persons on pets.owner_id = persons.id\n",
    "WHERE persons.city = 'east port' AND pets.treatment_done = 1;\n",
    "\"\"\"\n",
    "\n",
    "# Let's execute the query\n",
    "cursor.execute(query)\n",
    "\n",
    "# Initialize the counter\n",
    "number_of_pets_east_port_with = 0\n",
    "\n",
    "# Let's loop through the result to get the number of pets\n",
    "for row in cursor:\n",
    "    number_of_pets_east_port = row[0]\n",
    "\n",
    "# Printing the result\n",
    "print('Number of pets from East Port and who have receive treatment is ',number_of_pets_east_port)\n",
    "\n",
    "# Closing the connection\n",
    "conn.close()"
   ]
  }
 ],
 "metadata": {
  "kernelspec": {
   "display_name": "Python 3 (ipykernel)",
   "language": "python",
   "name": "python3"
  },
  "language_info": {
   "codemirror_mode": {
    "name": "ipython",
    "version": 3
   },
   "file_extension": ".py",
   "mimetype": "text/x-python",
   "name": "python",
   "nbconvert_exporter": "python",
   "pygments_lexer": "ipython3",
   "version": "3.11.7"
  }
 },
 "nbformat": 4,
 "nbformat_minor": 5
}
