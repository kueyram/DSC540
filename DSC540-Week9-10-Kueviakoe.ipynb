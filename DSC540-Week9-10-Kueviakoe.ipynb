{
 "cells": [
  {
   "cell_type": "raw",
   "id": "c1f4d57f",
   "metadata": {},
   "source": [
    "DSC540 - Data Preparation\n",
    "Week 8 & 9 Assisgnment\n",
    "Eyram Kueviakoe"
   ]
  },
  {
   "cell_type": "raw",
   "id": "87096774",
   "metadata": {},
   "source": [
    "I. Activity 7.01 - Extracting the Top 10 eBooks from Gutenberg"
   ]
  },
  {
   "cell_type": "raw",
   "id": "cd22e0ae",
   "metadata": {},
   "source": [
    "1. import the necessary libraries including regex and beautifulsoup"
   ]
  },
  {
   "cell_type": "code",
   "execution_count": 1,
   "id": "f376f8ce",
   "metadata": {},
   "outputs": [],
   "source": [
    "import re\n",
    "from bs4 import BeautifulSoup\n",
    "import requests\n",
    "import ssl"
   ]
  },
  {
   "cell_type": "raw",
   "id": "adf79ffa",
   "metadata": {},
   "source": [
    "2. Ignore SSL errors"
   ]
  },
  {
   "cell_type": "code",
   "execution_count": 2,
   "id": "e2d1ea52",
   "metadata": {},
   "outputs": [],
   "source": [
    "ctx = ssl.create_default_context()\n",
    "ctx.check_hostname = False\n",
    "ctx.verify_mode = ssl.CERT_NONE"
   ]
  },
  {
   "cell_type": "raw",
   "id": "c37b2979",
   "metadata": {},
   "source": [
    "3. Read the html from the url"
   ]
  },
  {
   "cell_type": "code",
   "execution_count": 3,
   "id": "36d147f4",
   "metadata": {},
   "outputs": [],
   "source": [
    "url = 'https://www.gutenberg.org/browse/scores/top'\n",
    "# Send htt get request to retrieve the content\n",
    "response = requests.get(url)"
   ]
  },
  {
   "cell_type": "raw",
   "id": "edd15a76",
   "metadata": {},
   "source": [
    "4. Write a small function to check the status of the web request"
   ]
  },
  {
   "cell_type": "code",
   "execution_count": 4,
   "id": "6994c18f",
   "metadata": {},
   "outputs": [],
   "source": [
    "def status_webrequest(response):\n",
    "    if response.status_code == 200:\n",
    "        return 'The request is successful'\n",
    "    else:\n",
    "        return f\"The request failed with status code: {response.status_code}\""
   ]
  },
  {
   "cell_type": "raw",
   "id": "e9761e21",
   "metadata": {},
   "source": [
    "5. Check the status of the response"
   ]
  },
  {
   "cell_type": "code",
   "execution_count": 5,
   "id": "87d93b7a",
   "metadata": {},
   "outputs": [
    {
     "data": {
      "text/plain": [
       "'The request is successful'"
      ]
     },
     "execution_count": 5,
     "metadata": {},
     "output_type": "execute_result"
    }
   ],
   "source": [
    "status_webrequest(response)"
   ]
  },
  {
   "cell_type": "raw",
   "id": "4f26820c",
   "metadata": {},
   "source": [
    "6. Decode the response and pass it on to BeautifulSoup for html parsing"
   ]
  },
  {
   "cell_type": "code",
   "execution_count": 6,
   "id": "4addeaa5",
   "metadata": {},
   "outputs": [],
   "source": [
    "# Decoding the response\n",
    "decoded_content = response.content.decode(response.encoding)\n",
    "\n",
    "# Parse the html content using BeautifulSoup\n",
    "soup = BeautifulSoup(decoded_content, 'html.parser')"
   ]
  },
  {
   "cell_type": "raw",
   "id": "80944927",
   "metadata": {},
   "source": [
    "7. Find all href tags and store them in the list of links. Check what the list looks like - Print the first 30 elements"
   ]
  },
  {
   "cell_type": "code",
   "execution_count": 7,
   "id": "b7eed68d",
   "metadata": {},
   "outputs": [
    {
     "name": "stdout",
     "output_type": "stream",
     "text": [
      "675 links were found\n"
     ]
    }
   ],
   "source": [
    "# Let's create and initialize and empty list to store the links\n",
    "links = []\n",
    "\n",
    "# Finding all <a> tags\n",
    "for link in soup.find_all('a'):\n",
    "    # Extracting the href attribute\n",
    "    href = link.get('href')\n",
    "    \n",
    "    # Let's check if the href was found before adding to the list\n",
    "    if href:\n",
    "        # Append the hred to the links list\n",
    "        links.append(href)\n",
    "\n",
    "# Let's show the number of links found\n",
    "print(len(links),'links were found')"
   ]
  },
  {
   "cell_type": "code",
   "execution_count": 8,
   "id": "05d921a5",
   "metadata": {},
   "outputs": [
    {
     "name": "stdout",
     "output_type": "stream",
     "text": [
      "First 30 links\n",
      "/\n",
      "/about/\n",
      "/about/\n",
      "/policy/collection_development.html\n",
      "/about/contact_information.html\n",
      "/about/background/\n",
      "/policy/permission.html\n",
      "/policy/privacy_policy.html\n",
      "/policy/terms_of_use.html\n",
      "/ebooks/\n",
      "/ebooks/\n",
      "/ebooks/bookshelf/\n",
      "/browse/scores/top\n",
      "/ebooks/offline_catalogs.html\n",
      "/help/\n",
      "/help/\n",
      "/help/copyright.html\n",
      "/help/errata.html\n",
      "/help/file_formats.html\n",
      "/help/faq.html\n",
      "/policy/\n",
      "/help/public_domain_ebook_submission.html\n",
      "/help/submitting_your_own_work.html\n",
      "/help/mobile.html\n",
      "/attic/\n",
      "/donate/\n",
      "/donate/\n",
      "#books-last1\n",
      "#authors-last1\n",
      "#books-last7\n"
     ]
    }
   ],
   "source": [
    "# Printing the first 30 elements\n",
    "print('First 30 links')\n",
    "for i in range(30):\n",
    "    print(links[i])"
   ]
  },
  {
   "cell_type": "raw",
   "id": "052514e7",
   "metadata": {},
   "source": [
    "Use regular expression to find the numeric digits in these links. <br>These are the file number for the Top 100 books."
   ]
  },
  {
   "cell_type": "raw",
   "id": "49fbafdb",
   "metadata": {},
   "source": [
    "Initialize the empty list to hold the file numbers over an appropriate rangeand use regex to find numeric digits in the link hrek string. Use findall method"
   ]
  },
  {
   "cell_type": "code",
   "execution_count": 9,
   "id": "9ca64d4c",
   "metadata": {},
   "outputs": [],
   "source": [
    "booknumber = []"
   ]
  },
  {
   "cell_type": "code",
   "execution_count": 10,
   "id": "fbef6df8",
   "metadata": {},
   "outputs": [],
   "source": [
    "# Lets define the regular expression to find numeric digits\n",
    "file_number_regex = r\"\\d+\"  # Matches one or more digits\n",
    "\n",
    "# The top 100 ebooks are from index 34 to 133\n",
    "# Looping through the list\n",
    "for link in links[34:134]:\n",
    "    # Removing leading or trailing whitespace\n",
    "    link = link.strip()\n",
    "\n",
    "    # Finding all matches of numeric digits\n",
    "    matches = re.findall(file_number_regex, link)\n",
    "\n",
    "    if matches:\n",
    "        # Combining all matches\n",
    "        file_number = \"\".join(matches)\n",
    "        # Adding the file number to the list\n",
    "        booknumber.append(file_number)"
   ]
  },
  {
   "cell_type": "code",
   "execution_count": 11,
   "id": "fadb9045",
   "metadata": {},
   "outputs": [
    {
     "name": "stdout",
     "output_type": "stream",
     "text": [
      "['1513', '2701', '84', '2641', '145', '100', '37106', '16389', '67979', '6761', '394', '4085', '2160', '6593', '1259', '5197', '11', '64317', '174', '98', '844', '5200', '345', '2554', '2542', '3543', '28054', '76', '46', '43', '73638', '2000', '25344', '1952', '1400', '73641', '1080', '1661', '74', '4300', '1727', '2591', '9380', '1260', '2600', '6130', '35899', '45368', '219', '73637', '1184', '1998', '27827', '5740', '73644', '30254', '768', '996', '16328', '73639', '45', '4363', '1232', '20228', '2814', '730', '600', '205', '67098', '16', '158', '514', '120', '8800', '2852', '408', '31284', '55', '3207', '2680', '244', '36', '31552', '1497', '8492', '135', '27558', '25717', '1250', '3825', '58585', '23700', '10676', '61', '33283', '73636', '7370', '1399', '73640', '1']\n"
     ]
    }
   ],
   "source": [
    "# Let's print the file numbers\n",
    "print(booknumber)"
   ]
  },
  {
   "cell_type": "raw",
   "id": "df976add",
   "metadata": {},
   "source": [
    "9. What does the soup object's text look like? Use .text() method and print only first 2000 characters (do not print the whole thing, it is long"
   ]
  },
  {
   "cell_type": "code",
   "execution_count": 12,
   "id": "f0675a60",
   "metadata": {},
   "outputs": [
    {
     "name": "stdout",
     "output_type": "stream",
     "text": [
      "\n",
      "\n",
      "\n",
      "\n",
      "Top 100 | Project Gutenberg\n",
      "\n",
      "\n",
      "\n",
      "\n",
      "\n",
      "\n",
      "\n",
      "\n",
      "\n",
      "\n",
      "\n",
      "\n",
      "\n",
      "\n",
      "\n",
      "\n",
      "\n",
      "\n",
      "\n",
      "\n",
      "\n",
      "\n",
      "\n",
      "\n",
      "\n",
      "\n",
      "\n",
      "Menu▾\n",
      "\n",
      "\n",
      "\n",
      "About\n",
      "          ▾\n",
      "\n",
      "▾\n",
      "\n",
      "\n",
      "About Project Gutenberg\n",
      "Collection Development\n",
      "Contact Us\n",
      "History & Philosophy\n",
      "Permissions & License\n",
      "Privacy Policy\n",
      "Terms of Use\n",
      "\n",
      "\n",
      "\n",
      "Search and Browse\n",
      "      \t  ▾\n",
      "\n",
      "▾\n",
      "\n",
      "\n",
      "Book Search\n",
      "Bookshelves\n",
      "Frequently Downloaded\n",
      "Offline Catalogs\n",
      "\n",
      "\n",
      "\n",
      "Help\n",
      "          ▾\n",
      "\n",
      "▾\n",
      "\n",
      "\n",
      "All help topics →\n",
      "Copyright How-To\n",
      "Errata, Fixes and Bug Reports\n",
      "File Formats\n",
      "Frequently Asked Questions\n",
      "Policies →\n",
      "Public Domain eBook Submission\n",
      "Submitting Your Own Work\n",
      "Tablets, Phones and eReaders\n",
      "The Attic →\n",
      "\n",
      "\n",
      "Donate\n",
      "\n",
      "\n",
      "\n",
      "\n",
      "\n",
      "\n",
      "\n",
      "\n",
      "\n",
      "\n",
      "Donation\n",
      "\n",
      "\n",
      "\n",
      "\n",
      "\n",
      "\n",
      "\n",
      "Frequently Viewed or Downloaded\n",
      "These listings are based on the number of times each eBook gets downloaded.\n",
      "      Multiple downloads from the same Internet address on the same day count as one download, and addresses that download more than 100 eBooks in a day are considered robots and are not counted.\n",
      "\n",
      "Downloaded Books\n",
      "2024-05-17402517\n",
      "last 7 days3559806\n",
      "last 30 days13610618\n",
      "\n",
      "\n",
      "\n",
      "Top 100 EBooks yesterday\n",
      "Top 100 Authors yesterday\n",
      "Top 100 EBooks last 7 days\n",
      "Top 100 Authors last 7 days\n",
      "Top 100 EBooks last 30 days\n",
      "Top 100 Authors last 30 days\n",
      "\n",
      "\n",
      "Top 100 EBooks yesterday\n",
      "\n",
      "Pride and Prejudice by Jane Austen (2421)\n",
      "Romeo and Juliet by William Shakespeare (2336)\n",
      "Moby Dick; Or, The Whale by Herman Melville (2327)\n",
      "Frankenstein; Or, The Modern Prometheus by Mary Wollstonecraft Shelley (2114)\n",
      "A Room with a View by E. M.  Forster (1693)\n",
      "Middlemarch by George Eliot (1688)\n",
      "The Complete Works of William Shakespeare by William Shakespeare (1643)\n",
      "Little Women; Or, Meg, Jo, Beth, and Amy by Louisa May Alcott (1622)\n",
      "The Enchanted April by Elizabeth Von Arnim (1501)\n",
      "The Blue Castle: a novel by L. M.  Montgomery (1469)\n",
      "The Adventures of Ferdinand Count Fathom — Complete by T.  Smollett (1378)\n",
      "Cranford by Elizabeth Cleghorn Gaskell (1353)\n",
      "The Adventures of Roderick Random by T.  Smollett (1351)\n",
      "The Expedition of Humphry Clinker by T.  Smollett (1348)\n",
      "History of Tom Jones, a Foundling by Henry Fielding (1323)\n"
     ]
    }
   ],
   "source": [
    "# Getting the content of the soup object\n",
    "text_content = soup.text\n",
    "\n",
    "# Printing the first 2000 characters\n",
    "print(text_content[:2000])"
   ]
  },
  {
   "cell_type": "raw",
   "id": "e240d453",
   "metadata": {},
   "source": [
    "10. Search in the extracted text (using regular expression) from the `soup` object to find the names of top 100 Ebooks (Yesterday's rank)"
   ]
  },
  {
   "cell_type": "code",
   "execution_count": 13,
   "id": "1d3a0b95",
   "metadata": {},
   "outputs": [],
   "source": [
    "# Let's create an empty list to store the books name\n",
    "books_name = []"
   ]
  },
  {
   "cell_type": "raw",
   "id": "53789a91",
   "metadata": {},
   "source": [
    "11. Create a starting index. It should point at the text \"Top 100 Ebooks yesterday\". Use `splitlines()` method of the `soup.text`. It splits the lines of the text of the `soup` object."
   ]
  },
  {
   "cell_type": "code",
   "execution_count": 14,
   "id": "72d0a9f4",
   "metadata": {},
   "outputs": [],
   "source": [
    "# Creating a starting index that will point at \"Top 100 EBooks yesterday\"\n",
    "# Getting the content of the soup object\n",
    "text_content = soup.text\n",
    "starting_index = text_content.splitlines().index('Top 100 EBooks yesterday')"
   ]
  },
  {
   "cell_type": "raw",
   "id": "c118b24d",
   "metadata": {},
   "source": [
    "12. Loop 1-100 to add the strings of next 100 lines to this temporary list. Hint: splitlines method"
   ]
  },
  {
   "cell_type": "code",
   "execution_count": 15,
   "id": "7671537c",
   "metadata": {},
   "outputs": [
    {
     "data": {
      "text/plain": [
       "100"
      ]
     },
     "execution_count": 15,
     "metadata": {},
     "output_type": "execute_result"
    }
   ],
   "source": [
    "# Loop 100 times to add next 100 lines (or less if fewer lines exist)\n",
    "# The list of books start at + 11 index after the first \"Top 100 EBooks yesterday\"\n",
    "for i in range(100):\n",
    "    books_name.append(soup.text.splitlines()[starting_index + 11 + i])\n",
    "\n",
    "# Let's check the size of the list books_name\n",
    "len(books_name)"
   ]
  },
  {
   "cell_type": "raw",
   "id": "ae0c5818",
   "metadata": {},
   "source": [
    "13. Use regular expression to extract only text from the name strings and append to an empty list\n",
    "Hint: Use `match` and `span` to find indices and use them"
   ]
  },
  {
   "cell_type": "code",
   "execution_count": 16,
   "id": "3cdb2564",
   "metadata": {},
   "outputs": [],
   "source": [
    "# Regular expression to extract text from the name string\n",
    "books_name_regex = r\"([A-Za-z]+(?:\\s[A-Z]\\.)?(?:\\s[A-Za-z]+)*)\"\n",
    "\n",
    "# Initializing an empty list to store the titles\n",
    "books_titles = []\n",
    "\n",
    "# Loop through the list and apply the regex\n",
    "for book in books_name:\n",
    "    match = re.match(books_name_regex, book)\n",
    "    if match:\n",
    "        start, end = match.span()\n",
    "        book_title = book[start:end]\n",
    "        books_titles.append(book_title)"
   ]
  },
  {
   "cell_type": "code",
   "execution_count": 17,
   "id": "f74aba97",
   "metadata": {},
   "outputs": [
    {
     "name": "stdout",
     "output_type": "stream",
     "text": [
      "Top 100 eBooks from Gutenberg\n",
      "\n",
      "Romeo and Juliet by William Shakespeare\n",
      "Moby Dick\n",
      "Frankenstein\n",
      "A Room with a View by E\n",
      "Middlemarch by George Eliot\n",
      "The Complete Works of William Shakespeare by William Shakespeare\n",
      "Little Women\n",
      "The Enchanted April by Elizabeth Von Arnim\n",
      "The Blue Castle\n",
      "The Adventures of Ferdinand Count Fathom\n",
      "Cranford by Elizabeth Cleghorn Gaskell\n",
      "The Adventures of Roderick Random by T\n",
      "The Expedition of Humphry Clinker by T\n",
      "History of Tom Jones\n",
      "Twenty years after by Alexandre Dumas and Auguste Maquet\n",
      "My Life\n",
      "Alice\n",
      "The Great Gatsby by F\n",
      "The Picture of Dorian Gray by Oscar Wilde\n",
      "A Tale of Two Cities by Charles Dickens\n",
      "The Importance of Being Earnest\n",
      "Metamorphosis by Franz Kafka\n",
      "Dracula by Bram Stoker\n",
      "Crime and Punishment by Fyodor Dostoyevsky\n",
      "A Doll\n",
      "Heartbreak House by Bernard Shaw\n",
      "The Brothers Karamazov by Fyodor Dostoyevsky\n",
      "Adventures of Huckleberry Finn by Mark Twain\n",
      "A Christmas Carol in Prose\n",
      "The Strange Case of Dr\n",
      "The disciple by Paul Bourget\n",
      "Don Quijote by Miguel de Cervantes Saavedra\n",
      "The Scarlet Letter by Nathaniel Hawthorne\n",
      "The Yellow Wallpaper by Charlotte Perkins Gilman\n",
      "Great Expectations by Charles Dickens\n",
      "Lives of the electricians\n",
      "A Modest Proposal by Jonathan Swift\n",
      "The Adventures of Sherlock Holmes by Arthur Conan Doyle\n",
      "The Adventures of Tom Sawyer\n",
      "Ulysses by James Joyce\n",
      "The Odyssey by Homer\n",
      "Grimms\n",
      "A Nonsense Anthology\n",
      "Jane Eyre\n",
      "War and Peace by graf Leo Tolstoy\n",
      "The Iliad by Homer\n",
      "The Philippines a Century Hence by Jos\n",
      "The Outline of History\n",
      "Heart of Darkness by Joseph Conrad\n",
      "White and black lies\n",
      "The Count of Monte Cristo by Alexandre Dumas and Auguste Maquet\n",
      "Thus Spake Zarathustra\n",
      "The Kama Sutra of Vatsyayana by Vatsyayana\n",
      "Tractatus Logico\n",
      "Mohammed by Roy Floyd Dibble\n",
      "The Romance of Lust\n",
      "Wuthering Heights by Emily Bront\n",
      "Don Quixote by Miguel de Cervantes Saavedra\n",
      "Beowulf\n",
      "History for ready reference\n",
      "Anne of Green Gables by L\n",
      "Beyond Good and Evil by Friedrich Wilhelm Nietzsche\n",
      "The Prince by Niccol\n",
      "Noli Me Tangere by Jos\n",
      "Dubliners by James Joyce\n",
      "Oliver Twist by Charles Dickens\n",
      "Notes from the Underground by Fyodor Dostoyevsky\n",
      "Walden\n",
      "Winnie\n",
      "Peter Pan by J\n",
      "Emma by Jane Austen\n",
      "Little Women by Louisa May Alcott\n",
      "Treasure Island by Robert Louis Stevenson\n",
      "The divine comedy by Dante Alighieri\n",
      "The Hound of the Baskervilles by Arthur Conan Doyle\n",
      "The Souls of Black Folk by W\n",
      "Josefine Mutzenbacher by Felix Salten\n",
      "The Wonderful Wizard of Oz by L\n",
      "Leviathan by Thomas Hobbes\n",
      "Meditations by Emperor of Rome Marcus Aurelius\n",
      "A Study in Scarlet by Arthur Conan Doyle\n",
      "The War of the Worlds by H\n",
      "Novo dicion\n",
      "The Republic by Plato\n",
      "The King in Yellow by Robert W\n",
      "Les Mis\n",
      "The\n",
      "The History of the Decline and Fall of the Roman Empire by Edward Gibbon\n",
      "Anthem by Ayn Rand\n",
      "Pygmalion by Bernard Shaw\n",
      "The Prophet by Kahlil Gibran\n",
      "The Decameron of Giovanni Boccaccio by Giovanni Boccaccio\n",
      "The Reign of Greed by Jos\n",
      "The Communist Manifesto by Friedrich Engels and Karl Marx\n",
      "Calculus Made Easy by Silvanus P\n",
      "New Nick Carter weekly\n",
      "Second Treatise of Government by John Locke\n",
      "Anna Karenina by graf Leo Tolstoy\n",
      "Il diario di un viandante\n"
     ]
    }
   ],
   "source": [
    "# Print the list of books\n",
    "print('Top 100 eBooks from Gutenberg\\n')\n",
    "\n",
    "for i in range(len(books_titles)):\n",
    "    print(books_titles[i])"
   ]
  },
  {
   "cell_type": "markdown",
   "id": "f8f3984b",
   "metadata": {},
   "source": [
    "#### Assignment 2 ####"
   ]
  },
  {
   "cell_type": "raw",
   "id": "79fea903",
   "metadata": {},
   "source": [
    "2. The Data Wrangling Workshop: Activity 7.02, page 390"
   ]
  },
  {
   "cell_type": "raw",
   "id": "31ea119a",
   "metadata": {},
   "source": [
    "Building your own movie database by reading an API"
   ]
  },
  {
   "cell_type": "raw",
   "id": "23d95dd0",
   "metadata": {},
   "source": [
    "Import urllib.request, urllib.parse, urllib.error, and json"
   ]
  },
  {
   "cell_type": "code",
   "execution_count": 18,
   "id": "44b673c7",
   "metadata": {},
   "outputs": [],
   "source": [
    "# Importing the librairies\n",
    "import urllib.request, urllib.parse, urllib.error\n",
    "import json"
   ]
  },
  {
   "cell_type": "raw",
   "id": "e19c0b7b",
   "metadata": {},
   "source": [
    "Load the secret API key from a json file stored in the same folder in a variable"
   ]
  },
  {
   "cell_type": "code",
   "execution_count": 19,
   "id": "d71f5a17",
   "metadata": {},
   "outputs": [],
   "source": [
    "with open('dsc540_omdapi.json') as f:\n",
    "    keys = json.load(f)\n",
    "    myAPI = keys['myAPI']"
   ]
  },
  {
   "cell_type": "code",
   "execution_count": 20,
   "id": "f0313900",
   "metadata": {},
   "outputs": [],
   "source": [
    "# Assign the OMDB portal (http://www.omdbapi.com/?) as a string to a variable\n",
    "link = 'http://www.omdbapi.com/?'"
   ]
  },
  {
   "cell_type": "raw",
   "id": "c9a1dac2",
   "metadata": {},
   "source": [
    "Create a variable `apikey` with the last portion of the URL (\"&apikey=secretapikey\"), where `secretapikey` is your own API key"
   ]
  },
  {
   "cell_type": "code",
   "execution_count": 21,
   "id": "3a6f571c",
   "metadata": {},
   "outputs": [],
   "source": [
    "# Creating a variable apikey\n",
    "apikey = '&apikey='+myAPI"
   ]
  },
  {
   "cell_type": "raw",
   "id": "738645af",
   "metadata": {},
   "source": [
    "Write a utility function `print_json` to print the movie data from a JSON file"
   ]
  },
  {
   "cell_type": "raw",
   "id": "c2b0a7d9",
   "metadata": {},
   "source": [
    "The key of a sample of json file provided after we register to the website shows that the keys are:\n",
    "'Title', 'Year', 'Rated', 'Released', 'Runtime', 'Genre', 'Director', 'Writer', 'Actors', 'Plot', 'Language','Country', 'Awards', 'Ratings', 'Metascore', 'imdbRating', 'imdbVotes', 'imdbID', 'Type', 'DVD', 'BoxOffice','Production','Website', 'Response'"
   ]
  },
  {
   "cell_type": "code",
   "execution_count": 22,
   "id": "b85e35ac",
   "metadata": {},
   "outputs": [],
   "source": [
    "def print_json(data):\n",
    "    # List of the key in the json file\n",
    "    keys = [\n",
    "      \"Title\", \"Year\", \"Rated\", \"Released\", \"Runtime\", \"Genre\", \"Director\",\n",
    "      \"Writer\", \"Actors\", \"Plot\", \"Language\", \"Country\", \"Awards\", \"Ratings\",\n",
    "      \"Metascore\", \"imdbRating\", \"imdbVotes\", \"imdbID\", \"Type\", \"DVD\", \"BoxOffice\",\n",
    "      \"Production\", \"Website\", \"Response\"\n",
    "  ]\n",
    "    # Print each key-value pair\n",
    "    for key in keys:\n",
    "        if key in data:\n",
    "            print(f\"{key}: {data[key]}\")\n"
   ]
  },
  {
   "cell_type": "raw",
   "id": "cad8e8e3",
   "metadata": {},
   "source": [
    "Write a utility function to download a poster of the movie based on the information from the jason dataset and save in your local folder"
   ]
  },
  {
   "cell_type": "code",
   "execution_count": 23,
   "id": "08ad25a8",
   "metadata": {},
   "outputs": [],
   "source": [
    "# Function to download a poster\n",
    "def download_poster(movie_data, save_dir=\".\"):\n",
    "\n",
    "    # Let's check if the data has a Poster key\n",
    "    if \"Poster\" in movie_data:\n",
    "        poster_url = movie_data[\"Poster\"]\n",
    "\n",
    "        # Displaying a message to say we are downloading the poster along with the url\n",
    "        print(f\"Downloading poster from: {poster_url}\")\n",
    "\n",
    "        # Let's extract the file name\n",
    "        filename = poster_url.split(\"/\")[-1]\n",
    "\n",
    "        # Assigning the path to save_path\n",
    "        save_path = f\"{save_dir}/{filename}\"\n",
    "\n",
    "        # Display saving poster message\n",
    "        print(f\"Saving poster to: {save_path}\")\n",
    "    \n",
    "    else:\n",
    "        print(\"There is no url to download the poster from the data provided\")"
   ]
  },
  {
   "cell_type": "raw",
   "id": "49198af5",
   "metadata": {},
   "source": [
    "Write a utility function `search_movie` to search a movie by its name"
   ]
  },
  {
   "cell_type": "code",
   "execution_count": 24,
   "id": "462659ee",
   "metadata": {},
   "outputs": [],
   "source": [
    "def search_movie(movie_name):\n",
    "    try:\n",
    "        # Let's construct the format of the url\n",
    "        url = f\"{link}{urllib.parse.urlencode({'t': movie_name})}{apikey}\"\n",
    "        \n",
    "        # Displaying a progress message and the url we are using to download the movie data\n",
    "        print(f'Retrieving data for \"{movie_name}\"')\n",
    "        print(f'URL: {url}\\n')\n",
    "\n",
    "        # Downloading the movie data\n",
    "        with urllib.request.urlopen(url) as response:\n",
    "            movie_data = json.loads(response.read())\n",
    "\n",
    "        # Checking if the response is successful\n",
    "        if movie_data.get(\"Response\") == \"True\":\n",
    "            print(\"Movie Data:\")\n",
    "            print_json(movie_data)\n",
    "            \n",
    "            # Add a blank line\n",
    "            print()\n",
    "\n",
    "            # Downloading poster if available\n",
    "            poster_url = movie_data.get(\"Poster\", \"N/A\")\n",
    "            \n",
    "            if poster_url != \"N/A\":\n",
    "                download_poster(movie_data)\n",
    "            else:\n",
    "                print(\"There is no poster available for this movie.\\n\")\n",
    "        else:\n",
    "            print(f\"Error: {movie_data.get('Error', 'Unknown Error')}\\n\")\n",
    "\n",
    "    except urllib.error.URLError as e:\n",
    "        print(f\"Error connecting to the movie database: {e}\\n\")"
   ]
  },
  {
   "cell_type": "raw",
   "id": "81235e77",
   "metadata": {},
   "source": [
    "Test search_movie function by entering Titanic"
   ]
  },
  {
   "cell_type": "code",
   "execution_count": 25,
   "id": "8583677c",
   "metadata": {},
   "outputs": [
    {
     "name": "stdout",
     "output_type": "stream",
     "text": [
      "Retrieving data for \"Titanic\"\n",
      "URL: http://www.omdbapi.com/?t=Titanic&apikey=3e78897f\n",
      "\n",
      "Movie Data:\n",
      "Title: Titanic\n",
      "Year: 1997\n",
      "Rated: PG-13\n",
      "Released: 19 Dec 1997\n",
      "Runtime: 194 min\n",
      "Genre: Drama, Romance\n",
      "Director: James Cameron\n",
      "Writer: James Cameron\n",
      "Actors: Leonardo DiCaprio, Kate Winslet, Billy Zane\n",
      "Plot: A seventeen-year-old aristocrat falls in love with a kind but poor artist aboard the luxurious, ill-fated R.M.S. Titanic.\n",
      "Language: English, Swedish, Italian, French\n",
      "Country: United States, Mexico\n",
      "Awards: Won 11 Oscars. 126 wins & 83 nominations total\n",
      "Ratings: [{'Source': 'Internet Movie Database', 'Value': '7.9/10'}, {'Source': 'Rotten Tomatoes', 'Value': '88%'}, {'Source': 'Metacritic', 'Value': '75/100'}]\n",
      "Metascore: 75\n",
      "imdbRating: 7.9\n",
      "imdbVotes: 1,280,439\n",
      "imdbID: tt0120338\n",
      "Type: movie\n",
      "DVD: 01 Jun 2014\n",
      "BoxOffice: $674,292,608\n",
      "Production: N/A\n",
      "Website: N/A\n",
      "Response: True\n",
      "\n",
      "Downloading poster from: https://m.media-amazon.com/images/M/MV5BMDdmZGU3NDQtY2E5My00ZTliLWIzOTUtMTY4ZGI1YjdiNjk3XkEyXkFqcGdeQXVyNTA4NzY1MzY@._V1_SX300.jpg\n",
      "Saving poster to: ./MV5BMDdmZGU3NDQtY2E5My00ZTliLWIzOTUtMTY4ZGI1YjdiNjk3XkEyXkFqcGdeQXVyNTA4NzY1MzY@._V1_SX300.jpg\n"
     ]
    }
   ],
   "source": [
    "# Testing the function\n",
    "search_movie(\"Titanic\")"
   ]
  },
  {
   "cell_type": "raw",
   "id": "a20c8861",
   "metadata": {},
   "source": [
    "Test search_movie function by entering Random_error"
   ]
  },
  {
   "cell_type": "code",
   "execution_count": 26,
   "id": "2e34087e",
   "metadata": {},
   "outputs": [
    {
     "name": "stdout",
     "output_type": "stream",
     "text": [
      "Retrieving data for \"Random_Error\"\n",
      "URL: http://www.omdbapi.com/?t=Random_Error&apikey=3e78897f\n",
      "\n",
      "Error: Movie not found!\n",
      "\n"
     ]
    }
   ],
   "source": [
    "# Testing the function\n",
    "search_movie(\"Random_Error\")"
   ]
  },
  {
   "cell_type": "markdown",
   "id": "412f7e8c",
   "metadata": {},
   "source": [
    "#### Assignment 3"
   ]
  },
  {
   "cell_type": "raw",
   "id": "4a93e305",
   "metadata": {},
   "source": [
    "3. Connect to an API of your choice and do a simple data pull - you can use any API - except the API you have selected for your project.\n",
    "Connect to the API and do a \"Get\" call/operation on the API to return a subset of data from the API"
   ]
  },
  {
   "cell_type": "raw",
   "id": "019412aa",
   "metadata": {},
   "source": [
    "For this assignment we will use themeaiDB api which offers a collection or recipes from various cusine."
   ]
  },
  {
   "cell_type": "code",
   "execution_count": 27,
   "id": "5c575ebd",
   "metadata": {},
   "outputs": [],
   "source": [
    "import requests\n",
    "\n",
    "# Function to get the meal info from the api\n",
    "\n",
    "def get_meal_info(meal_name):\n",
    "    # url to get the api\n",
    "    url = f\"https://www.themealdb.com/api/json/v1/1/search.php?s={meal_name}\"\n",
    "\n",
    "    try:\n",
    "        # Sending a GET request to the API\n",
    "        response = requests.get(url)\n",
    "        data = response.json()\n",
    "\n",
    "        # Let's check if data contains the meal information\n",
    "        if \"meals\" in data and data[\"meals\"]:\n",
    "            # Let's extract information we need from the api\n",
    "            meal_info = {\n",
    "                \"Meal Name\": data[\"meals\"][0][\"strMeal\"],\n",
    "                \"Category\": data[\"meals\"][0][\"strCategory\"],\n",
    "                \"Area\": data[\"meals\"][0][\"strArea\"],\n",
    "                \"Instructions\": data[\"meals\"][0][\"strInstructions\"],\n",
    "                \"Ingredients\": [data[\"meals\"][0][f\"strIngredient{i}\"] for i in range(1, 21) if data[\"meals\"][0][f\"strIngredient{i}\"]]\n",
    "            }\n",
    "            \n",
    "            # Printing the meal information\n",
    "            print(\"Meal Information:\")\n",
    "            print('******************')\n",
    "            print(f\"Meal Name: {meal_info['Meal Name']}\")\n",
    "            print(f\"Category: {meal_info['Category']}\")\n",
    "            print(f\"Area: {meal_info['Area']}\")\n",
    "            print(f\"Instructions:\\n{meal_info['Instructions']}\")\n",
    "            print(\"Ingredients:\")\n",
    "            for ingredient in meal_info[\"Ingredients\"]:\n",
    "                print(f\"- {ingredient}\")\n",
    "        else:\n",
    "            # Print a message if no info is available\n",
    "            print(f\"No information available for the meal: {meal_name}\")\n",
    "\n",
    "         # Handling errors \n",
    "    except Error as e:\n",
    "        return f\"There was an error: {e}\""
   ]
  },
  {
   "cell_type": "code",
   "execution_count": 28,
   "id": "d05cea3b",
   "metadata": {},
   "outputs": [
    {
     "name": "stdout",
     "output_type": "stream",
     "text": [
      "Meal Information:\n",
      "******************\n",
      "Meal Name: Big Mac\n",
      "Category: Beef\n",
      "Area: American\n",
      "Instructions:\n",
      "For the Big Mac sauce, combine all the ingredients in a bowl, season with salt and chill until ready to use.\r\n",
      "2. To make the patties, season the mince with salt and pepper and form into 4 balls using about 1/3 cup mince each. Place each onto a square of baking paper and flatten to form into four x 15cm circles. Heat oil in a large frypan over high heat. In 2 batches, cook beef patties for 1-2 minutes each side until lightly charred and cooked through. Remove from heat and keep warm. Repeat with remaining two patties.\r\n",
      "3. Carefully slice each burger bun into three acrossways, then lightly toast.\r\n",
      "4. To assemble the burgers, spread a little Big Mac sauce over the bottom base. Top with some chopped onion, shredded lettuce, slice of cheese, beef patty and some pickle slices. Top with the middle bun layer, and spread with more Big Mac sauce, onion, lettuce, pickles, beef patty and then finish with more sauce. Top with burger lid to serve.\r\n",
      "5. After waiting half an hour for your food to settle, go for a jog.\n",
      "Ingredients:\n",
      "- Minced Beef\n",
      "- Olive Oil\n",
      "- Sesame Seed Burger Buns\n",
      "- Onion\n",
      "- Iceberg Lettuce\n",
      "- Cheese\n",
      "- Dill Pickles\n",
      "- Mayonnaise\n",
      "- White Wine Vinegar\n",
      "- Pepper\n",
      "- Mustard\n",
      "- Onion Salt\n",
      "- Garlic Powder\n",
      "- Paprika\n"
     ]
    }
   ],
   "source": [
    "# Testing the function\n",
    "meal_name = 'Big Mac'\n",
    "get_meal_info(meal_name)"
   ]
  },
  {
   "cell_type": "code",
   "execution_count": 29,
   "id": "aa4d6bd3",
   "metadata": {},
   "outputs": [
    {
     "name": "stdout",
     "output_type": "stream",
     "text": [
      "Meal Information:\n",
      "******************\n",
      "Meal Name: Mediterranean Pasta Salad\n",
      "Category: Seafood\n",
      "Area: Italian\n",
      "Instructions:\n",
      "Bring a large saucepan of salted water to the boil\r\n",
      "Add the pasta, stir once and cook for about 10 minutes or as directed on the packet.\r\n",
      "Meanwhile, wash the tomatoes and cut into quarters. Slice the olives. Wash the basil.\r\n",
      "Put the tomatoes into a salad bowl and tear the basil leaves over them. Add a tablespoon of olive oil and mix.\r\n",
      "When the pasta is ready, drain into a colander and run cold water over it to cool it quickly.\r\n",
      "Toss the pasta into the salad bowl with the tomatoes and basil.\r\n",
      "Add the sliced olives, drained mozzarella balls, and chunks of tuna. Mix well and let the salad rest for at least half an hour to allow the flavours to mingle.\r\n",
      "Sprinkle the pasta with a generous grind of black pepper and drizzle with the remaining olive oil just before serving.\n",
      "Ingredients:\n",
      "- mozzarella balls\n",
      "- baby plum tomatoes\n",
      "- fresh basil\n",
      "- farfalle\n",
      "- extra virgin olive oil\n",
      "- Green Olives\n",
      "- tuna\n",
      "- salt\n",
      "- pepper\n"
     ]
    }
   ],
   "source": [
    "meal_name = 'Pasta'\n",
    "get_meal_info(meal_name)"
   ]
  },
  {
   "cell_type": "code",
   "execution_count": 30,
   "id": "308b0e48",
   "metadata": {},
   "outputs": [
    {
     "name": "stdout",
     "output_type": "stream",
     "text": [
      "No information available for the meal: Random Meal\n"
     ]
    }
   ],
   "source": [
    "meal_name = 'Random Meal'\n",
    "get_meal_info(meal_name)"
   ]
  },
  {
   "cell_type": "markdown",
   "id": "767e8a31",
   "metadata": {},
   "source": [
    "#### Assignment 4"
   ]
  },
  {
   "cell_type": "raw",
   "id": "5b6a4365",
   "metadata": {},
   "source": [
    "4. Using one of the datasets provided in Weeks 7 & 8, or a dataset of your own, choose 3 of the following visualizations to complete. You must submit via PDF along with your code if you are using Pycharm, otherwise if you submit a notebook file make sure your plots are visible in your notebook or PDF that you submit. You are free to use Matplotlib, Seaborn or another package if you prefer.\n",
    "a. Line\n",
    "b. Scatter\n",
    "c. Bar\n",
    "d. Histogram\n",
    "e. Density Plot\n",
    "f. Pie Chart"
   ]
  },
  {
   "cell_type": "raw",
   "id": "8b905607",
   "metadata": {},
   "source": [
    "For this assignment, we will use a dataset called titanic.csv.\n",
    "It contains information about passengers on the titanic, their age, survival status, sex and class.\n",
    "We have downloaded the dataset from Kaggle and uploaded it to our github repository.\n",
    "The link to the dataset is https://raw.githubusercontent.com/kueyram/DSC540/main/datasets/titanic.csv"
   ]
  },
  {
   "cell_type": "code",
   "execution_count": 31,
   "id": "6e372196",
   "metadata": {},
   "outputs": [
    {
     "data": {
      "text/plain": [
       "(891, 12)"
      ]
     },
     "execution_count": 31,
     "metadata": {},
     "output_type": "execute_result"
    }
   ],
   "source": [
    "# Importing the required librairies\n",
    "import pandas as pd\n",
    "\n",
    "# Link to the dataset\n",
    "link = 'https://raw.githubusercontent.com/kueyram/DSC540/main/datasets/titanic.csv'\n",
    "# Let's read the csv into a panda dataframe\n",
    "titanic_data = pd.read_csv(link, sep = ',')\n",
    "\n",
    "# Let's check the size of the dataframe\n",
    "titanic_data.shape"
   ]
  },
  {
   "cell_type": "code",
   "execution_count": 32,
   "id": "c6b24ec6",
   "metadata": {},
   "outputs": [
    {
     "data": {
      "text/plain": [
       "Index(['PassengerId', 'Survived', 'Pclass', 'Name', 'Sex', 'Age', 'SibSp',\n",
       "       'Parch', 'Ticket', 'Fare', 'Cabin', 'Embarked'],\n",
       "      dtype='object')"
      ]
     },
     "execution_count": 32,
     "metadata": {},
     "output_type": "execute_result"
    }
   ],
   "source": [
    "# Let's see the columns of the dataset\n",
    "titanic_data.columns"
   ]
  },
  {
   "cell_type": "code",
   "execution_count": 33,
   "id": "d3f0751d",
   "metadata": {},
   "outputs": [
    {
     "data": {
      "text/html": [
       "<div>\n",
       "<style scoped>\n",
       "    .dataframe tbody tr th:only-of-type {\n",
       "        vertical-align: middle;\n",
       "    }\n",
       "\n",
       "    .dataframe tbody tr th {\n",
       "        vertical-align: top;\n",
       "    }\n",
       "\n",
       "    .dataframe thead th {\n",
       "        text-align: right;\n",
       "    }\n",
       "</style>\n",
       "<table border=\"1\" class=\"dataframe\">\n",
       "  <thead>\n",
       "    <tr style=\"text-align: right;\">\n",
       "      <th></th>\n",
       "      <th>PassengerId</th>\n",
       "      <th>Survived</th>\n",
       "      <th>Pclass</th>\n",
       "      <th>Name</th>\n",
       "      <th>Sex</th>\n",
       "      <th>Age</th>\n",
       "      <th>SibSp</th>\n",
       "      <th>Parch</th>\n",
       "      <th>Ticket</th>\n",
       "      <th>Fare</th>\n",
       "      <th>Cabin</th>\n",
       "      <th>Embarked</th>\n",
       "    </tr>\n",
       "  </thead>\n",
       "  <tbody>\n",
       "    <tr>\n",
       "      <th>128</th>\n",
       "      <td>129</td>\n",
       "      <td>1</td>\n",
       "      <td>3</td>\n",
       "      <td>Peter, Miss. Anna</td>\n",
       "      <td>female</td>\n",
       "      <td>NaN</td>\n",
       "      <td>1</td>\n",
       "      <td>1</td>\n",
       "      <td>2668</td>\n",
       "      <td>22.3583</td>\n",
       "      <td>F E69</td>\n",
       "      <td>C</td>\n",
       "    </tr>\n",
       "    <tr>\n",
       "      <th>613</th>\n",
       "      <td>614</td>\n",
       "      <td>0</td>\n",
       "      <td>3</td>\n",
       "      <td>Horgan, Mr. John</td>\n",
       "      <td>male</td>\n",
       "      <td>NaN</td>\n",
       "      <td>0</td>\n",
       "      <td>0</td>\n",
       "      <td>370377</td>\n",
       "      <td>7.7500</td>\n",
       "      <td>NaN</td>\n",
       "      <td>Q</td>\n",
       "    </tr>\n",
       "    <tr>\n",
       "      <th>242</th>\n",
       "      <td>243</td>\n",
       "      <td>0</td>\n",
       "      <td>2</td>\n",
       "      <td>Coleridge, Mr. Reginald Charles</td>\n",
       "      <td>male</td>\n",
       "      <td>29.0</td>\n",
       "      <td>0</td>\n",
       "      <td>0</td>\n",
       "      <td>W./C. 14263</td>\n",
       "      <td>10.5000</td>\n",
       "      <td>NaN</td>\n",
       "      <td>S</td>\n",
       "    </tr>\n",
       "    <tr>\n",
       "      <th>560</th>\n",
       "      <td>561</td>\n",
       "      <td>0</td>\n",
       "      <td>3</td>\n",
       "      <td>Morrow, Mr. Thomas Rowan</td>\n",
       "      <td>male</td>\n",
       "      <td>NaN</td>\n",
       "      <td>0</td>\n",
       "      <td>0</td>\n",
       "      <td>372622</td>\n",
       "      <td>7.7500</td>\n",
       "      <td>NaN</td>\n",
       "      <td>Q</td>\n",
       "    </tr>\n",
       "    <tr>\n",
       "      <th>640</th>\n",
       "      <td>641</td>\n",
       "      <td>0</td>\n",
       "      <td>3</td>\n",
       "      <td>Jensen, Mr. Hans Peder</td>\n",
       "      <td>male</td>\n",
       "      <td>20.0</td>\n",
       "      <td>0</td>\n",
       "      <td>0</td>\n",
       "      <td>350050</td>\n",
       "      <td>7.8542</td>\n",
       "      <td>NaN</td>\n",
       "      <td>S</td>\n",
       "    </tr>\n",
       "    <tr>\n",
       "      <th>487</th>\n",
       "      <td>488</td>\n",
       "      <td>0</td>\n",
       "      <td>1</td>\n",
       "      <td>Kent, Mr. Edward Austin</td>\n",
       "      <td>male</td>\n",
       "      <td>58.0</td>\n",
       "      <td>0</td>\n",
       "      <td>0</td>\n",
       "      <td>11771</td>\n",
       "      <td>29.7000</td>\n",
       "      <td>B37</td>\n",
       "      <td>C</td>\n",
       "    </tr>\n",
       "    <tr>\n",
       "      <th>504</th>\n",
       "      <td>505</td>\n",
       "      <td>1</td>\n",
       "      <td>1</td>\n",
       "      <td>Maioni, Miss. Roberta</td>\n",
       "      <td>female</td>\n",
       "      <td>16.0</td>\n",
       "      <td>0</td>\n",
       "      <td>0</td>\n",
       "      <td>110152</td>\n",
       "      <td>86.5000</td>\n",
       "      <td>B79</td>\n",
       "      <td>S</td>\n",
       "    </tr>\n",
       "    <tr>\n",
       "      <th>617</th>\n",
       "      <td>618</td>\n",
       "      <td>0</td>\n",
       "      <td>3</td>\n",
       "      <td>Lobb, Mrs. William Arthur (Cordelia K Stanlick)</td>\n",
       "      <td>female</td>\n",
       "      <td>26.0</td>\n",
       "      <td>1</td>\n",
       "      <td>0</td>\n",
       "      <td>A/5. 3336</td>\n",
       "      <td>16.1000</td>\n",
       "      <td>NaN</td>\n",
       "      <td>S</td>\n",
       "    </tr>\n",
       "    <tr>\n",
       "      <th>649</th>\n",
       "      <td>650</td>\n",
       "      <td>1</td>\n",
       "      <td>3</td>\n",
       "      <td>Stanley, Miss. Amy Zillah Elsie</td>\n",
       "      <td>female</td>\n",
       "      <td>23.0</td>\n",
       "      <td>0</td>\n",
       "      <td>0</td>\n",
       "      <td>CA. 2314</td>\n",
       "      <td>7.5500</td>\n",
       "      <td>NaN</td>\n",
       "      <td>S</td>\n",
       "    </tr>\n",
       "    <tr>\n",
       "      <th>412</th>\n",
       "      <td>413</td>\n",
       "      <td>1</td>\n",
       "      <td>1</td>\n",
       "      <td>Minahan, Miss. Daisy E</td>\n",
       "      <td>female</td>\n",
       "      <td>33.0</td>\n",
       "      <td>1</td>\n",
       "      <td>0</td>\n",
       "      <td>19928</td>\n",
       "      <td>90.0000</td>\n",
       "      <td>C78</td>\n",
       "      <td>Q</td>\n",
       "    </tr>\n",
       "  </tbody>\n",
       "</table>\n",
       "</div>"
      ],
      "text/plain": [
       "     PassengerId  Survived  Pclass  \\\n",
       "128          129         1       3   \n",
       "613          614         0       3   \n",
       "242          243         0       2   \n",
       "560          561         0       3   \n",
       "640          641         0       3   \n",
       "487          488         0       1   \n",
       "504          505         1       1   \n",
       "617          618         0       3   \n",
       "649          650         1       3   \n",
       "412          413         1       1   \n",
       "\n",
       "                                                Name     Sex   Age  SibSp  \\\n",
       "128                                Peter, Miss. Anna  female   NaN      1   \n",
       "613                                 Horgan, Mr. John    male   NaN      0   \n",
       "242                  Coleridge, Mr. Reginald Charles    male  29.0      0   \n",
       "560                         Morrow, Mr. Thomas Rowan    male   NaN      0   \n",
       "640                           Jensen, Mr. Hans Peder    male  20.0      0   \n",
       "487                          Kent, Mr. Edward Austin    male  58.0      0   \n",
       "504                            Maioni, Miss. Roberta  female  16.0      0   \n",
       "617  Lobb, Mrs. William Arthur (Cordelia K Stanlick)  female  26.0      1   \n",
       "649                  Stanley, Miss. Amy Zillah Elsie  female  23.0      0   \n",
       "412                           Minahan, Miss. Daisy E  female  33.0      1   \n",
       "\n",
       "     Parch       Ticket     Fare  Cabin Embarked  \n",
       "128      1         2668  22.3583  F E69        C  \n",
       "613      0       370377   7.7500    NaN        Q  \n",
       "242      0  W./C. 14263  10.5000    NaN        S  \n",
       "560      0       372622   7.7500    NaN        Q  \n",
       "640      0       350050   7.8542    NaN        S  \n",
       "487      0        11771  29.7000    B37        C  \n",
       "504      0       110152  86.5000    B79        S  \n",
       "617      0    A/5. 3336  16.1000    NaN        S  \n",
       "649      0     CA. 2314   7.5500    NaN        S  \n",
       "412      0        19928  90.0000    C78        Q  "
      ]
     },
     "execution_count": 33,
     "metadata": {},
     "output_type": "execute_result"
    }
   ],
   "source": [
    "# Let's view 10 random rows from the dataset\n",
    "titanic_data.sample(n=10)"
   ]
  },
  {
   "cell_type": "raw",
   "id": "0bf80308",
   "metadata": {},
   "source": [
    "For this assignment, we are going to remove the columns we do not need for the visualizations\n",
    "We are going to remove Name, SibSp ( number of siblings or spouses aboard the Titanic), Parch (number of parents or children aboard the Titanic), Ticket (ticket number of the passenger), Fare (Ticket price paid by the passenger)"
   ]
  },
  {
   "cell_type": "code",
   "execution_count": 34,
   "id": "b8642b5e",
   "metadata": {},
   "outputs": [
    {
     "data": {
      "text/html": [
       "<div>\n",
       "<style scoped>\n",
       "    .dataframe tbody tr th:only-of-type {\n",
       "        vertical-align: middle;\n",
       "    }\n",
       "\n",
       "    .dataframe tbody tr th {\n",
       "        vertical-align: top;\n",
       "    }\n",
       "\n",
       "    .dataframe thead th {\n",
       "        text-align: right;\n",
       "    }\n",
       "</style>\n",
       "<table border=\"1\" class=\"dataframe\">\n",
       "  <thead>\n",
       "    <tr style=\"text-align: right;\">\n",
       "      <th></th>\n",
       "      <th>Survived</th>\n",
       "      <th>Pclass</th>\n",
       "      <th>Sex</th>\n",
       "      <th>Age</th>\n",
       "      <th>Embarked</th>\n",
       "    </tr>\n",
       "  </thead>\n",
       "  <tbody>\n",
       "    <tr>\n",
       "      <th>691</th>\n",
       "      <td>1</td>\n",
       "      <td>3</td>\n",
       "      <td>female</td>\n",
       "      <td>4.0</td>\n",
       "      <td>C</td>\n",
       "    </tr>\n",
       "    <tr>\n",
       "      <th>634</th>\n",
       "      <td>0</td>\n",
       "      <td>3</td>\n",
       "      <td>female</td>\n",
       "      <td>9.0</td>\n",
       "      <td>S</td>\n",
       "    </tr>\n",
       "    <tr>\n",
       "      <th>427</th>\n",
       "      <td>1</td>\n",
       "      <td>2</td>\n",
       "      <td>female</td>\n",
       "      <td>19.0</td>\n",
       "      <td>S</td>\n",
       "    </tr>\n",
       "    <tr>\n",
       "      <th>440</th>\n",
       "      <td>1</td>\n",
       "      <td>2</td>\n",
       "      <td>female</td>\n",
       "      <td>45.0</td>\n",
       "      <td>S</td>\n",
       "    </tr>\n",
       "    <tr>\n",
       "      <th>403</th>\n",
       "      <td>0</td>\n",
       "      <td>3</td>\n",
       "      <td>male</td>\n",
       "      <td>28.0</td>\n",
       "      <td>S</td>\n",
       "    </tr>\n",
       "    <tr>\n",
       "      <th>331</th>\n",
       "      <td>0</td>\n",
       "      <td>1</td>\n",
       "      <td>male</td>\n",
       "      <td>45.5</td>\n",
       "      <td>S</td>\n",
       "    </tr>\n",
       "    <tr>\n",
       "      <th>439</th>\n",
       "      <td>0</td>\n",
       "      <td>2</td>\n",
       "      <td>male</td>\n",
       "      <td>31.0</td>\n",
       "      <td>S</td>\n",
       "    </tr>\n",
       "    <tr>\n",
       "      <th>534</th>\n",
       "      <td>0</td>\n",
       "      <td>3</td>\n",
       "      <td>female</td>\n",
       "      <td>30.0</td>\n",
       "      <td>S</td>\n",
       "    </tr>\n",
       "    <tr>\n",
       "      <th>319</th>\n",
       "      <td>1</td>\n",
       "      <td>1</td>\n",
       "      <td>female</td>\n",
       "      <td>40.0</td>\n",
       "      <td>C</td>\n",
       "    </tr>\n",
       "    <tr>\n",
       "      <th>763</th>\n",
       "      <td>1</td>\n",
       "      <td>1</td>\n",
       "      <td>female</td>\n",
       "      <td>36.0</td>\n",
       "      <td>S</td>\n",
       "    </tr>\n",
       "  </tbody>\n",
       "</table>\n",
       "</div>"
      ],
      "text/plain": [
       "     Survived  Pclass     Sex   Age Embarked\n",
       "691         1       3  female   4.0        C\n",
       "634         0       3  female   9.0        S\n",
       "427         1       2  female  19.0        S\n",
       "440         1       2  female  45.0        S\n",
       "403         0       3    male  28.0        S\n",
       "331         0       1    male  45.5        S\n",
       "439         0       2    male  31.0        S\n",
       "534         0       3  female  30.0        S\n",
       "319         1       1  female  40.0        C\n",
       "763         1       1  female  36.0        S"
      ]
     },
     "execution_count": 34,
     "metadata": {},
     "output_type": "execute_result"
    }
   ],
   "source": [
    "# List of columns to remove\n",
    "columns_remove = ('PassengerId', 'Name', 'SibSp', 'Parch', 'Ticket', 'Fare', 'Cabin')\n",
    "\n",
    "# Remove columns\n",
    "for column in columns_remove:\n",
    "    titanic_data.drop(column ,  axis=1, inplace = True)\n",
    "\n",
    "# Let's view 10 random rows from the dataset\n",
    "titanic_data.sample(n=10)   "
   ]
  },
  {
   "cell_type": "code",
   "execution_count": 35,
   "id": "d0a991b4",
   "metadata": {},
   "outputs": [
    {
     "data": {
      "text/plain": [
       "(891, 5)"
      ]
     },
     "execution_count": 35,
     "metadata": {},
     "output_type": "execute_result"
    }
   ],
   "source": [
    "titanic_data.shape"
   ]
  },
  {
   "cell_type": "raw",
   "id": "fd7176db",
   "metadata": {},
   "source": [
    "Visualization 1: Bar chart: Passengers by survived vs passengers who did not survive"
   ]
  },
  {
   "cell_type": "code",
   "execution_count": 36,
   "id": "033fdd02",
   "metadata": {},
   "outputs": [
    {
     "data": {
      "image/png": "[encoded data removed]",
      "text/plain": [
       "<Figure size 640x480 with 1 Axes>"
      ]
     },
     "metadata": {},
     "output_type": "display_data"
    }
   ],
   "source": [
    "import pandas as pd\n",
    "import matplotlib.pyplot as plt\n",
    "\n",
    "# Let's group by 'Survived' and count the number of occurences\n",
    "survival_count = titanic_data['Survived'].value_counts()\n",
    "\n",
    "# Plotting the bar chart\n",
    "survival_count = titanic_data['Survived'].value_counts()\n",
    "plt.bar(['Not Survived', 'Survived'], survival_count, color=['red', 'blue'])\n",
    "plt.xlabel('Survival Status')\n",
    "plt.ylabel('Number of passengers')\n",
    "plt.title('Number of Passengers by Survival Status')\n",
    "plt.show()\n"
   ]
  },
  {
   "cell_type": "raw",
   "id": "aa2f6b5f",
   "metadata": {},
   "source": [
    "Visualization 2: Pie chart of the class distribution"
   ]
  },
  {
   "cell_type": "code",
   "execution_count": 37,
   "id": "3fd8903f",
   "metadata": {},
   "outputs": [
    {
     "data": {
      "image/png": "[encoded data removed]",
      "text/plain": [
       "<Figure size 640x480 with 1 Axes>"
      ]
     },
     "metadata": {},
     "output_type": "display_data"
    }
   ],
   "source": [
    "# Let's group the data by Pclass column and count\n",
    "pclass_counts = titanic_data['Pclass'].value_counts()\n",
    "\n",
    "# Let's map the class numbers to class names\n",
    "class_names = {1: '1st Class', 2: '2nd Class', 3: '3rd Class'}\n",
    "\n",
    "# Let's rename the classes for the plot\n",
    "pclass_counts = pclass_counts.rename(class_names)\n",
    "\n",
    "# Plotting the pie chart\n",
    "plt.pie(pclass_counts, autopct='%1.1f%%', startangle=90, labels=None)\n",
    "\n",
    "# Legend\n",
    "plt.legend(pclass_counts.index, bbox_to_anchor=(1, 1))\n",
    "\n",
    "# Adding a title to the plot\n",
    "plt.title('Passengers Class Distribution')\n",
    "\n",
    "# Showing the plot\n",
    "plt.show()"
   ]
  },
  {
   "cell_type": "raw",
   "id": "34570df0",
   "metadata": {},
   "source": [
    "Visualization 3: Pie chart showing the proportion of male and female passengers"
   ]
  },
  {
   "cell_type": "code",
   "execution_count": 38,
   "id": "df3f64e5",
   "metadata": {},
   "outputs": [
    {
     "data": {
      "image/png": "[encoded data removed]",
      "text/plain": [
       "<Figure size 640x480 with 1 Axes>"
      ]
     },
     "metadata": {},
     "output_type": "display_data"
    }
   ],
   "source": [
    "# Pie chart showing the proportion of male and female passengers\n",
    "\n",
    "# Grouping by sex and counting the number of occurrences\n",
    "gender_count = titanic_data['Sex'].value_counts()\n",
    "\n",
    "# Plotting the chart\n",
    "plt.pie(gender_count, labels=gender_count.index, autopct='%1.1f%%', colors=['lightblue', 'pink'])\n",
    "\n",
    "# Adding a title\n",
    "plt.title('Proportion of Male and Female Passengers')\n",
    "\n",
    "# Showing the chart\n",
    "plt.show()"
   ]
  },
  {
   "cell_type": "raw",
   "id": "b49033f0",
   "metadata": {},
   "source": [
    "Visualization 4: Histogram of passengers age"
   ]
  },
  {
   "cell_type": "code",
   "execution_count": 39,
   "id": "e7e52d97",
   "metadata": {},
   "outputs": [
    {
     "data": {
      "image/png": "[encoded data removed]",
      "text/plain": [
       "<Figure size 640x480 with 1 Axes>"
      ]
     },
     "metadata": {},
     "output_type": "display_data"
    }
   ],
   "source": [
    "# Distribution of passenger ages\n",
    "plt.hist(titanic_data['Age'].dropna(), bins=20)\n",
    "\n",
    "# Adding x and y labels\n",
    "plt.xlabel('Age')\n",
    "plt.ylabel('Frequency')\n",
    "\n",
    "# Adding a title to the plot\n",
    "plt.title('Distribution of Passenger Ages')\n",
    "plt.show()"
   ]
  }
 ],
 "metadata": {
  "kernelspec": {
   "display_name": "Python 3 (ipykernel)",
   "language": "python",
   "name": "python3"
  },
  "language_info": {
   "codemirror_mode": {
    "name": "ipython",
    "version": 3
   },
   "file_extension": ".py",
   "mimetype": "text/x-python",
   "name": "python",
   "nbconvert_exporter": "python",
   "pygments_lexer": "ipython3",
   "version": "3.11.7"
  }
 },
 "nbformat": 4,
 "nbformat_minor": 5
}
