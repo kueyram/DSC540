{
 "cells": [
  {
   "cell_type": "raw",
   "id": "6e464f65-6389-4cdb-8cfe-b2750f97342b",
   "metadata": {},
   "source": [
    "DSC 540 - Data Preparation\n",
    "Weeks 5 & 6 - Data Formats/Data Structures/Data SourcesWeeks 5 & 6: Data Formats/Data Structures/Data Sources\n",
    "Eyram Kueviakoe\n",
    "04/16/2024"
   ]
  },
  {
   "cell_type": "raw",
   "id": "bea1a6fd-27f5-4199-add5-a2bf6cbe5c4c",
   "metadata": {},
   "source": [
    "1. The Data Wrangling Workshop: Activity 5.01, page 281"
   ]
  },
  {
   "cell_type": "code",
   "execution_count": 1,
   "id": "e38c4725-59a6-421a-b0b0-b7265eca448f",
   "metadata": {},
   "outputs": [],
   "source": [
    "# Importing the libraries\n",
    "import requests\n",
    "from bs4 import BeautifulSoup\n",
    "import pandas as pd"
   ]
  },
  {
   "cell_type": "code",
   "execution_count": 2,
   "id": "fc6d2344",
   "metadata": {},
   "outputs": [],
   "source": [
    "url = 'https://raw.githubusercontent.com/kueyram/DSC540/main/List%20of%20countries%20by%20GDP%20(nominal)%20-%20Wikipedia.htm'"
   ]
  },
  {
   "cell_type": "code",
   "execution_count": 3,
   "id": "8831ecb4-2ac6-40bc-8205-68a6d6aa73e3",
   "metadata": {},
   "outputs": [],
   "source": [
    "# Send a get request to the url\n",
    "response = requests.get(url)"
   ]
  },
  {
   "cell_type": "code",
   "execution_count": 4,
   "id": "3ac3d134-109f-46c4-afb9-23e7f131f323",
   "metadata": {},
   "outputs": [],
   "source": [
    "# Read the page using bs4\n",
    "soup = BeautifulSoup(response.content, 'html.parser')"
   ]
  },
  {
   "cell_type": "code",
   "execution_count": 5,
   "id": "a0015985-eca1-4722-8816-90afdff20225",
   "metadata": {},
   "outputs": [
    {
     "name": "stdout",
     "output_type": "stream",
     "text": [
      "The number of tables is  9\n"
     ]
    }
   ],
   "source": [
    "# Find the table structure you will need to deal with (how many tables there are?)\n",
    "tables = soup.find_all(\"table\")\n",
    "\n",
    "# Number of tables\n",
    "num_tables = len(tables)\n",
    "print('The number of tables is ', num_tables)"
   ]
  },
  {
   "cell_type": "code",
   "execution_count": 6,
   "id": "7cc01bf8-f230-45bb-84da-c4093217c3e6",
   "metadata": {},
   "outputs": [],
   "source": [
    "# Find the right table using bs4\n",
    "gdp_tables = soup.find(\"table\", {\"class\": '\"wikitable\"|}'})"
   ]
  },
  {
   "cell_type": "code",
   "execution_count": 7,
   "id": "20be4ee7",
   "metadata": {},
   "outputs": [],
   "source": [
    "# print (gdp_table.contents)"
   ]
  },
  {
   "cell_type": "code",
   "execution_count": 8,
   "id": "d25181af-4805-4cbd-aa13-7893f7cbb9ef",
   "metadata": {},
   "outputs": [
    {
     "name": "stdout",
     "output_type": "stream",
     "text": [
      "The number of sources is  3\n"
     ]
    }
   ],
   "source": [
    "# Separate the source names with their corresponding data\n",
    "# Let's find the first row in the table\n",
    "sources_row = gdp_tables.tbody.find_all('tr', recursive=False)[0]\n",
    "\n",
    "# Let's extract all td elements from the 1st row\n",
    "sources_list = [td for td in sources_row.find_all('td')]\n",
    "\n",
    "# Number of sources:\n",
    "num_sources = len(sources_list)\n",
    "\n",
    "# Print the result\n",
    "print('The number of sources is ', num_sources)"
   ]
  },
  {
   "cell_type": "code",
   "execution_count": 9,
   "id": "a60ffab2",
   "metadata": {},
   "outputs": [
    {
     "name": "stdout",
     "output_type": "stream",
     "text": [
      "3\n"
     ]
    }
   ],
   "source": [
    "# Data\n",
    "\n",
    "# Finding the tbody section in gdp_tables\n",
    "tbody_gdp = gdp_tables.find('tbody')\n",
    "\n",
    "# Finding all tr elements in the tbody\n",
    "rows_gdp = tbody_gdp.find_all('tr', recursive=False)\n",
    "\n",
    "# Finding the td elements in the second row\n",
    "data_cells = rows_gdp[1].find_all('td', recursive=False)\n",
    "\n",
    "print(len(data_cells))\n"
   ]
  },
  {
   "cell_type": "code",
   "execution_count": 10,
   "id": "7f86f862",
   "metadata": {},
   "outputs": [
    {
     "name": "stdout",
     "output_type": "stream",
     "text": [
      "['International Monetary Fund', 'World Bank', 'United Nations']\n"
     ]
    }
   ],
   "source": [
    "# Get the sources names from the list of sources\n",
    "# Let's initialize an empty list to store sources\n",
    "sources = []\n",
    "# Let's iterate through each elements in the sources list\n",
    "for source in sources_list:\n",
    "    # Let's find all a tag in the current source element\n",
    "    a_tags = source.findAll('a')\n",
    "    if a_tags:  # Checking if a tags are found\n",
    "        sources.append(a_tags[0].getText())  # Get text from the first a tag and add it to sources\n",
    "\n",
    "# Print the source names\n",
    "print(sources)"
   ]
  },
  {
   "cell_type": "raw",
   "id": "093159b8",
   "metadata": {},
   "source": [
    "# Separate the header and data from the data that you separated before for the 1st source only; and then create a data frame"
   ]
  },
  {
   "cell_type": "code",
   "execution_count": 11,
   "id": "cfa969e4",
   "metadata": {},
   "outputs": [
    {
     "name": "stdout",
     "output_type": "stream",
     "text": [
      "The header of the 1st table is  ['Rank', 'Country', 'GDP(US$MM)']\n"
     ]
    }
   ],
   "source": [
    "# Let's extract the header of the 1st table\n",
    "# Get the 1st element of the data_cells\n",
    "table_imf = data_cells[0]\n",
    "\n",
    "# Let's find all the th tags within the 1st cell\n",
    "th_tags = table_imf.find_all('th')\n",
    "\n",
    "# Extracting the text and removing whitespace for each th tag\n",
    "header_imf = [th.getText().strip() for th in th_tags]\n",
    "\n",
    "# Printing the results\n",
    "print('The header of the 1st table is ', header_imf)"
   ]
  },
  {
   "cell_type": "code",
   "execution_count": 12,
   "id": "a76b0829",
   "metadata": {},
   "outputs": [
    {
     "data": {
      "text/html": [
       "<div>\n",
       "<style scoped>\n",
       "    .dataframe tbody tr th:only-of-type {\n",
       "        vertical-align: middle;\n",
       "    }\n",
       "\n",
       "    .dataframe tbody tr th {\n",
       "        vertical-align: top;\n",
       "    }\n",
       "\n",
       "    .dataframe thead th {\n",
       "        text-align: right;\n",
       "    }\n",
       "</style>\n",
       "<table border=\"1\" class=\"dataframe\">\n",
       "  <thead>\n",
       "    <tr style=\"text-align: right;\">\n",
       "      <th></th>\n",
       "      <th>Rank</th>\n",
       "      <th>Country</th>\n",
       "      <th>GDP(US$MM)</th>\n",
       "    </tr>\n",
       "  </thead>\n",
       "  <tbody>\n",
       "    <tr>\n",
       "      <th>0</th>\n",
       "      <td></td>\n",
       "      <td>World[19]</td>\n",
       "      <td>79,865,481</td>\n",
       "    </tr>\n",
       "    <tr>\n",
       "      <th>1</th>\n",
       "      <td>1</td>\n",
       "      <td>United States</td>\n",
       "      <td>19,390,600</td>\n",
       "    </tr>\n",
       "    <tr>\n",
       "      <th>2</th>\n",
       "      <td>2</td>\n",
       "      <td>China[n 1]</td>\n",
       "      <td>12,014,610</td>\n",
       "    </tr>\n",
       "    <tr>\n",
       "      <th>3</th>\n",
       "      <td>3</td>\n",
       "      <td>Japan</td>\n",
       "      <td>4,872,135</td>\n",
       "    </tr>\n",
       "    <tr>\n",
       "      <th>4</th>\n",
       "      <td>4</td>\n",
       "      <td>Germany</td>\n",
       "      <td>3,684,816</td>\n",
       "    </tr>\n",
       "    <tr>\n",
       "      <th>5</th>\n",
       "      <td>5</td>\n",
       "      <td>United Kingdom</td>\n",
       "      <td>2,624,529</td>\n",
       "    </tr>\n",
       "    <tr>\n",
       "      <th>6</th>\n",
       "      <td>6</td>\n",
       "      <td>India</td>\n",
       "      <td>2,611,012</td>\n",
       "    </tr>\n",
       "    <tr>\n",
       "      <th>7</th>\n",
       "      <td>7</td>\n",
       "      <td>France</td>\n",
       "      <td>2,583,560</td>\n",
       "    </tr>\n",
       "    <tr>\n",
       "      <th>8</th>\n",
       "      <td>8</td>\n",
       "      <td>Brazil</td>\n",
       "      <td>2,054,969</td>\n",
       "    </tr>\n",
       "    <tr>\n",
       "      <th>9</th>\n",
       "      <td>9</td>\n",
       "      <td>Italy</td>\n",
       "      <td>1,937,894</td>\n",
       "    </tr>\n",
       "  </tbody>\n",
       "</table>\n",
       "</div>"
      ],
      "text/plain": [
       "  Rank         Country  GDP(US$MM)\n",
       "0            World[19]  79,865,481\n",
       "1    1   United States  19,390,600\n",
       "2    2      China[n 1]  12,014,610\n",
       "3    3           Japan   4,872,135\n",
       "4    4         Germany   3,684,816\n",
       "5    5  United Kingdom   2,624,529\n",
       "6    6           India   2,611,012\n",
       "7    7          France   2,583,560\n",
       "8    8          Brazil   2,054,969\n",
       "9    9           Italy   1,937,894"
      ]
     },
     "execution_count": 12,
     "metadata": {},
     "output_type": "execute_result"
    }
   ],
   "source": [
    "# Creating a dataframe\n",
    "\n",
    "# Finding the tbody element within the first table\n",
    "tbody_table_imf = table_imf.find('tbody')\n",
    "\n",
    "# Finding all tr elements within the tbody\n",
    "rows_imf = tbody_table_imf.find_all('tr')\n",
    "\n",
    "# Extract data from td elements in each tr element\n",
    "data_rows_imf = []\n",
    "for tr in rows_imf:\n",
    "    # Finding all td elements in the current tr element\n",
    "    td_elements = tr.find_all('td')\n",
    "    # Extracting text content from td elements and strip whitespace\n",
    "    imf_row_data = [td.get_text().strip() for td in td_elements]\n",
    "    # Adding the row data to the data_rows_imf list\n",
    "    data_rows_imf.append(imf_row_data)\n",
    "\n",
    "# Creating a dataframe using data_rows_imf and header_imf as columns\n",
    "df_imf = pd.DataFrame(data_rows_imf, columns=header_imf)\n",
    "\n",
    "# Display the first 10 rows of the dataframe\n",
    "df_imf.head(10)"
   ]
  },
  {
   "cell_type": "raw",
   "id": "800e5b84",
   "metadata": {},
   "source": [
    "# Repeat the last task for the other two data sources"
   ]
  },
  {
   "cell_type": "code",
   "execution_count": 13,
   "id": "0b648f8c",
   "metadata": {},
   "outputs": [
    {
     "data": {
      "text/html": [
       "<div>\n",
       "<style scoped>\n",
       "    .dataframe tbody tr th:only-of-type {\n",
       "        vertical-align: middle;\n",
       "    }\n",
       "\n",
       "    .dataframe tbody tr th {\n",
       "        vertical-align: top;\n",
       "    }\n",
       "\n",
       "    .dataframe thead th {\n",
       "        text-align: right;\n",
       "    }\n",
       "</style>\n",
       "<table border=\"1\" class=\"dataframe\">\n",
       "  <thead>\n",
       "    <tr style=\"text-align: right;\">\n",
       "      <th></th>\n",
       "      <th>Rank</th>\n",
       "      <th>Country</th>\n",
       "      <th>GDP(US$MM)</th>\n",
       "    </tr>\n",
       "  </thead>\n",
       "  <tbody>\n",
       "    <tr>\n",
       "      <th>0</th>\n",
       "      <td>1</td>\n",
       "      <td>United States</td>\n",
       "      <td>19,390,604</td>\n",
       "    </tr>\n",
       "    <tr>\n",
       "      <th>1</th>\n",
       "      <td></td>\n",
       "      <td>European Union[23]</td>\n",
       "      <td>17,277,698</td>\n",
       "    </tr>\n",
       "    <tr>\n",
       "      <th>2</th>\n",
       "      <td>2</td>\n",
       "      <td>China[n 4]</td>\n",
       "      <td>12,237,700</td>\n",
       "    </tr>\n",
       "    <tr>\n",
       "      <th>3</th>\n",
       "      <td>3</td>\n",
       "      <td>Japan</td>\n",
       "      <td>4,872,137</td>\n",
       "    </tr>\n",
       "    <tr>\n",
       "      <th>4</th>\n",
       "      <td>4</td>\n",
       "      <td>Germany</td>\n",
       "      <td>3,677,439</td>\n",
       "    </tr>\n",
       "    <tr>\n",
       "      <th>5</th>\n",
       "      <td>5</td>\n",
       "      <td>United Kingdom</td>\n",
       "      <td>2,622,434</td>\n",
       "    </tr>\n",
       "    <tr>\n",
       "      <th>6</th>\n",
       "      <td>6</td>\n",
       "      <td>India</td>\n",
       "      <td>2,597,491</td>\n",
       "    </tr>\n",
       "    <tr>\n",
       "      <th>7</th>\n",
       "      <td>7</td>\n",
       "      <td>France</td>\n",
       "      <td>2,582,501</td>\n",
       "    </tr>\n",
       "    <tr>\n",
       "      <th>8</th>\n",
       "      <td>8</td>\n",
       "      <td>Brazil</td>\n",
       "      <td>2,055,506</td>\n",
       "    </tr>\n",
       "    <tr>\n",
       "      <th>9</th>\n",
       "      <td>9</td>\n",
       "      <td>Italy</td>\n",
       "      <td>1,934,798</td>\n",
       "    </tr>\n",
       "  </tbody>\n",
       "</table>\n",
       "</div>"
      ],
      "text/plain": [
       "  Rank             Country  GDP(US$MM)\n",
       "0    1       United States  19,390,604\n",
       "1       European Union[23]  17,277,698\n",
       "2    2          China[n 4]  12,237,700\n",
       "3    3               Japan   4,872,137\n",
       "4    4             Germany   3,677,439\n",
       "5    5      United Kingdom   2,622,434\n",
       "6    6               India   2,597,491\n",
       "7    7              France   2,582,501\n",
       "8    8              Brazil   2,055,506\n",
       "9    9               Italy   1,934,798"
      ]
     },
     "execution_count": 13,
     "metadata": {},
     "output_type": "execute_result"
    }
   ],
   "source": [
    "# Let's extract the header of the 1st table\n",
    "table_wb = data_cells[1]\n",
    "\n",
    "# Let's find all the th tags within the 1st cell\n",
    "th_tags = table_wb.find_all('th')\n",
    "\n",
    "# Extracting the text and removing whitespace for each th tag\n",
    "\n",
    "header_wb = [th.getText().strip() for th in th_tags]\n",
    "\n",
    "# Finding the tbody element within the first table\n",
    "tbody_table_wb = table_wb.find('tbody')\n",
    "\n",
    "# Finding all tr elements within the tbody\n",
    "rows_wb = tbody_table_wb.find_all('tr')\n",
    "\n",
    "# Extracting data from td elements in each tr element\n",
    "data_rows_wb = []\n",
    "for tr in rows_wb[1:]:\n",
    "    # Finding all td elements in the current tr\n",
    "    td_elements = tr.find_all('td')\n",
    "    \n",
    "    # Extracting text from td elements and removing whitespace\n",
    "    wb_row_data = [td.get_text().strip() for td in td_elements]\n",
    "    \n",
    "    # Getting the numerical value\n",
    "    numerical_value = wb_row_data[-1].split('♠')[-1]\n",
    "    \n",
    "    # Adding the row data to the list\n",
    "    data_rows_wb.append(wb_row_data[:-1] + [numerical_value])\n",
    "\n",
    "# Creating a dataframe using data_rows_wb and header_wb as columns\n",
    "df_wb = pd.DataFrame(data_rows_wb, columns=header_wb)\n",
    "\n",
    "# Displaying the first 10 rows of the dataframe\n",
    "df_wb.head(10)"
   ]
  },
  {
   "cell_type": "code",
   "execution_count": 14,
   "id": "8bc4f616",
   "metadata": {},
   "outputs": [
    {
     "data": {
      "text/html": [
       "<div>\n",
       "<style scoped>\n",
       "    .dataframe tbody tr th:only-of-type {\n",
       "        vertical-align: middle;\n",
       "    }\n",
       "\n",
       "    .dataframe tbody tr th {\n",
       "        vertical-align: top;\n",
       "    }\n",
       "\n",
       "    .dataframe thead th {\n",
       "        text-align: right;\n",
       "    }\n",
       "</style>\n",
       "<table border=\"1\" class=\"dataframe\">\n",
       "  <thead>\n",
       "    <tr style=\"text-align: right;\">\n",
       "      <th></th>\n",
       "      <th>Rank</th>\n",
       "      <th>Country</th>\n",
       "      <th>GDP(US$MM)</th>\n",
       "    </tr>\n",
       "  </thead>\n",
       "  <tbody>\n",
       "    <tr>\n",
       "      <th>0</th>\n",
       "      <td>1</td>\n",
       "      <td>United States</td>\n",
       "      <td>19,390,604</td>\n",
       "    </tr>\n",
       "    <tr>\n",
       "      <th>1</th>\n",
       "      <td></td>\n",
       "      <td>European Union[23]</td>\n",
       "      <td>17,277,698</td>\n",
       "    </tr>\n",
       "    <tr>\n",
       "      <th>2</th>\n",
       "      <td>2</td>\n",
       "      <td>China[n 4]</td>\n",
       "      <td>12,237,700</td>\n",
       "    </tr>\n",
       "    <tr>\n",
       "      <th>3</th>\n",
       "      <td>3</td>\n",
       "      <td>Japan</td>\n",
       "      <td>4,872,137</td>\n",
       "    </tr>\n",
       "    <tr>\n",
       "      <th>4</th>\n",
       "      <td>4</td>\n",
       "      <td>Germany</td>\n",
       "      <td>3,677,439</td>\n",
       "    </tr>\n",
       "    <tr>\n",
       "      <th>5</th>\n",
       "      <td>5</td>\n",
       "      <td>United Kingdom</td>\n",
       "      <td>2,622,434</td>\n",
       "    </tr>\n",
       "    <tr>\n",
       "      <th>6</th>\n",
       "      <td>6</td>\n",
       "      <td>India</td>\n",
       "      <td>2,597,491</td>\n",
       "    </tr>\n",
       "    <tr>\n",
       "      <th>7</th>\n",
       "      <td>7</td>\n",
       "      <td>France</td>\n",
       "      <td>2,582,501</td>\n",
       "    </tr>\n",
       "    <tr>\n",
       "      <th>8</th>\n",
       "      <td>8</td>\n",
       "      <td>Brazil</td>\n",
       "      <td>2,055,506</td>\n",
       "    </tr>\n",
       "    <tr>\n",
       "      <th>9</th>\n",
       "      <td>9</td>\n",
       "      <td>Italy</td>\n",
       "      <td>1,934,798</td>\n",
       "    </tr>\n",
       "  </tbody>\n",
       "</table>\n",
       "</div>"
      ],
      "text/plain": [
       "  Rank             Country  GDP(US$MM)\n",
       "0    1       United States  19,390,604\n",
       "1       European Union[23]  17,277,698\n",
       "2    2          China[n 4]  12,237,700\n",
       "3    3               Japan   4,872,137\n",
       "4    4             Germany   3,677,439\n",
       "5    5      United Kingdom   2,622,434\n",
       "6    6               India   2,597,491\n",
       "7    7              France   2,582,501\n",
       "8    8              Brazil   2,055,506\n",
       "9    9               Italy   1,934,798"
      ]
     },
     "execution_count": 14,
     "metadata": {},
     "output_type": "execute_result"
    }
   ],
   "source": [
    "# Let's extract the header of the 1st table\n",
    "table_un = data_cells[1]\n",
    "\n",
    "# Let's find all the th tags within the 1st cell\n",
    "th_tags = table_un.find_all('th')\n",
    "\n",
    "# Extracting the text and remove whitespace for each th tag\n",
    "header_un = [th.getText().strip() for th in th_tags]\n",
    "\n",
    "# Finding the tbody element within the first table\n",
    "tbody_table_un = table_un.find('tbody')\n",
    "\n",
    "# Finding all tr elements within the tbody\n",
    "rows_un = tbody_table_un.find_all('tr')\n",
    "\n",
    "# Extracting data from td elements in each tr element\n",
    "data_rows_un = []\n",
    "for tr in rows_un[1:]:\n",
    "    # Finding all td elements in the current tr\n",
    "    td_elements = tr.find_all('td')\n",
    "    \n",
    "    # Extracting text from td elements and remove whitespace\n",
    "    un_row_data = [td.get_text().strip() for td in td_elements]\n",
    "    \n",
    "    # Getting the numerical value\n",
    "    numerical_value = un_row_data[-1].split('♠')[-1]\n",
    "    \n",
    "    # Add the row data to the list\n",
    "    data_rows_un.append(un_row_data[:-1] + [numerical_value])\n",
    "\n",
    "# Creating a dataframe using data_rows_un and header_un as columns\n",
    "df_un = pd.DataFrame(data_rows_un, columns=header_un)\n",
    "\n",
    "# Displaying the first 10 rows of the dataframe\n",
    "df_un.head(10)"
   ]
  },
  {
   "cell_type": "raw",
   "id": "5ae9af49",
   "metadata": {},
   "source": [
    "2. The Data Wrangling Workshop: Activity 6.01, page 309"
   ]
  },
  {
   "cell_type": "code",
   "execution_count": 15,
   "id": "61023c7e",
   "metadata": {},
   "outputs": [],
   "source": [
    "# Read the visit_data.csv\n",
    "# Importing the librairies\n",
    "import pandas as pd\n",
    "import matplotlib.pyplot as plt\n",
    "\n",
    "# Link to the datafile\n",
    "file = 'https://raw.githubusercontent.com/kueyram/DSC540/main/datasets/visit_data.csv'\n",
    "\n",
    "# Reading the file\n",
    "visit_data = pd.read_csv(file)"
   ]
  },
  {
   "cell_type": "code",
   "execution_count": 16,
   "id": "f59efcfa",
   "metadata": {},
   "outputs": [
    {
     "data": {
      "text/plain": [
       "Index(['id', 'first_name', 'last_name', 'email', 'gender', 'ip_address',\n",
       "       'visit'],\n",
       "      dtype='object')"
      ]
     },
     "execution_count": 16,
     "metadata": {},
     "output_type": "execute_result"
    }
   ],
   "source": [
    "# Columns of the dataset\n",
    "visit_data.columns"
   ]
  },
  {
   "cell_type": "code",
   "execution_count": 17,
   "id": "40e037c9",
   "metadata": {},
   "outputs": [
    {
     "name": "stdout",
     "output_type": "stream",
     "text": [
      "The size of the dataset is  (1000, 7)\n"
     ]
    }
   ],
   "source": [
    "# Size of the dataset\n",
    "size_dataset = visit_data.shape\n",
    "print('The size of the dataset is ', size_dataset)"
   ]
  },
  {
   "cell_type": "code",
   "execution_count": 18,
   "id": "3ca48b4c",
   "metadata": {},
   "outputs": [
    {
     "data": {
      "text/html": [
       "<div>\n",
       "<style scoped>\n",
       "    .dataframe tbody tr th:only-of-type {\n",
       "        vertical-align: middle;\n",
       "    }\n",
       "\n",
       "    .dataframe tbody tr th {\n",
       "        vertical-align: top;\n",
       "    }\n",
       "\n",
       "    .dataframe thead th {\n",
       "        text-align: right;\n",
       "    }\n",
       "</style>\n",
       "<table border=\"1\" class=\"dataframe\">\n",
       "  <thead>\n",
       "    <tr style=\"text-align: right;\">\n",
       "      <th></th>\n",
       "      <th>id</th>\n",
       "      <th>first_name</th>\n",
       "      <th>last_name</th>\n",
       "      <th>email</th>\n",
       "      <th>gender</th>\n",
       "      <th>ip_address</th>\n",
       "      <th>visit</th>\n",
       "    </tr>\n",
       "  </thead>\n",
       "  <tbody>\n",
       "    <tr>\n",
       "      <th>0</th>\n",
       "      <td>1</td>\n",
       "      <td>Sonny</td>\n",
       "      <td>Dahl</td>\n",
       "      <td>sdahl0@mysql.com</td>\n",
       "      <td>Male</td>\n",
       "      <td>135.36.96.183</td>\n",
       "      <td>1225.0</td>\n",
       "    </tr>\n",
       "    <tr>\n",
       "      <th>1</th>\n",
       "      <td>2</td>\n",
       "      <td>NaN</td>\n",
       "      <td>NaN</td>\n",
       "      <td>dhoovart1@hud.gov</td>\n",
       "      <td>NaN</td>\n",
       "      <td>237.165.194.143</td>\n",
       "      <td>919.0</td>\n",
       "    </tr>\n",
       "    <tr>\n",
       "      <th>2</th>\n",
       "      <td>3</td>\n",
       "      <td>Gar</td>\n",
       "      <td>Armal</td>\n",
       "      <td>garmal2@technorati.com</td>\n",
       "      <td>NaN</td>\n",
       "      <td>166.43.137.224</td>\n",
       "      <td>271.0</td>\n",
       "    </tr>\n",
       "    <tr>\n",
       "      <th>3</th>\n",
       "      <td>4</td>\n",
       "      <td>Chiarra</td>\n",
       "      <td>Nulty</td>\n",
       "      <td>cnulty3@newyorker.com</td>\n",
       "      <td>NaN</td>\n",
       "      <td>139.98.137.108</td>\n",
       "      <td>1002.0</td>\n",
       "    </tr>\n",
       "    <tr>\n",
       "      <th>4</th>\n",
       "      <td>5</td>\n",
       "      <td>NaN</td>\n",
       "      <td>NaN</td>\n",
       "      <td>sleaver4@elegantthemes.com</td>\n",
       "      <td>NaN</td>\n",
       "      <td>46.117.117.27</td>\n",
       "      <td>2434.0</td>\n",
       "    </tr>\n",
       "  </tbody>\n",
       "</table>\n",
       "</div>"
      ],
      "text/plain": [
       "   id first_name last_name                       email gender  \\\n",
       "0   1      Sonny      Dahl            sdahl0@mysql.com   Male   \n",
       "1   2        NaN       NaN           dhoovart1@hud.gov    NaN   \n",
       "2   3        Gar     Armal      garmal2@technorati.com    NaN   \n",
       "3   4    Chiarra     Nulty       cnulty3@newyorker.com    NaN   \n",
       "4   5        NaN       NaN  sleaver4@elegantthemes.com    NaN   \n",
       "\n",
       "        ip_address   visit  \n",
       "0    135.36.96.183  1225.0  \n",
       "1  237.165.194.143   919.0  \n",
       "2   166.43.137.224   271.0  \n",
       "3   139.98.137.108  1002.0  \n",
       "4    46.117.117.27  2434.0  "
      ]
     },
     "execution_count": 18,
     "metadata": {},
     "output_type": "execute_result"
    }
   ],
   "source": [
    "# Printing the first 5 rows of the dataset\n",
    "visit_data.head(5)"
   ]
  },
  {
   "cell_type": "raw",
   "id": "0ce9be50",
   "metadata": {},
   "source": [
    "# Check for duplicate"
   ]
  },
  {
   "cell_type": "code",
   "execution_count": 19,
   "id": "603ef094",
   "metadata": {},
   "outputs": [
    {
     "name": "stdout",
     "output_type": "stream",
     "text": [
      "There are no duplicate rows\n"
     ]
    }
   ],
   "source": [
    "# Checking for duplicate rows\n",
    "duplicate_rows = visit_data.duplicated()\n",
    "\n",
    "# Print the result\n",
    "if duplicate_rows.any():\n",
    "    print('There are duplicate rows')\n",
    "    print(visit_data[duplicate_rows])\n",
    "else:\n",
    "    print(\"There are no duplicate rows\")"
   ]
  },
  {
   "cell_type": "raw",
   "id": "f0619d9a",
   "metadata": {},
   "source": [
    "There might be some duplicates first names and last names but there is no duplicate rows"
   ]
  },
  {
   "cell_type": "raw",
   "id": "969c4cf6",
   "metadata": {},
   "source": [
    "Check if any essential columns contains NaN"
   ]
  },
  {
   "cell_type": "code",
   "execution_count": 20,
   "id": "92905e58",
   "metadata": {},
   "outputs": [
    {
     "name": "stdout",
     "output_type": "stream",
     "text": [
      "There are NaN values in some columns\n",
      "Columns with NaN: first_name, last_name, gender, visit\n"
     ]
    }
   ],
   "source": [
    "# Let's define the essential columns\n",
    "essential_columns =  ['first_name', 'last_name', 'email', 'gender', 'ip_address', 'visit'] \n",
    "# Check for NaN in essential columns\n",
    "nan_essential = any(visit_data[column].isna().any() for column in essential_columns)\n",
    "\n",
    "if nan_essential:\n",
    "    print(\"There are NaN values in some columns\")\n",
    "    \n",
    "    # List essential columns with NaN values\n",
    "    columns_with_nan = [column for column in essential_columns if visit_data[column].isna().any()]\n",
    "    print(\"Columns with NaN:\", ', '.join(columns_with_nan))\n",
    "else:\n",
    "    print(\"No NaN values found in essential columns\")\n"
   ]
  },
  {
   "cell_type": "code",
   "execution_count": 21,
   "id": "ee108385",
   "metadata": {},
   "outputs": [],
   "source": [
    "# Get rid of the outliers\n",
    "# The essentials columns in this dataset are email, ip_address and visit\n",
    "# We will remove row with NaN in this essential columns\n",
    "\n",
    "visit_data_cleaned = visit_data.dropna(subset=['email', 'ip_address', 'visit'])"
   ]
  },
  {
   "cell_type": "code",
   "execution_count": 22,
   "id": "c7314667",
   "metadata": {},
   "outputs": [
    {
     "name": "stdout",
     "output_type": "stream",
     "text": [
      "The size of the original dataset is  (1000, 7)\n",
      "The size after removing the rows is NaN is  (974, 7)\n"
     ]
    }
   ],
   "source": [
    "print('The size of the original dataset is ', size_dataset)\n",
    "print('The size after removing the rows is NaN is ',visit_data_cleaned.shape )"
   ]
  },
  {
   "cell_type": "code",
   "execution_count": 23,
   "id": "eff757f3",
   "metadata": {},
   "outputs": [
    {
     "data": {
      "image/png": "[encoded data removed]",
      "text/plain": [
       "<Figure size 640x480 with 1 Axes>"
      ]
     },
     "metadata": {},
     "output_type": "display_data"
    }
   ],
   "source": [
    "# Create a box plot to check for outliers\n",
    "columns_to_check = ['email', 'ip_address', 'visit']\n",
    "\n",
    "# Creating a box plot\n",
    "visit_data_cleaned[columns_to_check].boxplot()\n",
    "\n",
    "# Title and labels\n",
    "plt.title('Box Plot of Outliers')\n",
    "plt.xlabel('Columns')\n",
    "plt.ylabel('Values')\n",
    "\n",
    "# Show the plot\n",
    "plt.show()"
   ]
  },
  {
   "cell_type": "code",
   "execution_count": 24,
   "id": "e07df0c2",
   "metadata": {},
   "outputs": [
    {
     "name": "stderr",
     "output_type": "stream",
     "text": [
      "C:\\Users\\Eyram\\AppData\\Local\\Temp\\ipykernel_10784\\3982056282.py:6: SettingWithCopyWarning: \n",
      "A value is trying to be set on a copy of a slice from a DataFrame.\n",
      "Try using .loc[row_indexer,col_indexer] = value instead\n",
      "\n",
      "See the caveats in the documentation: https://pandas.pydata.org/pandas-docs/stable/user_guide/indexing.html#returning-a-view-versus-a-copy\n",
      "  visit_data_cleaned['visit_zscore'] = zscore(visit_data_cleaned['visit'])\n"
     ]
    },
    {
     "data": {
      "text/plain": [
       "(974, 7)"
      ]
     },
     "execution_count": 24,
     "metadata": {},
     "output_type": "execute_result"
    }
   ],
   "source": [
    "import pandas as pd\n",
    "from scipy.stats import zscore\n",
    "\n",
    "\n",
    "# Let's calculate the z-scores for the 'visit' column\n",
    "visit_data_cleaned['visit_zscore'] = zscore(visit_data_cleaned['visit'])\n",
    "\n",
    "# We will use a threshold of 3 to identify outliers\n",
    "zscore_threshold = 3\n",
    "\n",
    "# Removing outliers by filtering the DataFrame based on z-scores\n",
    "visit_data_no_outliers = visit_data_cleaned[abs(visit_data_cleaned['visit_zscore']) <= zscore_threshold]\n",
    "\n",
    "# Let's now drop the visit_zscore columns\n",
    "visit_data_no_outliers = visit_data_no_outliers.drop(columns=['visit_zscore'])\n",
    "\n",
    "# Final size of the dataframe\n",
    "visit_data_no_outliers.shape"
   ]
  },
  {
   "cell_type": "raw",
   "id": "db75bce2",
   "metadata": {},
   "source": [
    "3- Insert data into a SQL Lite database – create a table with the following data below that you will create yourself (Hint on how to create the SQL: Python for Data Analysis 2nd edition page 191, Python for Data Analysis 3rd Edition: Page 199):"
   ]
  },
  {
   "cell_type": "code",
   "execution_count": 25,
   "id": "3eb860f1",
   "metadata": {},
   "outputs": [],
   "source": [
    "import sqlite3\n",
    "\n",
    "# Query to create the table 'clients'\n",
    "query = '''CREATE TABLE IF NOT EXISTS clients (\n",
    "                    id INTEGER PRIMARY KEY,\n",
    "                    Name VARCHAR(30),\n",
    "                    Address VARCHAR(30),\n",
    "                    City VARCHAR(15),\n",
    "                    State VARCHAR(2),\n",
    "                    Zip INTEGER,\n",
    "                    \"Phone Number\" VARCHAR(15)\n",
    "                )'''\n",
    "\n",
    "# Connect to the SQLite database\n",
    "con = sqlite3.connect('dsc540week2_3.sqlite')\n",
    "\n",
    "# Execute the query\n",
    "con.execute(query)\n",
    "\n",
    "\n",
    "# Commit changes to the database\n",
    "con.commit()\n",
    "\n",
    "# Close the connection\n",
    "con.close()"
   ]
  },
  {
   "cell_type": "code",
   "execution_count": 26,
   "id": "0411aee1",
   "metadata": {},
   "outputs": [],
   "source": [
    "# Add at least 10 rows of data and submit your code with a query generating your results."
   ]
  },
  {
   "cell_type": "code",
   "execution_count": 27,
   "id": "fbec4451",
   "metadata": {},
   "outputs": [],
   "source": [
    "# Adding data to the table\n",
    "con = sqlite3.connect('dsc540week2_3.sqlite')\n",
    "\n",
    "# Query to add the data\n",
    "data = [(\"Sheri Saunders\",\"107 Ramirez Junction Suite 462\",\"Wrightburgh\",\"SD\",\"16393\",\"954-606-8173\"),\n",
    "        (\"Peggy Sanchez\",\"5524 Eric Oval Suite 912\",\"Arlington\",\"VA\",\"06948\",\"379-538-9775\"),\n",
    "        (\"William Garcia\",\"22052 Kelly Lodge Apt. 998\",\"Houston\",\"TX\",\"99499\",\"467-782-7924\"),\n",
    "        (\"Dustin Garcia\",\"206 Johnson Coves\",\"New Jenniferside\",\"AR\",\"60448\",\"488-977-2975\"),\n",
    "        (\"Kristen Santos\",\"40480 Gibbs Field Suite 762\",\"Baltimore\",\"MD\",\"43194\",\"522-763-4022\"),\n",
    "        (\"Erin Garrett\",\"46158 Laurie Circle\",\"Bellevue\",\"NE\",\"68046\",\"559-704-2800\"),\n",
    "        (\"Michael Harmon\",\"63071 Emily Trail\",\"Columbia\",\"SC\",\"49034\",\"423-377-1419\"),\n",
    "        (\"Mary Larson\",\"109 Scott Haven Suite 229\",\"Des Moines\",\"IA\",\"22238\",\"(494-632-6169\"),\n",
    "        (\"Emily Turner\",\"76461 Fisher Isle\",\"Omaha\",\"NE\",\"68127\",\"402-701-9717\"),\n",
    "        (\"Sarah Hansen\",\"971 Sara Loaf Apt. 195\",\"West Carol\",\"VA\",\"44347\",\"847-245-9021\"),\n",
    "]\n",
    "\n",
    "stmt = stmt = \"INSERT INTO clients (Name, Address, City, State, Zip, 'Phone Number') VALUES (?, ?, ?, ?, ?, ?)\"\n",
    "\n",
    "# Execute the query\n",
    "con.executemany(stmt, data)\n",
    "\n",
    "# Commit the changes\n",
    "con.commit()\n",
    "\n",
    "# Close the connection\n",
    "con.close()"
   ]
  },
  {
   "cell_type": "code",
   "execution_count": 28,
   "id": "43877acf",
   "metadata": {},
   "outputs": [
    {
     "name": "stdout",
     "output_type": "stream",
     "text": [
      "(1, 'Sheri Saunders', '107 Ramirez Junction Suite 462', 'Wrightburgh', 'SD', 16393, '954-606-8173')\n",
      "(2, 'Peggy Sanchez', '5524 Eric Oval Suite 912', 'Arlington', 'VA', 6948, '379-538-9775')\n",
      "(3, 'William Garcia', '22052 Kelly Lodge Apt. 998', 'Houston', 'TX', 99499, '467-782-7924')\n",
      "(4, 'Dustin Garcia', '206 Johnson Coves', 'New Jenniferside', 'AR', 60448, '488-977-2975')\n",
      "(5, 'Kristen Santos', '40480 Gibbs Field Suite 762', 'Baltimore', 'MD', 43194, '522-763-4022')\n",
      "(6, 'Erin Garrett', '46158 Laurie Circle', 'Bellevue', 'NE', 68046, '559-704-2800')\n",
      "(7, 'Michael Harmon', '63071 Emily Trail', 'Columbia', 'SC', 49034, '423-377-1419')\n",
      "(8, 'Mary Larson', '109 Scott Haven Suite 229', 'Des Moines', 'IA', 22238, '(494-632-6169')\n",
      "(9, 'Emily Turner', '76461 Fisher Isle', 'Omaha', 'NE', 68127, '402-701-9717')\n",
      "(10, 'Sarah Hansen', '971 Sara Loaf Apt. 195', 'West Carol', 'VA', 44347, '847-245-9021')\n"
     ]
    }
   ],
   "source": [
    "# Query to retrieve the data from the table\n",
    "\n",
    "# Connect to the SQLite database\n",
    "con = sqlite3.connect('dsc540week2_3.sqlite')\n",
    "\n",
    "# Create a cursor object\n",
    "cursor = con.cursor()\n",
    "\n",
    "# Query to retrieve the data\n",
    "query = '''SELECT * FROM clients'''\n",
    "\n",
    "# Execute the query\n",
    "cursor.execute(query)\n",
    "\n",
    "# Fetch all rows from the result\n",
    "rows = cursor.fetchall()\n",
    "\n",
    "# Print the rows\n",
    "for row in rows:\n",
    "    print(row)\n"
   ]
  }
 ],
 "metadata": {
  "kernelspec": {
   "display_name": "Python 3 (ipykernel)",
   "language": "python",
   "name": "python3"
  },
  "language_info": {
   "codemirror_mode": {
    "name": "ipython",
    "version": 3
   },
   "file_extension": ".py",
   "mimetype": "text/x-python",
   "name": "python",
   "nbconvert_exporter": "python",
   "pygments_lexer": "ipython3",
   "version": "3.11.7"
  }
 },
 "nbformat": 4,
 "nbformat_minor": 5
}
