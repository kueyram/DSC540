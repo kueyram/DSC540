{
 "cells": [
  {
   "cell_type": "raw",
   "id": "b1fa7837",
   "metadata": {},
   "source": [
    "DSC 540 - Data Preparation\n",
    "Week 3 & 4 assignment\n",
    "Eyram Kueviakoe\n",
    "04/01/2024"
   ]
  },
  {
   "cell_type": "raw",
   "id": "76dee8a4",
   "metadata": {},
   "source": [
    "1. The Data Wrangling Workshop: Activity 3.01, page 155"
   ]
  },
  {
   "cell_type": "code",
   "execution_count": 1,
   "id": "518aaab0",
   "metadata": {},
   "outputs": [],
   "source": [
    "# 1- Loading the necessary libraries\n",
    "import pandas as pd\n",
    "import numpy as np\n",
    "import matplotlib.pyplot as plt"
   ]
  },
  {
   "cell_type": "code",
   "execution_count": 2,
   "id": "dae3c16d",
   "metadata": {},
   "outputs": [],
   "source": [
    "# 2- Reading the boston housing dataset\n",
    "file = 'Boston_housing.csv'\n",
    "Boston_housing = pd.read_csv(file)"
   ]
  },
  {
   "cell_type": "code",
   "execution_count": 3,
   "id": "7bf524c2",
   "metadata": {},
   "outputs": [
    {
     "data": {
      "text/plain": [
       "Index(['CRIM', 'ZN', 'INDUS', 'CHAS', 'NOX', 'RM', 'AGE', 'DIS', 'RAD', 'TAX',\n",
       "       'PTRATIO', 'B', 'LSTAT', 'PRICE'],\n",
       "      dtype='object')"
      ]
     },
     "execution_count": 3,
     "metadata": {},
     "output_type": "execute_result"
    }
   ],
   "source": [
    "# Let's see the columns of the dataset\n",
    "Boston_housing.columns"
   ]
  },
  {
   "cell_type": "code",
   "execution_count": 4,
   "id": "38a64ad3",
   "metadata": {},
   "outputs": [
    {
     "data": {
      "text/html": [
       "<div>\n",
       "<style scoped>\n",
       "    .dataframe tbody tr th:only-of-type {\n",
       "        vertical-align: middle;\n",
       "    }\n",
       "\n",
       "    .dataframe tbody tr th {\n",
       "        vertical-align: top;\n",
       "    }\n",
       "\n",
       "    .dataframe thead th {\n",
       "        text-align: right;\n",
       "    }\n",
       "</style>\n",
       "<table border=\"1\" class=\"dataframe\">\n",
       "  <thead>\n",
       "    <tr style=\"text-align: right;\">\n",
       "      <th></th>\n",
       "      <th>CRIM</th>\n",
       "      <th>ZN</th>\n",
       "      <th>INDUS</th>\n",
       "      <th>CHAS</th>\n",
       "      <th>NOX</th>\n",
       "      <th>RM</th>\n",
       "      <th>AGE</th>\n",
       "      <th>DIS</th>\n",
       "      <th>RAD</th>\n",
       "      <th>TAX</th>\n",
       "      <th>PTRATIO</th>\n",
       "      <th>B</th>\n",
       "      <th>LSTAT</th>\n",
       "      <th>PRICE</th>\n",
       "    </tr>\n",
       "  </thead>\n",
       "  <tbody>\n",
       "    <tr>\n",
       "      <th>0</th>\n",
       "      <td>0.00632</td>\n",
       "      <td>18.0</td>\n",
       "      <td>2.31</td>\n",
       "      <td>0</td>\n",
       "      <td>0.538</td>\n",
       "      <td>6.575</td>\n",
       "      <td>65.2</td>\n",
       "      <td>4.0900</td>\n",
       "      <td>1</td>\n",
       "      <td>296</td>\n",
       "      <td>15.3</td>\n",
       "      <td>396.90</td>\n",
       "      <td>4.98</td>\n",
       "      <td>24.0</td>\n",
       "    </tr>\n",
       "    <tr>\n",
       "      <th>1</th>\n",
       "      <td>0.02731</td>\n",
       "      <td>0.0</td>\n",
       "      <td>7.07</td>\n",
       "      <td>0</td>\n",
       "      <td>0.469</td>\n",
       "      <td>6.421</td>\n",
       "      <td>78.9</td>\n",
       "      <td>4.9671</td>\n",
       "      <td>2</td>\n",
       "      <td>242</td>\n",
       "      <td>17.8</td>\n",
       "      <td>396.90</td>\n",
       "      <td>9.14</td>\n",
       "      <td>21.6</td>\n",
       "    </tr>\n",
       "    <tr>\n",
       "      <th>2</th>\n",
       "      <td>0.02729</td>\n",
       "      <td>0.0</td>\n",
       "      <td>7.07</td>\n",
       "      <td>0</td>\n",
       "      <td>0.469</td>\n",
       "      <td>7.185</td>\n",
       "      <td>61.1</td>\n",
       "      <td>4.9671</td>\n",
       "      <td>2</td>\n",
       "      <td>242</td>\n",
       "      <td>17.8</td>\n",
       "      <td>392.83</td>\n",
       "      <td>4.03</td>\n",
       "      <td>34.7</td>\n",
       "    </tr>\n",
       "    <tr>\n",
       "      <th>3</th>\n",
       "      <td>0.03237</td>\n",
       "      <td>0.0</td>\n",
       "      <td>2.18</td>\n",
       "      <td>0</td>\n",
       "      <td>0.458</td>\n",
       "      <td>6.998</td>\n",
       "      <td>45.8</td>\n",
       "      <td>6.0622</td>\n",
       "      <td>3</td>\n",
       "      <td>222</td>\n",
       "      <td>18.7</td>\n",
       "      <td>394.63</td>\n",
       "      <td>2.94</td>\n",
       "      <td>33.4</td>\n",
       "    </tr>\n",
       "    <tr>\n",
       "      <th>4</th>\n",
       "      <td>0.06905</td>\n",
       "      <td>0.0</td>\n",
       "      <td>2.18</td>\n",
       "      <td>0</td>\n",
       "      <td>0.458</td>\n",
       "      <td>7.147</td>\n",
       "      <td>54.2</td>\n",
       "      <td>6.0622</td>\n",
       "      <td>3</td>\n",
       "      <td>222</td>\n",
       "      <td>18.7</td>\n",
       "      <td>396.90</td>\n",
       "      <td>5.33</td>\n",
       "      <td>36.2</td>\n",
       "    </tr>\n",
       "    <tr>\n",
       "      <th>5</th>\n",
       "      <td>0.02985</td>\n",
       "      <td>0.0</td>\n",
       "      <td>2.18</td>\n",
       "      <td>0</td>\n",
       "      <td>0.458</td>\n",
       "      <td>6.430</td>\n",
       "      <td>58.7</td>\n",
       "      <td>6.0622</td>\n",
       "      <td>3</td>\n",
       "      <td>222</td>\n",
       "      <td>18.7</td>\n",
       "      <td>394.12</td>\n",
       "      <td>5.21</td>\n",
       "      <td>28.7</td>\n",
       "    </tr>\n",
       "    <tr>\n",
       "      <th>6</th>\n",
       "      <td>0.08829</td>\n",
       "      <td>12.5</td>\n",
       "      <td>7.87</td>\n",
       "      <td>0</td>\n",
       "      <td>0.524</td>\n",
       "      <td>6.012</td>\n",
       "      <td>66.6</td>\n",
       "      <td>5.5605</td>\n",
       "      <td>5</td>\n",
       "      <td>311</td>\n",
       "      <td>15.2</td>\n",
       "      <td>395.60</td>\n",
       "      <td>12.43</td>\n",
       "      <td>22.9</td>\n",
       "    </tr>\n",
       "    <tr>\n",
       "      <th>7</th>\n",
       "      <td>0.14455</td>\n",
       "      <td>12.5</td>\n",
       "      <td>7.87</td>\n",
       "      <td>0</td>\n",
       "      <td>0.524</td>\n",
       "      <td>6.172</td>\n",
       "      <td>96.1</td>\n",
       "      <td>5.9505</td>\n",
       "      <td>5</td>\n",
       "      <td>311</td>\n",
       "      <td>15.2</td>\n",
       "      <td>396.90</td>\n",
       "      <td>19.15</td>\n",
       "      <td>27.1</td>\n",
       "    </tr>\n",
       "    <tr>\n",
       "      <th>8</th>\n",
       "      <td>0.21124</td>\n",
       "      <td>12.5</td>\n",
       "      <td>7.87</td>\n",
       "      <td>0</td>\n",
       "      <td>0.524</td>\n",
       "      <td>5.631</td>\n",
       "      <td>100.0</td>\n",
       "      <td>6.0821</td>\n",
       "      <td>5</td>\n",
       "      <td>311</td>\n",
       "      <td>15.2</td>\n",
       "      <td>386.63</td>\n",
       "      <td>29.93</td>\n",
       "      <td>16.5</td>\n",
       "    </tr>\n",
       "    <tr>\n",
       "      <th>9</th>\n",
       "      <td>0.17004</td>\n",
       "      <td>12.5</td>\n",
       "      <td>7.87</td>\n",
       "      <td>0</td>\n",
       "      <td>0.524</td>\n",
       "      <td>6.004</td>\n",
       "      <td>85.9</td>\n",
       "      <td>6.5921</td>\n",
       "      <td>5</td>\n",
       "      <td>311</td>\n",
       "      <td>15.2</td>\n",
       "      <td>386.71</td>\n",
       "      <td>17.10</td>\n",
       "      <td>18.9</td>\n",
       "    </tr>\n",
       "  </tbody>\n",
       "</table>\n",
       "</div>"
      ],
      "text/plain": [
       "      CRIM    ZN  INDUS  CHAS    NOX     RM    AGE     DIS  RAD  TAX  PTRATIO  \\\n",
       "0  0.00632  18.0   2.31     0  0.538  6.575   65.2  4.0900    1  296     15.3   \n",
       "1  0.02731   0.0   7.07     0  0.469  6.421   78.9  4.9671    2  242     17.8   \n",
       "2  0.02729   0.0   7.07     0  0.469  7.185   61.1  4.9671    2  242     17.8   \n",
       "3  0.03237   0.0   2.18     0  0.458  6.998   45.8  6.0622    3  222     18.7   \n",
       "4  0.06905   0.0   2.18     0  0.458  7.147   54.2  6.0622    3  222     18.7   \n",
       "5  0.02985   0.0   2.18     0  0.458  6.430   58.7  6.0622    3  222     18.7   \n",
       "6  0.08829  12.5   7.87     0  0.524  6.012   66.6  5.5605    5  311     15.2   \n",
       "7  0.14455  12.5   7.87     0  0.524  6.172   96.1  5.9505    5  311     15.2   \n",
       "8  0.21124  12.5   7.87     0  0.524  5.631  100.0  6.0821    5  311     15.2   \n",
       "9  0.17004  12.5   7.87     0  0.524  6.004   85.9  6.5921    5  311     15.2   \n",
       "\n",
       "        B  LSTAT  PRICE  \n",
       "0  396.90   4.98   24.0  \n",
       "1  396.90   9.14   21.6  \n",
       "2  392.83   4.03   34.7  \n",
       "3  394.63   2.94   33.4  \n",
       "4  396.90   5.33   36.2  \n",
       "5  394.12   5.21   28.7  \n",
       "6  395.60  12.43   22.9  \n",
       "7  396.90  19.15   27.1  \n",
       "8  386.63  29.93   16.5  \n",
       "9  386.71  17.10   18.9  "
      ]
     },
     "execution_count": 4,
     "metadata": {},
     "output_type": "execute_result"
    }
   ],
   "source": [
    "# 3- Checking the first 10 rows\n",
    "Boston_housing.head(10)"
   ]
  },
  {
   "cell_type": "code",
   "execution_count": 5,
   "id": "ea32dd34",
   "metadata": {},
   "outputs": [],
   "source": [
    "# 4- Creating a smaller Dataframe with columns that do not include CHAS, NOX, B and LSTAT\n",
    "# We can create the dataset by dropping the column we do not need\n",
    "small_Boston_housing = Boston_housing.drop(['CHAS', 'NOX', 'B', 'LSTAT'], axis=1)"
   ]
  },
  {
   "cell_type": "code",
   "execution_count": 6,
   "id": "52936ba8",
   "metadata": {},
   "outputs": [
    {
     "data": {
      "text/html": [
       "<div>\n",
       "<style scoped>\n",
       "    .dataframe tbody tr th:only-of-type {\n",
       "        vertical-align: middle;\n",
       "    }\n",
       "\n",
       "    .dataframe tbody tr th {\n",
       "        vertical-align: top;\n",
       "    }\n",
       "\n",
       "    .dataframe thead th {\n",
       "        text-align: right;\n",
       "    }\n",
       "</style>\n",
       "<table border=\"1\" class=\"dataframe\">\n",
       "  <thead>\n",
       "    <tr style=\"text-align: right;\">\n",
       "      <th></th>\n",
       "      <th>CRIM</th>\n",
       "      <th>ZN</th>\n",
       "      <th>INDUS</th>\n",
       "      <th>RM</th>\n",
       "      <th>AGE</th>\n",
       "      <th>DIS</th>\n",
       "      <th>RAD</th>\n",
       "      <th>TAX</th>\n",
       "      <th>PTRATIO</th>\n",
       "      <th>PRICE</th>\n",
       "    </tr>\n",
       "  </thead>\n",
       "  <tbody>\n",
       "    <tr>\n",
       "      <th>499</th>\n",
       "      <td>0.17783</td>\n",
       "      <td>0.0</td>\n",
       "      <td>9.69</td>\n",
       "      <td>5.569</td>\n",
       "      <td>73.5</td>\n",
       "      <td>2.3999</td>\n",
       "      <td>6</td>\n",
       "      <td>391</td>\n",
       "      <td>19.2</td>\n",
       "      <td>17.5</td>\n",
       "    </tr>\n",
       "    <tr>\n",
       "      <th>500</th>\n",
       "      <td>0.22438</td>\n",
       "      <td>0.0</td>\n",
       "      <td>9.69</td>\n",
       "      <td>6.027</td>\n",
       "      <td>79.7</td>\n",
       "      <td>2.4982</td>\n",
       "      <td>6</td>\n",
       "      <td>391</td>\n",
       "      <td>19.2</td>\n",
       "      <td>16.8</td>\n",
       "    </tr>\n",
       "    <tr>\n",
       "      <th>501</th>\n",
       "      <td>0.06263</td>\n",
       "      <td>0.0</td>\n",
       "      <td>11.93</td>\n",
       "      <td>6.593</td>\n",
       "      <td>69.1</td>\n",
       "      <td>2.4786</td>\n",
       "      <td>1</td>\n",
       "      <td>273</td>\n",
       "      <td>21.0</td>\n",
       "      <td>22.4</td>\n",
       "    </tr>\n",
       "    <tr>\n",
       "      <th>502</th>\n",
       "      <td>0.04527</td>\n",
       "      <td>0.0</td>\n",
       "      <td>11.93</td>\n",
       "      <td>6.120</td>\n",
       "      <td>76.7</td>\n",
       "      <td>2.2875</td>\n",
       "      <td>1</td>\n",
       "      <td>273</td>\n",
       "      <td>21.0</td>\n",
       "      <td>20.6</td>\n",
       "    </tr>\n",
       "    <tr>\n",
       "      <th>503</th>\n",
       "      <td>0.06076</td>\n",
       "      <td>0.0</td>\n",
       "      <td>11.93</td>\n",
       "      <td>6.976</td>\n",
       "      <td>91.0</td>\n",
       "      <td>2.1675</td>\n",
       "      <td>1</td>\n",
       "      <td>273</td>\n",
       "      <td>21.0</td>\n",
       "      <td>23.9</td>\n",
       "    </tr>\n",
       "    <tr>\n",
       "      <th>504</th>\n",
       "      <td>0.10959</td>\n",
       "      <td>0.0</td>\n",
       "      <td>11.93</td>\n",
       "      <td>6.794</td>\n",
       "      <td>89.3</td>\n",
       "      <td>2.3889</td>\n",
       "      <td>1</td>\n",
       "      <td>273</td>\n",
       "      <td>21.0</td>\n",
       "      <td>22.0</td>\n",
       "    </tr>\n",
       "    <tr>\n",
       "      <th>505</th>\n",
       "      <td>0.04741</td>\n",
       "      <td>0.0</td>\n",
       "      <td>11.93</td>\n",
       "      <td>6.030</td>\n",
       "      <td>80.8</td>\n",
       "      <td>2.5050</td>\n",
       "      <td>1</td>\n",
       "      <td>273</td>\n",
       "      <td>21.0</td>\n",
       "      <td>11.9</td>\n",
       "    </tr>\n",
       "  </tbody>\n",
       "</table>\n",
       "</div>"
      ],
      "text/plain": [
       "        CRIM   ZN  INDUS     RM   AGE     DIS  RAD  TAX  PTRATIO  PRICE\n",
       "499  0.17783  0.0   9.69  5.569  73.5  2.3999    6  391     19.2   17.5\n",
       "500  0.22438  0.0   9.69  6.027  79.7  2.4982    6  391     19.2   16.8\n",
       "501  0.06263  0.0  11.93  6.593  69.1  2.4786    1  273     21.0   22.4\n",
       "502  0.04527  0.0  11.93  6.120  76.7  2.2875    1  273     21.0   20.6\n",
       "503  0.06076  0.0  11.93  6.976  91.0  2.1675    1  273     21.0   23.9\n",
       "504  0.10959  0.0  11.93  6.794  89.3  2.3889    1  273     21.0   22.0\n",
       "505  0.04741  0.0  11.93  6.030  80.8  2.5050    1  273     21.0   11.9"
      ]
     },
     "execution_count": 6,
     "metadata": {},
     "output_type": "execute_result"
    }
   ],
   "source": [
    "# 5- Checking the last seven records of the new dataframe\n",
    "small_Boston_housing.tail(7)"
   ]
  },
  {
   "cell_type": "code",
   "execution_count": 7,
   "id": "6e1800de",
   "metadata": {},
   "outputs": [
    {
     "data": {
      "image/png": "[encoded data removed]",
      "text/plain": [
       "<Figure size 1000x1000 with 12 Axes>"
      ]
     },
     "metadata": {},
     "output_type": "display_data"
    }
   ],
   "source": [
    "# 6- Plotting the histograms of all te variables in the new dataframe\n",
    "# Setting the size of the plot\n",
    "small_Boston_housing.hist(figsize=(10, 10))\n",
    "\n",
    "# Show the plot\n",
    "plt.show()"
   ]
  },
  {
   "cell_type": "code",
   "execution_count": 8,
   "id": "45906eba",
   "metadata": {},
   "outputs": [
    {
     "data": {
      "image/png": "[encoded data removed]",
      "text/plain": [
       "<Figure size 640x480 with 1 Axes>"
      ]
     },
     "metadata": {},
     "output_type": "display_data"
    },
    {
     "data": {
      "image/png": "[encoded data removed]",
      "text/plain": [
       "<Figure size 640x480 with 1 Axes>"
      ]
     },
     "metadata": {},
     "output_type": "display_data"
    },
    {
     "data": {
      "image/png": "[encoded data removed]",
      "text/plain": [
       "<Figure size 640x480 with 1 Axes>"
      ]
     },
     "metadata": {},
     "output_type": "display_data"
    },
    {
     "data": {
      "image/png": "[encoded data removed]",
      "text/plain": [
       "<Figure size 640x480 with 1 Axes>"
      ]
     },
     "metadata": {},
     "output_type": "display_data"
    },
    {
     "data": {
      "image/png": "[encoded data removed]",
      "text/plain": [
       "<Figure size 640x480 with 1 Axes>"
      ]
     },
     "metadata": {},
     "output_type": "display_data"
    },
    {
     "data": {
      "image/png": "[encoded data removed]",
      "text/plain": [
       "<Figure size 640x480 with 1 Axes>"
      ]
     },
     "metadata": {},
     "output_type": "display_data"
    },
    {
     "data": {
      "image/png": "[encoded data removed]",
      "text/plain": [
       "<Figure size 640x480 with 1 Axes>"
      ]
     },
     "metadata": {},
     "output_type": "display_data"
    },
    {
     "data": {
      "image/png": "[encoded data removed]",
      "text/plain": [
       "<Figure size 640x480 with 1 Axes>"
      ]
     },
     "metadata": {},
     "output_type": "display_data"
    },
    {
     "data": {
      "image/png": "[encoded data removed]",
      "text/plain": [
       "<Figure size 640x480 with 1 Axes>"
      ]
     },
     "metadata": {},
     "output_type": "display_data"
    },
    {
     "data": {
      "image/png": "[encoded data removed]",
      "text/plain": [
       "<Figure size 640x480 with 1 Axes>"
      ]
     },
     "metadata": {},
     "output_type": "display_data"
    }
   ],
   "source": [
    "# 7- Plot them all at once using a for loop. Try to add a unique title to the plot\n",
    "# Loop trough the columns\n",
    "for column in small_Boston_housing.columns:\n",
    "    # Plot the histogram for the current column with 15 bins\n",
    "    plt.hist(small_Boston_housing[column], bins=15)\n",
    "    # Title of the plot with the current column name\n",
    "    plt.title(f'Histogram of {column}')\n",
    "    # Label for the y-axis\n",
    "    plt.ylabel('Frequency')\n",
    "    # Plot for the current column\n",
    "    plt.show()  "
   ]
  },
  {
   "cell_type": "code",
   "execution_count": 9,
   "id": "a056236b",
   "metadata": {},
   "outputs": [
    {
     "data": {
      "image/png": "[encoded data removed]",
      "text/plain": [
       "<Figure size 640x480 with 1 Axes>"
      ]
     },
     "metadata": {},
     "output_type": "display_data"
    }
   ],
   "source": [
    "# 7- Create a scatter plot of crime rate versus price\n",
    "\n",
    "plt.scatter(small_Boston_housing['CRIM'], small_Boston_housing['PRICE']) # Creating the plot\n",
    "plt.title('Crime rate vs. Price') # Title of the plot\n",
    "plt.xlabel('Crime rate') # Label of the x axis\n",
    "plt.ylabel('Price') # Label if the y axis\n",
    "plt.grid(True) # Showing the grip\n",
    "plt.show() # Showing the plot"
   ]
  },
  {
   "cell_type": "code",
   "execution_count": 10,
   "id": "8317bcce",
   "metadata": {},
   "outputs": [
    {
     "data": {
      "image/png": "[encoded data removed]",
      "text/plain": [
       "<Figure size 640x480 with 1 Axes>"
      ]
     },
     "metadata": {},
     "output_type": "display_data"
    }
   ],
   "source": [
    "# 9 - Plot using log10(crime) versus price\n",
    "\n",
    "# Let's add a new column log10_CRIM to the datafram\n",
    "small_Boston_housing['log10_CRIM'] = np.log10(small_Boston_housing['CRIM'])\n",
    "\n",
    "plt.scatter(small_Boston_housing['log10_CRIM'], small_Boston_housing['PRICE']) # Creating the plot\n",
    "plt.title('Log10(Crime rate) vs. Price') # Title of the plot\n",
    "plt.xlabel('Log10(Crime rate)') # Label of the x axis\n",
    "plt.ylabel('Price') # Label if the y axis\n",
    "plt.grid(True) # Showing the grid\n",
    "plt.show() # Showing the plot"
   ]
  },
  {
   "cell_type": "raw",
   "id": "9bf4cfbe",
   "metadata": {},
   "source": [
    "10- Calculate some useful statistics such us mean rooms per dwelling, median age, mean distance to five Biston employment centers, and the percentage of houses with a low price (<$20,000)"
   ]
  },
  {
   "cell_type": "code",
   "execution_count": 11,
   "id": "99106081",
   "metadata": {},
   "outputs": [
    {
     "name": "stdout",
     "output_type": "stream",
     "text": [
      "The mean room per dwelling is  6.284634387351779\n",
      "The median age is  77.5\n",
      "The mean distance is  3.795042687747036\n",
      "The percentage of houses with price lower than $20,000 is  41.50%\n"
     ]
    }
   ],
   "source": [
    "# Mean room per dwelling\n",
    "mean_room_per_dwelling = small_Boston_housing['RM'].mean()\n",
    "\n",
    "# Median age\n",
    "median_age = small_Boston_housing['AGE'].median()\n",
    "\n",
    "# Mean distance\n",
    "mean_dist = small_Boston_housing['DIS'].mean()\n",
    "\n",
    "# Percentage of houses with a low price\n",
    "    # Houses with low prices\n",
    "low_price_houses = small_Boston_housing[small_Boston_housing['PRICE']<20]\n",
    "    # number of low price houses\n",
    "total_low_price_houses = len(low_price_houses['PRICE'])\n",
    "    # Total number of houses in the dataframe\n",
    "total_houses = len(small_Boston_housing)\n",
    "    # Calculate the percentage\n",
    "low_price_houses_percentage = (total_low_price_houses /total_houses) * 100\n",
    "\n",
    "# Printing the results\n",
    "print('The mean room per dwelling is ',mean_room_per_dwelling)\n",
    "print('The median age is ', median_age)\n",
    "print('The mean distance is ', mean_dist)\n",
    "print(f'The percentage of houses with price lower than $20,000 is  {low_price_houses_percentage:.2f}%')\n"
   ]
  },
  {
   "cell_type": "raw",
   "id": "e225fa90",
   "metadata": {},
   "source": [
    "2. The Data Wrangling Workshop: Activity 4.01, page 233"
   ]
  },
  {
   "cell_type": "raw",
   "id": "c0a25bdb",
   "metadata": {},
   "source": [
    "1- Load the necessary libraries"
   ]
  },
  {
   "cell_type": "code",
   "execution_count": 12,
   "id": "369e6909",
   "metadata": {},
   "outputs": [],
   "source": [
    "# Loading the libraries\n",
    "import pandas as pd\n",
    "import numpy as np\n",
    "import matplotlib.pyplot as plt"
   ]
  },
  {
   "cell_type": "code",
   "execution_count": 13,
   "id": "8b14388f",
   "metadata": {},
   "outputs": [],
   "source": [
    "# Read the adult income dataset from the url\n",
    "url = 'https://raw.githubusercontent.com/TrainingByPackt/Data-Wrangling-with-Python/master/Chapter04/Activity06/adult_income_data.csv'\n",
    "\n",
    "# Reading the csv into a dataframe\n",
    "adult_income_data = pd.read_csv(url)\n"
   ]
  },
  {
   "cell_type": "code",
   "execution_count": 14,
   "id": "dbb5614b",
   "metadata": {},
   "outputs": [
    {
     "data": {
      "text/html": [
       "<div>\n",
       "<style scoped>\n",
       "    .dataframe tbody tr th:only-of-type {\n",
       "        vertical-align: middle;\n",
       "    }\n",
       "\n",
       "    .dataframe tbody tr th {\n",
       "        vertical-align: top;\n",
       "    }\n",
       "\n",
       "    .dataframe thead th {\n",
       "        text-align: right;\n",
       "    }\n",
       "</style>\n",
       "<table border=\"1\" class=\"dataframe\">\n",
       "  <thead>\n",
       "    <tr style=\"text-align: right;\">\n",
       "      <th></th>\n",
       "      <th>39</th>\n",
       "      <th>State-gov</th>\n",
       "      <th>77516</th>\n",
       "      <th>Bachelors</th>\n",
       "      <th>13</th>\n",
       "      <th>Never-married</th>\n",
       "      <th>Adm-clerical</th>\n",
       "      <th>Not-in-family</th>\n",
       "      <th>Male</th>\n",
       "      <th>2174</th>\n",
       "      <th>0</th>\n",
       "      <th>40</th>\n",
       "      <th>United-States</th>\n",
       "      <th>&lt;=50K</th>\n",
       "    </tr>\n",
       "  </thead>\n",
       "  <tbody>\n",
       "    <tr>\n",
       "      <th>0</th>\n",
       "      <td>50</td>\n",
       "      <td>Self-emp-not-inc</td>\n",
       "      <td>83311</td>\n",
       "      <td>Bachelors</td>\n",
       "      <td>13</td>\n",
       "      <td>Married-civ-spouse</td>\n",
       "      <td>Exec-managerial</td>\n",
       "      <td>Husband</td>\n",
       "      <td>Male</td>\n",
       "      <td>0</td>\n",
       "      <td>0</td>\n",
       "      <td>13</td>\n",
       "      <td>United-States</td>\n",
       "      <td>&lt;=50K</td>\n",
       "    </tr>\n",
       "    <tr>\n",
       "      <th>1</th>\n",
       "      <td>38</td>\n",
       "      <td>Private</td>\n",
       "      <td>215646</td>\n",
       "      <td>HS-grad</td>\n",
       "      <td>9</td>\n",
       "      <td>Divorced</td>\n",
       "      <td>Handlers-cleaners</td>\n",
       "      <td>Not-in-family</td>\n",
       "      <td>Male</td>\n",
       "      <td>0</td>\n",
       "      <td>0</td>\n",
       "      <td>40</td>\n",
       "      <td>United-States</td>\n",
       "      <td>&lt;=50K</td>\n",
       "    </tr>\n",
       "    <tr>\n",
       "      <th>2</th>\n",
       "      <td>53</td>\n",
       "      <td>Private</td>\n",
       "      <td>234721</td>\n",
       "      <td>11th</td>\n",
       "      <td>7</td>\n",
       "      <td>Married-civ-spouse</td>\n",
       "      <td>Handlers-cleaners</td>\n",
       "      <td>Husband</td>\n",
       "      <td>Male</td>\n",
       "      <td>0</td>\n",
       "      <td>0</td>\n",
       "      <td>40</td>\n",
       "      <td>United-States</td>\n",
       "      <td>&lt;=50K</td>\n",
       "    </tr>\n",
       "    <tr>\n",
       "      <th>3</th>\n",
       "      <td>28</td>\n",
       "      <td>Private</td>\n",
       "      <td>338409</td>\n",
       "      <td>Bachelors</td>\n",
       "      <td>13</td>\n",
       "      <td>Married-civ-spouse</td>\n",
       "      <td>Prof-specialty</td>\n",
       "      <td>Wife</td>\n",
       "      <td>Female</td>\n",
       "      <td>0</td>\n",
       "      <td>0</td>\n",
       "      <td>40</td>\n",
       "      <td>Cuba</td>\n",
       "      <td>&lt;=50K</td>\n",
       "    </tr>\n",
       "    <tr>\n",
       "      <th>4</th>\n",
       "      <td>37</td>\n",
       "      <td>Private</td>\n",
       "      <td>284582</td>\n",
       "      <td>Masters</td>\n",
       "      <td>14</td>\n",
       "      <td>Married-civ-spouse</td>\n",
       "      <td>Exec-managerial</td>\n",
       "      <td>Wife</td>\n",
       "      <td>Female</td>\n",
       "      <td>0</td>\n",
       "      <td>0</td>\n",
       "      <td>40</td>\n",
       "      <td>United-States</td>\n",
       "      <td>&lt;=50K</td>\n",
       "    </tr>\n",
       "    <tr>\n",
       "      <th>5</th>\n",
       "      <td>49</td>\n",
       "      <td>Private</td>\n",
       "      <td>160187</td>\n",
       "      <td>9th</td>\n",
       "      <td>5</td>\n",
       "      <td>Married-spouse-absent</td>\n",
       "      <td>Other-service</td>\n",
       "      <td>Not-in-family</td>\n",
       "      <td>Female</td>\n",
       "      <td>0</td>\n",
       "      <td>0</td>\n",
       "      <td>16</td>\n",
       "      <td>Jamaica</td>\n",
       "      <td>&lt;=50K</td>\n",
       "    </tr>\n",
       "    <tr>\n",
       "      <th>6</th>\n",
       "      <td>52</td>\n",
       "      <td>Self-emp-not-inc</td>\n",
       "      <td>209642</td>\n",
       "      <td>HS-grad</td>\n",
       "      <td>9</td>\n",
       "      <td>Married-civ-spouse</td>\n",
       "      <td>Exec-managerial</td>\n",
       "      <td>Husband</td>\n",
       "      <td>Male</td>\n",
       "      <td>0</td>\n",
       "      <td>0</td>\n",
       "      <td>45</td>\n",
       "      <td>United-States</td>\n",
       "      <td>&gt;50K</td>\n",
       "    </tr>\n",
       "    <tr>\n",
       "      <th>7</th>\n",
       "      <td>31</td>\n",
       "      <td>Private</td>\n",
       "      <td>45781</td>\n",
       "      <td>Masters</td>\n",
       "      <td>14</td>\n",
       "      <td>Never-married</td>\n",
       "      <td>Prof-specialty</td>\n",
       "      <td>Not-in-family</td>\n",
       "      <td>Female</td>\n",
       "      <td>14084</td>\n",
       "      <td>0</td>\n",
       "      <td>50</td>\n",
       "      <td>United-States</td>\n",
       "      <td>&gt;50K</td>\n",
       "    </tr>\n",
       "    <tr>\n",
       "      <th>8</th>\n",
       "      <td>42</td>\n",
       "      <td>Private</td>\n",
       "      <td>159449</td>\n",
       "      <td>Bachelors</td>\n",
       "      <td>13</td>\n",
       "      <td>Married-civ-spouse</td>\n",
       "      <td>Exec-managerial</td>\n",
       "      <td>Husband</td>\n",
       "      <td>Male</td>\n",
       "      <td>5178</td>\n",
       "      <td>0</td>\n",
       "      <td>40</td>\n",
       "      <td>United-States</td>\n",
       "      <td>&gt;50K</td>\n",
       "    </tr>\n",
       "    <tr>\n",
       "      <th>9</th>\n",
       "      <td>37</td>\n",
       "      <td>Private</td>\n",
       "      <td>280464</td>\n",
       "      <td>Some-college</td>\n",
       "      <td>10</td>\n",
       "      <td>Married-civ-spouse</td>\n",
       "      <td>Exec-managerial</td>\n",
       "      <td>Husband</td>\n",
       "      <td>Male</td>\n",
       "      <td>0</td>\n",
       "      <td>0</td>\n",
       "      <td>80</td>\n",
       "      <td>United-States</td>\n",
       "      <td>&gt;50K</td>\n",
       "    </tr>\n",
       "  </tbody>\n",
       "</table>\n",
       "</div>"
      ],
      "text/plain": [
       "   39          State-gov   77516      Bachelors  13           Never-married  \\\n",
       "0  50   Self-emp-not-inc   83311      Bachelors  13      Married-civ-spouse   \n",
       "1  38            Private  215646        HS-grad   9                Divorced   \n",
       "2  53            Private  234721           11th   7      Married-civ-spouse   \n",
       "3  28            Private  338409      Bachelors  13      Married-civ-spouse   \n",
       "4  37            Private  284582        Masters  14      Married-civ-spouse   \n",
       "5  49            Private  160187            9th   5   Married-spouse-absent   \n",
       "6  52   Self-emp-not-inc  209642        HS-grad   9      Married-civ-spouse   \n",
       "7  31            Private   45781        Masters  14           Never-married   \n",
       "8  42            Private  159449      Bachelors  13      Married-civ-spouse   \n",
       "9  37            Private  280464   Some-college  10      Married-civ-spouse   \n",
       "\n",
       "         Adm-clerical   Not-in-family     Male   2174  0  40   United-States  \\\n",
       "0     Exec-managerial         Husband     Male      0  0  13   United-States   \n",
       "1   Handlers-cleaners   Not-in-family     Male      0  0  40   United-States   \n",
       "2   Handlers-cleaners         Husband     Male      0  0  40   United-States   \n",
       "3      Prof-specialty            Wife   Female      0  0  40            Cuba   \n",
       "4     Exec-managerial            Wife   Female      0  0  40   United-States   \n",
       "5       Other-service   Not-in-family   Female      0  0  16         Jamaica   \n",
       "6     Exec-managerial         Husband     Male      0  0  45   United-States   \n",
       "7      Prof-specialty   Not-in-family   Female  14084  0  50   United-States   \n",
       "8     Exec-managerial         Husband     Male   5178  0  40   United-States   \n",
       "9     Exec-managerial         Husband     Male      0  0  80   United-States   \n",
       "\n",
       "    <=50K  \n",
       "0   <=50K  \n",
       "1   <=50K  \n",
       "2   <=50K  \n",
       "3   <=50K  \n",
       "4   <=50K  \n",
       "5   <=50K  \n",
       "6    >50K  \n",
       "7    >50K  \n",
       "8    >50K  \n",
       "9    >50K  "
      ]
     },
     "execution_count": 14,
     "metadata": {},
     "output_type": "execute_result"
    }
   ],
   "source": [
    "# Let's see the first 10 rows of the dataset\n",
    "adult_income_data.head(10)"
   ]
  },
  {
   "cell_type": "raw",
   "id": "b23a433e",
   "metadata": {},
   "source": [
    "The header of the dataset does not make sense. It looks like the header is an actual row with data."
   ]
  },
  {
   "cell_type": "raw",
   "id": "fee6cb0a",
   "metadata": {},
   "source": [
    "3- Create a script which reads the text file line by line, and extracts the first phrase which is the header name"
   ]
  },
  {
   "cell_type": "code",
   "execution_count": 15,
   "id": "639bae4c",
   "metadata": {},
   "outputs": [
    {
     "name": "stdout",
     "output_type": "stream",
     "text": [
      "['age', 'workclass', 'fnlwgt', 'education', 'education-num', 'marital-status', 'occupation', 'relationship', 'sex', 'capital-gain', 'capital-loss', 'hours-per-week', 'native-country']\n"
     ]
    }
   ],
   "source": [
    "# Script that will read a text file line by line\n",
    "\n",
    "def extract_headers(filename):\n",
    "    # Initialize the header names list\n",
    "    headers = []\n",
    "\n",
    "    with open(filename,'r') as file:\n",
    "        # Loop through each line\n",
    "        for line in file:\n",
    "            # Extrat the header by splitting at the colon and getting the 1st part\n",
    "            header = line.split(\":\")[0].strip()\n",
    "\n",
    "\n",
    "            # Add the header to the list if not empty\n",
    "            if header:\n",
    "                # Add the header to the list\n",
    "                headers.append(header)\n",
    "    return headers\n",
    "\n",
    "# Let's apply the script to adult_income_names.txt\n",
    "filename = \"adult_income_names.txt\"\n",
    "headers = extract_headers(filename)\n",
    "# Print the header\n",
    "print(headers)"
   ]
  },
  {
   "cell_type": "raw",
   "id": "d7890c70",
   "metadata": {},
   "source": [
    "Add a name of Income for the response variable to the dataset"
   ]
  },
  {
   "cell_type": "code",
   "execution_count": 16,
   "id": "4f09f223",
   "metadata": {},
   "outputs": [
    {
     "name": "stdout",
     "output_type": "stream",
     "text": [
      "['age', 'workclass', 'fnlwgt', 'education', 'education-num', 'marital-status', 'occupation', 'relationship', 'sex', 'capital-gain', 'capital-loss', 'hours-per-week', 'native-country', 'Income']\n"
     ]
    }
   ],
   "source": [
    "# Adding Income columns\n",
    "headers.append(\"Income\")\n",
    "\n",
    "# Print the new header \n",
    "print(headers)"
   ]
  },
  {
   "cell_type": "code",
   "execution_count": 17,
   "id": "13df28d2",
   "metadata": {
    "scrolled": false
   },
   "outputs": [
    {
     "data": {
      "text/html": [
       "<div>\n",
       "<style scoped>\n",
       "    .dataframe tbody tr th:only-of-type {\n",
       "        vertical-align: middle;\n",
       "    }\n",
       "\n",
       "    .dataframe tbody tr th {\n",
       "        vertical-align: top;\n",
       "    }\n",
       "\n",
       "    .dataframe thead th {\n",
       "        text-align: right;\n",
       "    }\n",
       "</style>\n",
       "<table border=\"1\" class=\"dataframe\">\n",
       "  <thead>\n",
       "    <tr style=\"text-align: right;\">\n",
       "      <th></th>\n",
       "      <th>age</th>\n",
       "      <th>workclass</th>\n",
       "      <th>fnlwgt</th>\n",
       "      <th>education</th>\n",
       "      <th>education-num</th>\n",
       "      <th>marital-status</th>\n",
       "      <th>occupation</th>\n",
       "      <th>relationship</th>\n",
       "      <th>sex</th>\n",
       "      <th>capital-gain</th>\n",
       "      <th>capital-loss</th>\n",
       "      <th>hours-per-week</th>\n",
       "      <th>native-country</th>\n",
       "      <th>Income</th>\n",
       "    </tr>\n",
       "  </thead>\n",
       "  <tbody>\n",
       "    <tr>\n",
       "      <th>0</th>\n",
       "      <td>50</td>\n",
       "      <td>Self-emp-not-inc</td>\n",
       "      <td>83311</td>\n",
       "      <td>Bachelors</td>\n",
       "      <td>13</td>\n",
       "      <td>Married-civ-spouse</td>\n",
       "      <td>Exec-managerial</td>\n",
       "      <td>Husband</td>\n",
       "      <td>Male</td>\n",
       "      <td>0</td>\n",
       "      <td>0</td>\n",
       "      <td>13</td>\n",
       "      <td>United-States</td>\n",
       "      <td>&lt;=50K</td>\n",
       "    </tr>\n",
       "    <tr>\n",
       "      <th>1</th>\n",
       "      <td>38</td>\n",
       "      <td>Private</td>\n",
       "      <td>215646</td>\n",
       "      <td>HS-grad</td>\n",
       "      <td>9</td>\n",
       "      <td>Divorced</td>\n",
       "      <td>Handlers-cleaners</td>\n",
       "      <td>Not-in-family</td>\n",
       "      <td>Male</td>\n",
       "      <td>0</td>\n",
       "      <td>0</td>\n",
       "      <td>40</td>\n",
       "      <td>United-States</td>\n",
       "      <td>&lt;=50K</td>\n",
       "    </tr>\n",
       "    <tr>\n",
       "      <th>2</th>\n",
       "      <td>53</td>\n",
       "      <td>Private</td>\n",
       "      <td>234721</td>\n",
       "      <td>11th</td>\n",
       "      <td>7</td>\n",
       "      <td>Married-civ-spouse</td>\n",
       "      <td>Handlers-cleaners</td>\n",
       "      <td>Husband</td>\n",
       "      <td>Male</td>\n",
       "      <td>0</td>\n",
       "      <td>0</td>\n",
       "      <td>40</td>\n",
       "      <td>United-States</td>\n",
       "      <td>&lt;=50K</td>\n",
       "    </tr>\n",
       "    <tr>\n",
       "      <th>3</th>\n",
       "      <td>28</td>\n",
       "      <td>Private</td>\n",
       "      <td>338409</td>\n",
       "      <td>Bachelors</td>\n",
       "      <td>13</td>\n",
       "      <td>Married-civ-spouse</td>\n",
       "      <td>Prof-specialty</td>\n",
       "      <td>Wife</td>\n",
       "      <td>Female</td>\n",
       "      <td>0</td>\n",
       "      <td>0</td>\n",
       "      <td>40</td>\n",
       "      <td>Cuba</td>\n",
       "      <td>&lt;=50K</td>\n",
       "    </tr>\n",
       "    <tr>\n",
       "      <th>4</th>\n",
       "      <td>37</td>\n",
       "      <td>Private</td>\n",
       "      <td>284582</td>\n",
       "      <td>Masters</td>\n",
       "      <td>14</td>\n",
       "      <td>Married-civ-spouse</td>\n",
       "      <td>Exec-managerial</td>\n",
       "      <td>Wife</td>\n",
       "      <td>Female</td>\n",
       "      <td>0</td>\n",
       "      <td>0</td>\n",
       "      <td>40</td>\n",
       "      <td>United-States</td>\n",
       "      <td>&lt;=50K</td>\n",
       "    </tr>\n",
       "    <tr>\n",
       "      <th>...</th>\n",
       "      <td>...</td>\n",
       "      <td>...</td>\n",
       "      <td>...</td>\n",
       "      <td>...</td>\n",
       "      <td>...</td>\n",
       "      <td>...</td>\n",
       "      <td>...</td>\n",
       "      <td>...</td>\n",
       "      <td>...</td>\n",
       "      <td>...</td>\n",
       "      <td>...</td>\n",
       "      <td>...</td>\n",
       "      <td>...</td>\n",
       "      <td>...</td>\n",
       "    </tr>\n",
       "    <tr>\n",
       "      <th>32555</th>\n",
       "      <td>27</td>\n",
       "      <td>Private</td>\n",
       "      <td>257302</td>\n",
       "      <td>Assoc-acdm</td>\n",
       "      <td>12</td>\n",
       "      <td>Married-civ-spouse</td>\n",
       "      <td>Tech-support</td>\n",
       "      <td>Wife</td>\n",
       "      <td>Female</td>\n",
       "      <td>0</td>\n",
       "      <td>0</td>\n",
       "      <td>38</td>\n",
       "      <td>United-States</td>\n",
       "      <td>&lt;=50K</td>\n",
       "    </tr>\n",
       "    <tr>\n",
       "      <th>32556</th>\n",
       "      <td>40</td>\n",
       "      <td>Private</td>\n",
       "      <td>154374</td>\n",
       "      <td>HS-grad</td>\n",
       "      <td>9</td>\n",
       "      <td>Married-civ-spouse</td>\n",
       "      <td>Machine-op-inspct</td>\n",
       "      <td>Husband</td>\n",
       "      <td>Male</td>\n",
       "      <td>0</td>\n",
       "      <td>0</td>\n",
       "      <td>40</td>\n",
       "      <td>United-States</td>\n",
       "      <td>&gt;50K</td>\n",
       "    </tr>\n",
       "    <tr>\n",
       "      <th>32557</th>\n",
       "      <td>58</td>\n",
       "      <td>Private</td>\n",
       "      <td>151910</td>\n",
       "      <td>HS-grad</td>\n",
       "      <td>9</td>\n",
       "      <td>Widowed</td>\n",
       "      <td>Adm-clerical</td>\n",
       "      <td>Unmarried</td>\n",
       "      <td>Female</td>\n",
       "      <td>0</td>\n",
       "      <td>0</td>\n",
       "      <td>40</td>\n",
       "      <td>United-States</td>\n",
       "      <td>&lt;=50K</td>\n",
       "    </tr>\n",
       "    <tr>\n",
       "      <th>32558</th>\n",
       "      <td>22</td>\n",
       "      <td>Private</td>\n",
       "      <td>201490</td>\n",
       "      <td>HS-grad</td>\n",
       "      <td>9</td>\n",
       "      <td>Never-married</td>\n",
       "      <td>Adm-clerical</td>\n",
       "      <td>Own-child</td>\n",
       "      <td>Male</td>\n",
       "      <td>0</td>\n",
       "      <td>0</td>\n",
       "      <td>20</td>\n",
       "      <td>United-States</td>\n",
       "      <td>&lt;=50K</td>\n",
       "    </tr>\n",
       "    <tr>\n",
       "      <th>32559</th>\n",
       "      <td>52</td>\n",
       "      <td>Self-emp-inc</td>\n",
       "      <td>287927</td>\n",
       "      <td>HS-grad</td>\n",
       "      <td>9</td>\n",
       "      <td>Married-civ-spouse</td>\n",
       "      <td>Exec-managerial</td>\n",
       "      <td>Wife</td>\n",
       "      <td>Female</td>\n",
       "      <td>15024</td>\n",
       "      <td>0</td>\n",
       "      <td>40</td>\n",
       "      <td>United-States</td>\n",
       "      <td>&gt;50K</td>\n",
       "    </tr>\n",
       "  </tbody>\n",
       "</table>\n",
       "<p>32560 rows × 14 columns</p>\n",
       "</div>"
      ],
      "text/plain": [
       "       age          workclass  fnlwgt    education  education-num  \\\n",
       "0       50   Self-emp-not-inc   83311    Bachelors             13   \n",
       "1       38            Private  215646      HS-grad              9   \n",
       "2       53            Private  234721         11th              7   \n",
       "3       28            Private  338409    Bachelors             13   \n",
       "4       37            Private  284582      Masters             14   \n",
       "...    ...                ...     ...          ...            ...   \n",
       "32555   27            Private  257302   Assoc-acdm             12   \n",
       "32556   40            Private  154374      HS-grad              9   \n",
       "32557   58            Private  151910      HS-grad              9   \n",
       "32558   22            Private  201490      HS-grad              9   \n",
       "32559   52       Self-emp-inc  287927      HS-grad              9   \n",
       "\n",
       "            marital-status          occupation    relationship      sex  \\\n",
       "0       Married-civ-spouse     Exec-managerial         Husband     Male   \n",
       "1                 Divorced   Handlers-cleaners   Not-in-family     Male   \n",
       "2       Married-civ-spouse   Handlers-cleaners         Husband     Male   \n",
       "3       Married-civ-spouse      Prof-specialty            Wife   Female   \n",
       "4       Married-civ-spouse     Exec-managerial            Wife   Female   \n",
       "...                    ...                 ...             ...      ...   \n",
       "32555   Married-civ-spouse        Tech-support            Wife   Female   \n",
       "32556   Married-civ-spouse   Machine-op-inspct         Husband     Male   \n",
       "32557              Widowed        Adm-clerical       Unmarried   Female   \n",
       "32558        Never-married        Adm-clerical       Own-child     Male   \n",
       "32559   Married-civ-spouse     Exec-managerial            Wife   Female   \n",
       "\n",
       "       capital-gain  capital-loss  hours-per-week  native-country  Income  \n",
       "0                 0             0              13   United-States   <=50K  \n",
       "1                 0             0              40   United-States   <=50K  \n",
       "2                 0             0              40   United-States   <=50K  \n",
       "3                 0             0              40            Cuba   <=50K  \n",
       "4                 0             0              40   United-States   <=50K  \n",
       "...             ...           ...             ...             ...     ...  \n",
       "32555             0             0              38   United-States   <=50K  \n",
       "32556             0             0              40   United-States    >50K  \n",
       "32557             0             0              40   United-States   <=50K  \n",
       "32558             0             0              20   United-States   <=50K  \n",
       "32559         15024             0              40   United-States    >50K  \n",
       "\n",
       "[32560 rows x 14 columns]"
      ]
     },
     "execution_count": 17,
     "metadata": {},
     "output_type": "execute_result"
    }
   ],
   "source": [
    "# Adding the new header to the dataset\n",
    "adult_income_data.columns = headers\n",
    "\n",
    "# Preview the dataset\n",
    "adult_income_data"
   ]
  },
  {
   "cell_type": "code",
   "execution_count": 18,
   "id": "889b54d6",
   "metadata": {},
   "outputs": [
    {
     "name": "stdout",
     "output_type": "stream",
     "text": [
      "age               0\n",
      "workclass         0\n",
      "fnlwgt            0\n",
      "education         0\n",
      "education-num     0\n",
      "marital-status    0\n",
      "occupation        0\n",
      "relationship      0\n",
      "sex               0\n",
      "capital-gain      0\n",
      "capital-loss      0\n",
      "hours-per-week    0\n",
      "native-country    0\n",
      "Income            0\n",
      "dtype: int64\n"
     ]
    }
   ],
   "source": [
    "# Find the missing values\n",
    "missing_values = adult_income_data.isnull().sum()\n",
    "\n",
    "# Print the count of the missing values\n",
    "print(missing_values)"
   ]
  },
  {
   "cell_type": "raw",
   "id": "31aa64ab",
   "metadata": {},
   "source": [
    "6- Create a dataframe with only age, education and occupation by using subsetting"
   ]
  },
  {
   "cell_type": "code",
   "execution_count": 19,
   "id": "e00fecbd",
   "metadata": {},
   "outputs": [
    {
     "data": {
      "text/html": [
       "<div>\n",
       "<style scoped>\n",
       "    .dataframe tbody tr th:only-of-type {\n",
       "        vertical-align: middle;\n",
       "    }\n",
       "\n",
       "    .dataframe tbody tr th {\n",
       "        vertical-align: top;\n",
       "    }\n",
       "\n",
       "    .dataframe thead th {\n",
       "        text-align: right;\n",
       "    }\n",
       "</style>\n",
       "<table border=\"1\" class=\"dataframe\">\n",
       "  <thead>\n",
       "    <tr style=\"text-align: right;\">\n",
       "      <th></th>\n",
       "      <th>age</th>\n",
       "      <th>education</th>\n",
       "      <th>occupation</th>\n",
       "    </tr>\n",
       "  </thead>\n",
       "  <tbody>\n",
       "    <tr>\n",
       "      <th>0</th>\n",
       "      <td>50</td>\n",
       "      <td>Bachelors</td>\n",
       "      <td>Exec-managerial</td>\n",
       "    </tr>\n",
       "    <tr>\n",
       "      <th>1</th>\n",
       "      <td>38</td>\n",
       "      <td>HS-grad</td>\n",
       "      <td>Handlers-cleaners</td>\n",
       "    </tr>\n",
       "    <tr>\n",
       "      <th>2</th>\n",
       "      <td>53</td>\n",
       "      <td>11th</td>\n",
       "      <td>Handlers-cleaners</td>\n",
       "    </tr>\n",
       "    <tr>\n",
       "      <th>3</th>\n",
       "      <td>28</td>\n",
       "      <td>Bachelors</td>\n",
       "      <td>Prof-specialty</td>\n",
       "    </tr>\n",
       "    <tr>\n",
       "      <th>4</th>\n",
       "      <td>37</td>\n",
       "      <td>Masters</td>\n",
       "      <td>Exec-managerial</td>\n",
       "    </tr>\n",
       "  </tbody>\n",
       "</table>\n",
       "</div>"
      ],
      "text/plain": [
       "   age   education          occupation\n",
       "0   50   Bachelors     Exec-managerial\n",
       "1   38     HS-grad   Handlers-cleaners\n",
       "2   53        11th   Handlers-cleaners\n",
       "3   28   Bachelors      Prof-specialty\n",
       "4   37     Masters     Exec-managerial"
      ]
     },
     "execution_count": 19,
     "metadata": {},
     "output_type": "execute_result"
    }
   ],
   "source": [
    "# Creating a subset\n",
    "age_edu_occup_data = adult_income_data[['age', 'education', 'occupation']]\n",
    "\n",
    "# Print the first 5 rows\n",
    "age_edu_occup_data.head(5)"
   ]
  },
  {
   "cell_type": "raw",
   "id": "8e339dea",
   "metadata": {},
   "source": [
    "7- Plot a histogram of age with a bin size of 20"
   ]
  },
  {
   "cell_type": "code",
   "execution_count": 20,
   "id": "66c99c5b",
   "metadata": {},
   "outputs": [
    {
     "data": {
      "image/png": "[encoded data removed]",
      "text/plain": [
       "<Figure size 640x480 with 1 Axes>"
      ]
     },
     "metadata": {},
     "output_type": "display_data"
    }
   ],
   "source": [
    "# Histogram of age\n",
    "plt.hist(age_edu_occup_data['age'], bins = 20)\n",
    "# Adding a x label\n",
    "plt.xlabel('Age')\n",
    "# Adding a title\n",
    "plt.title('Histogram of age')\n",
    "plt.grid(True)\n",
    "# Display the plot\n",
    "plt.show()"
   ]
  },
  {
   "cell_type": "raw",
   "id": "870d0949",
   "metadata": {},
   "source": [
    "8- Create a function to strip the white space character"
   ]
  },
  {
   "cell_type": "code",
   "execution_count": 21,
   "id": "51034c69",
   "metadata": {},
   "outputs": [],
   "source": [
    "# Function to strip white space character\n",
    "def remove_whitespace(data):\n",
    "    return data.strip()"
   ]
  },
  {
   "cell_type": "raw",
   "id": "a12d8ee9",
   "metadata": {},
   "source": [
    "Use the 'apply' method to apply this function to all the columns with string values, create a new column, copy the values from this new column to the old column, and drop the new column."
   ]
  },
  {
   "cell_type": "code",
   "execution_count": 22,
   "id": "f91a92cb",
   "metadata": {},
   "outputs": [
    {
     "name": "stderr",
     "output_type": "stream",
     "text": [
      "C:\\Users\\Eyram\\AppData\\Local\\Temp\\ipykernel_3448\\2359383756.py:3: SettingWithCopyWarning: \n",
      "A value is trying to be set on a copy of a slice from a DataFrame.\n",
      "Try using .loc[row_indexer,col_indexer] = value instead\n",
      "\n",
      "See the caveats in the documentation: https://pandas.pydata.org/pandas-docs/stable/user_guide/indexing.html#returning-a-view-versus-a-copy\n",
      "  age_edu_occup_data['new_education'] = age_edu_occup_data['education'].apply(remove_whitespace)\n",
      "C:\\Users\\Eyram\\AppData\\Local\\Temp\\ipykernel_3448\\2359383756.py:4: SettingWithCopyWarning: \n",
      "A value is trying to be set on a copy of a slice from a DataFrame.\n",
      "Try using .loc[row_indexer,col_indexer] = value instead\n",
      "\n",
      "See the caveats in the documentation: https://pandas.pydata.org/pandas-docs/stable/user_guide/indexing.html#returning-a-view-versus-a-copy\n",
      "  age_edu_occup_data['new_occupation'] = age_edu_occup_data['occupation'].apply(remove_whitespace)\n",
      "C:\\Users\\Eyram\\AppData\\Local\\Temp\\ipykernel_3448\\2359383756.py:7: SettingWithCopyWarning: \n",
      "A value is trying to be set on a copy of a slice from a DataFrame.\n",
      "Try using .loc[row_indexer,col_indexer] = value instead\n",
      "\n",
      "See the caveats in the documentation: https://pandas.pydata.org/pandas-docs/stable/user_guide/indexing.html#returning-a-view-versus-a-copy\n",
      "  age_edu_occup_data['education'] = age_edu_occup_data['new_education']\n",
      "C:\\Users\\Eyram\\AppData\\Local\\Temp\\ipykernel_3448\\2359383756.py:8: SettingWithCopyWarning: \n",
      "A value is trying to be set on a copy of a slice from a DataFrame.\n",
      "Try using .loc[row_indexer,col_indexer] = value instead\n",
      "\n",
      "See the caveats in the documentation: https://pandas.pydata.org/pandas-docs/stable/user_guide/indexing.html#returning-a-view-versus-a-copy\n",
      "  age_edu_occup_data['occupation'] = age_edu_occup_data['new_occupation']\n"
     ]
    },
    {
     "data": {
      "text/html": [
       "<div>\n",
       "<style scoped>\n",
       "    .dataframe tbody tr th:only-of-type {\n",
       "        vertical-align: middle;\n",
       "    }\n",
       "\n",
       "    .dataframe tbody tr th {\n",
       "        vertical-align: top;\n",
       "    }\n",
       "\n",
       "    .dataframe thead th {\n",
       "        text-align: right;\n",
       "    }\n",
       "</style>\n",
       "<table border=\"1\" class=\"dataframe\">\n",
       "  <thead>\n",
       "    <tr style=\"text-align: right;\">\n",
       "      <th></th>\n",
       "      <th>age</th>\n",
       "      <th>education</th>\n",
       "      <th>occupation</th>\n",
       "    </tr>\n",
       "  </thead>\n",
       "  <tbody>\n",
       "    <tr>\n",
       "      <th>0</th>\n",
       "      <td>50</td>\n",
       "      <td>Bachelors</td>\n",
       "      <td>Exec-managerial</td>\n",
       "    </tr>\n",
       "    <tr>\n",
       "      <th>1</th>\n",
       "      <td>38</td>\n",
       "      <td>HS-grad</td>\n",
       "      <td>Handlers-cleaners</td>\n",
       "    </tr>\n",
       "    <tr>\n",
       "      <th>2</th>\n",
       "      <td>53</td>\n",
       "      <td>11th</td>\n",
       "      <td>Handlers-cleaners</td>\n",
       "    </tr>\n",
       "    <tr>\n",
       "      <th>3</th>\n",
       "      <td>28</td>\n",
       "      <td>Bachelors</td>\n",
       "      <td>Prof-specialty</td>\n",
       "    </tr>\n",
       "    <tr>\n",
       "      <th>4</th>\n",
       "      <td>37</td>\n",
       "      <td>Masters</td>\n",
       "      <td>Exec-managerial</td>\n",
       "    </tr>\n",
       "  </tbody>\n",
       "</table>\n",
       "</div>"
      ],
      "text/plain": [
       "   age  education         occupation\n",
       "0   50  Bachelors    Exec-managerial\n",
       "1   38    HS-grad  Handlers-cleaners\n",
       "2   53       11th  Handlers-cleaners\n",
       "3   28  Bachelors     Prof-specialty\n",
       "4   37    Masters    Exec-managerial"
      ]
     },
     "execution_count": 22,
     "metadata": {},
     "output_type": "execute_result"
    }
   ],
   "source": [
    "# Applying the function to all columns with string values\n",
    "# The columns with string values are education and occupation\n",
    "age_edu_occup_data['new_education'] = age_edu_occup_data['education'].apply(remove_whitespace)\n",
    "age_edu_occup_data['new_occupation'] = age_edu_occup_data['occupation'].apply(remove_whitespace)\n",
    "\n",
    "# Replace the old column with the new one\n",
    "age_edu_occup_data['education'] = age_edu_occup_data['new_education']\n",
    "age_edu_occup_data['occupation'] = age_edu_occup_data['new_occupation']\n",
    "\n",
    "# Drop the new column\n",
    "age_edu_occup_data = age_edu_occup_data.drop(['new_education', 'new_occupation'], axis=1)\n",
    "\n",
    "# Print the first 5 rows of the new dataset\n",
    "age_edu_occup_data.head(5)"
   ]
  },
  {
   "cell_type": "code",
   "execution_count": 23,
   "id": "de8ce5c7",
   "metadata": {},
   "outputs": [
    {
     "data": {
      "text/html": [
       "<div>\n",
       "<style scoped>\n",
       "    .dataframe tbody tr th:only-of-type {\n",
       "        vertical-align: middle;\n",
       "    }\n",
       "\n",
       "    .dataframe tbody tr th {\n",
       "        vertical-align: top;\n",
       "    }\n",
       "\n",
       "    .dataframe thead th {\n",
       "        text-align: right;\n",
       "    }\n",
       "</style>\n",
       "<table border=\"1\" class=\"dataframe\">\n",
       "  <thead>\n",
       "    <tr style=\"text-align: right;\">\n",
       "      <th></th>\n",
       "      <th>age</th>\n",
       "      <th>education</th>\n",
       "      <th>occupation</th>\n",
       "    </tr>\n",
       "  </thead>\n",
       "  <tbody>\n",
       "    <tr>\n",
       "      <th>0</th>\n",
       "      <td>50</td>\n",
       "      <td>Bachelors</td>\n",
       "      <td>Exec-managerial</td>\n",
       "    </tr>\n",
       "    <tr>\n",
       "      <th>1</th>\n",
       "      <td>38</td>\n",
       "      <td>HS-grad</td>\n",
       "      <td>Handlers-cleaners</td>\n",
       "    </tr>\n",
       "    <tr>\n",
       "      <th>2</th>\n",
       "      <td>53</td>\n",
       "      <td>11th</td>\n",
       "      <td>Handlers-cleaners</td>\n",
       "    </tr>\n",
       "    <tr>\n",
       "      <th>3</th>\n",
       "      <td>28</td>\n",
       "      <td>Bachelors</td>\n",
       "      <td>Prof-specialty</td>\n",
       "    </tr>\n",
       "    <tr>\n",
       "      <th>4</th>\n",
       "      <td>37</td>\n",
       "      <td>Masters</td>\n",
       "      <td>Exec-managerial</td>\n",
       "    </tr>\n",
       "  </tbody>\n",
       "</table>\n",
       "</div>"
      ],
      "text/plain": [
       "   age  education         occupation\n",
       "0   50  Bachelors    Exec-managerial\n",
       "1   38    HS-grad  Handlers-cleaners\n",
       "2   53       11th  Handlers-cleaners\n",
       "3   28  Bachelors     Prof-specialty\n",
       "4   37    Masters    Exec-managerial"
      ]
     },
     "execution_count": 23,
     "metadata": {},
     "output_type": "execute_result"
    }
   ],
   "source": [
    "# Let's use .loc to avoid the previous errors\n",
    "# Applying the function to all columns with string values\n",
    "# The columns with string values are education and occupation\n",
    "age_edu_occup_data.loc[:, 'education'] = age_edu_occup_data['education'].apply(remove_whitespace)\n",
    "age_edu_occup_data.loc[:, 'occupation'] = age_edu_occup_data['occupation'].apply(remove_whitespace)\n",
    "\n",
    "# Print the first 5 rows of the new dataset\n",
    "age_edu_occup_data.head(5)"
   ]
  },
  {
   "cell_type": "raw",
   "id": "35335150",
   "metadata": {},
   "source": [
    "10- Find the number of people who are aged between 30 and 50"
   ]
  },
  {
   "cell_type": "code",
   "execution_count": 24,
   "id": "303020dc",
   "metadata": {},
   "outputs": [
    {
     "name": "stdout",
     "output_type": "stream",
     "text": [
      "The number of people aged between 30 and 50 is : 16389\n"
     ]
    }
   ],
   "source": [
    "# Finding the number of people 30 < age < 50\n",
    "# Let's use the query method\n",
    "age_3_50 = age_edu_occup_data.query('30 <= age <= 50')\n",
    "\n",
    "# Count the number of people\n",
    "num_people = len(age_3_50)\n",
    "\n",
    "# Print the result\n",
    "print('The number of people aged between 30 and 50 is :',num_people)"
   ]
  },
  {
   "cell_type": "raw",
   "id": "a79f8931",
   "metadata": {},
   "source": [
    "# Group the records based on age and education to find how the mean age is disributed"
   ]
  },
  {
   "cell_type": "code",
   "execution_count": 25,
   "id": "6f054d2a",
   "metadata": {},
   "outputs": [],
   "source": [
    "# Grouping by age and education\n",
    "grouped_records = age_edu_occup_data.groupby(['age', 'education'])"
   ]
  },
  {
   "cell_type": "code",
   "execution_count": 26,
   "id": "405c3ac3",
   "metadata": {},
   "outputs": [],
   "source": [
    "# Mean age for each group\n",
    "mean_age_by_education = grouped_records['age'].mean()"
   ]
  },
  {
   "cell_type": "code",
   "execution_count": 27,
   "id": "a7e7d033",
   "metadata": {},
   "outputs": [
    {
     "data": {
      "text/plain": [
       "age  education   \n",
       "17   10th            17.0\n",
       "     11th            17.0\n",
       "     12th            17.0\n",
       "     5th-6th         17.0\n",
       "     7th-8th         17.0\n",
       "     9th             17.0\n",
       "     HS-grad         17.0\n",
       "     Some-college    17.0\n",
       "18   10th            18.0\n",
       "     11th            18.0\n",
       "     12th            18.0\n",
       "     5th-6th         18.0\n",
       "     7th-8th         18.0\n",
       "     9th             18.0\n",
       "     HS-grad         18.0\n",
       "     Masters         18.0\n",
       "     Some-college    18.0\n",
       "19   10th            19.0\n",
       "     11th            19.0\n",
       "     12th            19.0\n",
       "     1st-4th         19.0\n",
       "     5th-6th         19.0\n",
       "     7th-8th         19.0\n",
       "     9th             19.0\n",
       "     Assoc-acdm      19.0\n",
       "Name: age, dtype: float64"
      ]
     },
     "execution_count": 27,
     "metadata": {},
     "output_type": "execute_result"
    }
   ],
   "source": [
    "# Printing the result\n",
    "mean_age_by_education.head(25)"
   ]
  },
  {
   "cell_type": "raw",
   "id": "30d09ef7",
   "metadata": {},
   "source": [
    "12- Group by occupation and show the summary statistics of age"
   ]
  },
  {
   "cell_type": "code",
   "execution_count": 28,
   "id": "c18a26fe",
   "metadata": {},
   "outputs": [
    {
     "name": "stdout",
     "output_type": "stream",
     "text": [
      "Summary statistics for age grouped by occupation:\n",
      "                    count       mean        std   min   25%   50%   75%   max\n",
      "occupation                                                                   \n",
      "?                  1843.0  40.882800  20.336350  17.0  21.0  35.0  61.0  90.0\n",
      "Adm-clerical       3769.0  36.963916  13.364730  17.0  26.0  35.0  46.0  90.0\n",
      "Armed-Forces          9.0  30.222222   8.089774  23.0  24.0  29.0  34.0  46.0\n",
      "Craft-repair       4099.0  39.031471  11.606436  17.0  30.0  38.0  47.0  90.0\n",
      "Exec-managerial    4066.0  42.169208  11.974548  17.0  33.0  41.0  50.0  90.0\n",
      "Farming-fishing     994.0  41.211268  15.070283  17.0  29.0  39.0  52.0  90.0\n",
      "Handlers-cleaners  1370.0  32.165693  12.372635  17.0  23.0  29.0  39.0  90.0\n",
      "Machine-op-inspct  2002.0  37.715285  12.068266  17.0  28.0  36.0  46.0  90.0\n",
      "Other-service      3295.0  34.949621  14.521508  17.0  22.0  32.0  45.0  90.0\n",
      "Priv-house-serv     149.0  41.724832  18.633688  17.0  24.0  40.0  57.0  81.0\n",
      "Prof-specialty     4140.0  40.517633  12.016676  17.0  31.0  40.0  48.0  90.0\n",
      "Protective-serv     649.0  38.953775  12.822062  17.0  29.0  36.0  47.0  90.0\n",
      "Sales              3650.0  37.353973  14.186352  17.0  25.0  35.0  47.0  90.0\n",
      "Tech-support        928.0  37.022629  11.316594  17.0  28.0  36.0  44.0  73.0\n",
      "Transport-moving   1597.0  40.197871  12.450792  17.0  30.0  39.0  49.0  90.0\n"
     ]
    }
   ],
   "source": [
    "# Group by 'occupation'\n",
    "grouped_by_occupation = age_edu_occup_data.groupby('occupation')\n",
    "\n",
    "# Summary statistics for age\n",
    "age_summary_stats = grouped_by_occupation['age'].describe()\n",
    "\n",
    "# Printing the result\n",
    "print(\"Summary statistics for age grouped by occupation:\")\n",
    "print(age_summary_stats)\n"
   ]
  },
  {
   "cell_type": "raw",
   "id": "835e6c3f",
   "metadata": {},
   "source": [
    "Which profession has the oldest workers on average and which profession has its largest share of the workforce above the 75th percentile"
   ]
  },
  {
   "cell_type": "code",
   "execution_count": 29,
   "id": "0d13dc98",
   "metadata": {},
   "outputs": [
    {
     "name": "stdout",
     "output_type": "stream",
     "text": [
      "Profession with the oldest workers on average: Exec-managerial\n",
      "Average age of workers in this profession: 42.16920806689621\n"
     ]
    }
   ],
   "source": [
    "# Average age per occupation\n",
    "average_age_by_occupation = age_edu_occup_data.groupby('occupation')['age'].mean()\n",
    "\n",
    "# Find the profession with the oldest workers on average\n",
    "oldest_profession = average_age_by_occupation.idxmax()\n",
    "oldest_profession_age = average_age_by_occupation.max()\n",
    "\n",
    "print(\"Profession with the oldest workers on average:\", oldest_profession)\n",
    "print(\"Average age of workers in this profession:\", oldest_profession_age)"
   ]
  },
  {
   "cell_type": "code",
   "execution_count": 30,
   "id": "37c97869",
   "metadata": {},
   "outputs": [
    {
     "data": {
      "text/plain": [
       "48.0"
      ]
     },
     "execution_count": 30,
     "metadata": {},
     "output_type": "execute_result"
    }
   ],
   "source": [
    "# Calculate the 75th percentile of age\n",
    "seventy_fifth_percentile_age = age_edu_occup_data['age'].quantile(0.75)\n",
    "\n",
    "#Print result\n",
    "seventy_fifth_percentile_age"
   ]
  },
  {
   "cell_type": "code",
   "execution_count": 31,
   "id": "3e07fac4",
   "metadata": {},
   "outputs": [
    {
     "data": {
      "text/html": [
       "<div>\n",
       "<style scoped>\n",
       "    .dataframe tbody tr th:only-of-type {\n",
       "        vertical-align: middle;\n",
       "    }\n",
       "\n",
       "    .dataframe tbody tr th {\n",
       "        vertical-align: top;\n",
       "    }\n",
       "\n",
       "    .dataframe thead th {\n",
       "        text-align: right;\n",
       "    }\n",
       "</style>\n",
       "<table border=\"1\" class=\"dataframe\">\n",
       "  <thead>\n",
       "    <tr style=\"text-align: right;\">\n",
       "      <th></th>\n",
       "      <th>age</th>\n",
       "      <th>education</th>\n",
       "      <th>occupation</th>\n",
       "    </tr>\n",
       "  </thead>\n",
       "  <tbody>\n",
       "    <tr>\n",
       "      <th>0</th>\n",
       "      <td>50</td>\n",
       "      <td>Bachelors</td>\n",
       "      <td>Exec-managerial</td>\n",
       "    </tr>\n",
       "    <tr>\n",
       "      <th>2</th>\n",
       "      <td>53</td>\n",
       "      <td>11th</td>\n",
       "      <td>Handlers-cleaners</td>\n",
       "    </tr>\n",
       "    <tr>\n",
       "      <th>5</th>\n",
       "      <td>49</td>\n",
       "      <td>9th</td>\n",
       "      <td>Other-service</td>\n",
       "    </tr>\n",
       "    <tr>\n",
       "      <th>6</th>\n",
       "      <td>52</td>\n",
       "      <td>HS-grad</td>\n",
       "      <td>Exec-managerial</td>\n",
       "    </tr>\n",
       "    <tr>\n",
       "      <th>20</th>\n",
       "      <td>54</td>\n",
       "      <td>HS-grad</td>\n",
       "      <td>Other-service</td>\n",
       "    </tr>\n",
       "    <tr>\n",
       "      <th>...</th>\n",
       "      <td>...</td>\n",
       "      <td>...</td>\n",
       "      <td>...</td>\n",
       "    </tr>\n",
       "    <tr>\n",
       "      <th>32541</th>\n",
       "      <td>72</td>\n",
       "      <td>HS-grad</td>\n",
       "      <td>?</td>\n",
       "    </tr>\n",
       "    <tr>\n",
       "      <th>32547</th>\n",
       "      <td>65</td>\n",
       "      <td>Prof-school</td>\n",
       "      <td>Prof-specialty</td>\n",
       "    </tr>\n",
       "    <tr>\n",
       "      <th>32553</th>\n",
       "      <td>53</td>\n",
       "      <td>Masters</td>\n",
       "      <td>Exec-managerial</td>\n",
       "    </tr>\n",
       "    <tr>\n",
       "      <th>32557</th>\n",
       "      <td>58</td>\n",
       "      <td>HS-grad</td>\n",
       "      <td>Adm-clerical</td>\n",
       "    </tr>\n",
       "    <tr>\n",
       "      <th>32559</th>\n",
       "      <td>52</td>\n",
       "      <td>HS-grad</td>\n",
       "      <td>Exec-managerial</td>\n",
       "    </tr>\n",
       "  </tbody>\n",
       "</table>\n",
       "<p>7639 rows × 3 columns</p>\n",
       "</div>"
      ],
      "text/plain": [
       "       age    education         occupation\n",
       "0       50    Bachelors    Exec-managerial\n",
       "2       53         11th  Handlers-cleaners\n",
       "5       49          9th      Other-service\n",
       "6       52      HS-grad    Exec-managerial\n",
       "20      54      HS-grad      Other-service\n",
       "...    ...          ...                ...\n",
       "32541   72      HS-grad                  ?\n",
       "32547   65  Prof-school     Prof-specialty\n",
       "32553   53      Masters    Exec-managerial\n",
       "32557   58      HS-grad       Adm-clerical\n",
       "32559   52      HS-grad    Exec-managerial\n",
       "\n",
       "[7639 rows x 3 columns]"
      ]
     },
     "execution_count": 31,
     "metadata": {},
     "output_type": "execute_result"
    }
   ],
   "source": [
    "# Dataset for workers above the 75th percentile\n",
    "above_75th_percentile = age_edu_occup_data[age_edu_occup_data['age'] > seventy_fifth_percentile_age]\n",
    "#Print result\n",
    "above_75th_percentile"
   ]
  },
  {
   "cell_type": "code",
   "execution_count": 32,
   "id": "766fb620",
   "metadata": {},
   "outputs": [
    {
     "data": {
      "text/plain": [
       "occupation\n",
       "Exec-managerial      1165\n",
       "Prof-specialty        995\n",
       "Craft-repair          919\n",
       "Sales                 845\n",
       "Adm-clerical          748\n",
       "?                     706\n",
       "Other-service         631\n",
       "Transport-moving      409\n",
       "Machine-op-inspct     394\n",
       "Farming-fishing       308\n",
       "Handlers-cleaners     160\n",
       "Tech-support          158\n",
       "Protective-serv       148\n",
       "Priv-house-serv        53\n",
       "Name: count, dtype: int64"
      ]
     },
     "execution_count": 32,
     "metadata": {},
     "output_type": "execute_result"
    }
   ],
   "source": [
    "# Number of workers in each profession\n",
    "count_above_75th_percentile = above_75th_percentile['occupation'].value_counts()\n",
    "#Print result\n",
    "count_above_75th_percentile"
   ]
  },
  {
   "cell_type": "code",
   "execution_count": 33,
   "id": "c340f7c7",
   "metadata": {},
   "outputs": [
    {
     "name": "stdout",
     "output_type": "stream",
     "text": [
      "Profession with the largest share of workers above the 75th percentile: Exec-managerial\n",
      "Number of workers in this profession: 1165\n"
     ]
    }
   ],
   "source": [
    "# Profession with the largest share of workers\n",
    "largest_share_75th_percentile = count_above_75th_percentile.idxmax()\n",
    "largest_share_75th_percentile_count = count_above_75th_percentile.max()\n",
    "\n",
    "print(\"Profession with the largest share of workers above the 75th percentile:\", largest_share_75th_percentile)\n",
    "print(\"Number of workers in this profession:\", largest_share_75th_percentile_count)"
   ]
  },
  {
   "cell_type": "raw",
   "id": "a2f07772",
   "metadata": {},
   "source": [
    "13 - Use subset and groupby to find outliers"
   ]
  },
  {
   "cell_type": "code",
   "execution_count": 34,
   "id": "5cdcd671",
   "metadata": {},
   "outputs": [
    {
     "name": "stdout",
     "output_type": "stream",
     "text": [
      "Summary Statistics:\n",
      "                    count       mean        std   min   25%   50%   75%   max\n",
      "occupation                                                                   \n",
      "?                  1843.0  40.882800  20.336350  17.0  21.0  35.0  61.0  90.0\n",
      "Adm-clerical       3769.0  36.963916  13.364730  17.0  26.0  35.0  46.0  90.0\n",
      "Armed-Forces          9.0  30.222222   8.089774  23.0  24.0  29.0  34.0  46.0\n",
      "Craft-repair       4099.0  39.031471  11.606436  17.0  30.0  38.0  47.0  90.0\n",
      "Exec-managerial    4066.0  42.169208  11.974548  17.0  33.0  41.0  50.0  90.0\n",
      "Farming-fishing     994.0  41.211268  15.070283  17.0  29.0  39.0  52.0  90.0\n",
      "Handlers-cleaners  1370.0  32.165693  12.372635  17.0  23.0  29.0  39.0  90.0\n",
      "Machine-op-inspct  2002.0  37.715285  12.068266  17.0  28.0  36.0  46.0  90.0\n",
      "Other-service      3295.0  34.949621  14.521508  17.0  22.0  32.0  45.0  90.0\n",
      "Priv-house-serv     149.0  41.724832  18.633688  17.0  24.0  40.0  57.0  81.0\n",
      "Prof-specialty     4140.0  40.517633  12.016676  17.0  31.0  40.0  48.0  90.0\n",
      "Protective-serv     649.0  38.953775  12.822062  17.0  29.0  36.0  47.0  90.0\n",
      "Sales              3650.0  37.353973  14.186352  17.0  25.0  35.0  47.0  90.0\n",
      "Tech-support        928.0  37.022629  11.316594  17.0  28.0  36.0  44.0  73.0\n",
      "Transport-moving   1597.0  40.197871  12.450792  17.0  30.0  39.0  49.0  90.0\n"
     ]
    }
   ],
   "source": [
    "# Group by occupation\n",
    "grouped_by_occupation = age_edu_occup_data.groupby('occupation')\n",
    "\n",
    "# Summary statistics for age\n",
    "occupation_summary_stats = grouped_by_occupation['age'].describe()\n",
    "\n",
    "\n",
    "# Print the summary statistics\n",
    "print(\"Summary Statistics:\")\n",
    "print(occupation_summary_stats)"
   ]
  },
  {
   "cell_type": "raw",
   "id": "c0a69aaf",
   "metadata": {},
   "source": [
    "The summary shows a very low number of Armed-Forces and Priv-house-serv. They can be considered outliers"
   ]
  },
  {
   "cell_type": "raw",
   "id": "26fe05d3",
   "metadata": {},
   "source": [
    "14- Plot the values on a bar chart"
   ]
  },
  {
   "cell_type": "code",
   "execution_count": 35,
   "id": "2a6c6449",
   "metadata": {},
   "outputs": [
    {
     "data": {
      "image/png": "[encoded data removed]",
      "text/plain": [
       "<Figure size 1000x800 with 1 Axes>"
      ]
     },
     "metadata": {},
     "output_type": "display_data"
    }
   ],
   "source": [
    "# Creating a horizontal bar chat\n",
    "plt.figure(figsize=(10, 8))\n",
    "plt.barh(y=occupation_summary_stats.index, width=occupation_summary_stats['count'])\n",
    "plt.xlabel('Count')\n",
    "plt.ylabel('Occupation')\n",
    "plt.title('Count of records by occupation')\n",
    "plt.show()"
   ]
  },
  {
   "cell_type": "raw",
   "id": "bcd4aec5",
   "metadata": {},
   "source": [
    "15 - Merge 2 data using common keys"
   ]
  },
  {
   "cell_type": "code",
   "execution_count": 36,
   "id": "aa4c6fec",
   "metadata": {},
   "outputs": [],
   "source": [
    "# Create 2 samples from the adult_income_data dataset\n",
    "# Let set the seed\n",
    "random_state = 39\n",
    "# Subset 1 with columns 'age', 'education', and 'occupation' and select a random sample of 10 rows\n",
    "dataset1 = adult_income_data[['age', 'education', 'occupation']].sample(n=10, random_state=random_state).copy()\n",
    "\n",
    "# Subset 2 with columns 'education', 'marital-status', 'sex', and 'native-country' and select a random sample of 10 rows\n",
    "dataset2 = adult_income_data[['education', 'marital-status', 'sex', 'native-country']].sample(n=10, random_state=random_state).copy()"
   ]
  },
  {
   "cell_type": "code",
   "execution_count": 37,
   "id": "c32b6375",
   "metadata": {},
   "outputs": [
    {
     "name": "stdout",
     "output_type": "stream",
     "text": [
      "       age      education          occupation\n",
      "17000   43   Some-college               Sales\n",
      "15555   45        Masters               Sales\n",
      "18292   20        HS-grad   Handlers-cleaners\n",
      "30500   21           11th       Other-service\n",
      "14402   40      Bachelors   Handlers-cleaners\n",
      "4078    39        HS-grad               Sales\n",
      "13760   36        HS-grad               Sales\n",
      "10509   35   Some-college        Adm-clerical\n",
      "5229    20   Some-college       Other-service\n",
      "3699    53   Some-college     Exec-managerial\n"
     ]
    }
   ],
   "source": [
    "# View the datasets\n",
    "print(dataset1.head(10))"
   ]
  },
  {
   "cell_type": "code",
   "execution_count": 38,
   "id": "02261eb9",
   "metadata": {},
   "outputs": [
    {
     "name": "stdout",
     "output_type": "stream",
     "text": [
      "           education       marital-status      sex  native-country\n",
      "17000   Some-college   Married-civ-spouse     Male   United-States\n",
      "15555        Masters   Married-civ-spouse     Male   United-States\n",
      "18292        HS-grad        Never-married     Male   United-States\n",
      "30500           11th        Never-married     Male     El-Salvador\n",
      "14402      Bachelors   Married-civ-spouse     Male   United-States\n",
      "4078         HS-grad   Married-civ-spouse     Male   United-States\n",
      "13760        HS-grad        Never-married   Female   United-States\n",
      "10509   Some-college   Married-civ-spouse   Female   United-States\n",
      "5229    Some-college   Married-civ-spouse     Male   United-States\n",
      "3699    Some-college   Married-civ-spouse     Male   United-States\n"
     ]
    }
   ],
   "source": [
    "print(dataset2.head(10))"
   ]
  },
  {
   "cell_type": "code",
   "execution_count": 39,
   "id": "a24ebebb",
   "metadata": {},
   "outputs": [],
   "source": [
    "# Merging the dataset"
   ]
  },
  {
   "cell_type": "code",
   "execution_count": 40,
   "id": "d729794f",
   "metadata": {},
   "outputs": [
    {
     "data": {
      "text/html": [
       "<div>\n",
       "<style scoped>\n",
       "    .dataframe tbody tr th:only-of-type {\n",
       "        vertical-align: middle;\n",
       "    }\n",
       "\n",
       "    .dataframe tbody tr th {\n",
       "        vertical-align: top;\n",
       "    }\n",
       "\n",
       "    .dataframe thead th {\n",
       "        text-align: right;\n",
       "    }\n",
       "</style>\n",
       "<table border=\"1\" class=\"dataframe\">\n",
       "  <thead>\n",
       "    <tr style=\"text-align: right;\">\n",
       "      <th></th>\n",
       "      <th>age</th>\n",
       "      <th>education</th>\n",
       "      <th>occupation</th>\n",
       "      <th>marital-status</th>\n",
       "      <th>sex</th>\n",
       "      <th>native-country</th>\n",
       "    </tr>\n",
       "  </thead>\n",
       "  <tbody>\n",
       "    <tr>\n",
       "      <th>0</th>\n",
       "      <td>43</td>\n",
       "      <td>Some-college</td>\n",
       "      <td>Sales</td>\n",
       "      <td>Married-civ-spouse</td>\n",
       "      <td>Male</td>\n",
       "      <td>United-States</td>\n",
       "    </tr>\n",
       "    <tr>\n",
       "      <th>1</th>\n",
       "      <td>43</td>\n",
       "      <td>Some-college</td>\n",
       "      <td>Sales</td>\n",
       "      <td>Married-civ-spouse</td>\n",
       "      <td>Female</td>\n",
       "      <td>United-States</td>\n",
       "    </tr>\n",
       "    <tr>\n",
       "      <th>4</th>\n",
       "      <td>35</td>\n",
       "      <td>Some-college</td>\n",
       "      <td>Adm-clerical</td>\n",
       "      <td>Married-civ-spouse</td>\n",
       "      <td>Male</td>\n",
       "      <td>United-States</td>\n",
       "    </tr>\n",
       "    <tr>\n",
       "      <th>5</th>\n",
       "      <td>35</td>\n",
       "      <td>Some-college</td>\n",
       "      <td>Adm-clerical</td>\n",
       "      <td>Married-civ-spouse</td>\n",
       "      <td>Female</td>\n",
       "      <td>United-States</td>\n",
       "    </tr>\n",
       "    <tr>\n",
       "      <th>8</th>\n",
       "      <td>20</td>\n",
       "      <td>Some-college</td>\n",
       "      <td>Other-service</td>\n",
       "      <td>Married-civ-spouse</td>\n",
       "      <td>Male</td>\n",
       "      <td>United-States</td>\n",
       "    </tr>\n",
       "    <tr>\n",
       "      <th>9</th>\n",
       "      <td>20</td>\n",
       "      <td>Some-college</td>\n",
       "      <td>Other-service</td>\n",
       "      <td>Married-civ-spouse</td>\n",
       "      <td>Female</td>\n",
       "      <td>United-States</td>\n",
       "    </tr>\n",
       "    <tr>\n",
       "      <th>12</th>\n",
       "      <td>53</td>\n",
       "      <td>Some-college</td>\n",
       "      <td>Exec-managerial</td>\n",
       "      <td>Married-civ-spouse</td>\n",
       "      <td>Male</td>\n",
       "      <td>United-States</td>\n",
       "    </tr>\n",
       "    <tr>\n",
       "      <th>13</th>\n",
       "      <td>53</td>\n",
       "      <td>Some-college</td>\n",
       "      <td>Exec-managerial</td>\n",
       "      <td>Married-civ-spouse</td>\n",
       "      <td>Female</td>\n",
       "      <td>United-States</td>\n",
       "    </tr>\n",
       "    <tr>\n",
       "      <th>16</th>\n",
       "      <td>45</td>\n",
       "      <td>Masters</td>\n",
       "      <td>Sales</td>\n",
       "      <td>Married-civ-spouse</td>\n",
       "      <td>Male</td>\n",
       "      <td>United-States</td>\n",
       "    </tr>\n",
       "    <tr>\n",
       "      <th>17</th>\n",
       "      <td>20</td>\n",
       "      <td>HS-grad</td>\n",
       "      <td>Handlers-cleaners</td>\n",
       "      <td>Never-married</td>\n",
       "      <td>Male</td>\n",
       "      <td>United-States</td>\n",
       "    </tr>\n",
       "    <tr>\n",
       "      <th>18</th>\n",
       "      <td>20</td>\n",
       "      <td>HS-grad</td>\n",
       "      <td>Handlers-cleaners</td>\n",
       "      <td>Married-civ-spouse</td>\n",
       "      <td>Male</td>\n",
       "      <td>United-States</td>\n",
       "    </tr>\n",
       "    <tr>\n",
       "      <th>19</th>\n",
       "      <td>20</td>\n",
       "      <td>HS-grad</td>\n",
       "      <td>Handlers-cleaners</td>\n",
       "      <td>Never-married</td>\n",
       "      <td>Female</td>\n",
       "      <td>United-States</td>\n",
       "    </tr>\n",
       "    <tr>\n",
       "      <th>20</th>\n",
       "      <td>39</td>\n",
       "      <td>HS-grad</td>\n",
       "      <td>Sales</td>\n",
       "      <td>Never-married</td>\n",
       "      <td>Male</td>\n",
       "      <td>United-States</td>\n",
       "    </tr>\n",
       "    <tr>\n",
       "      <th>21</th>\n",
       "      <td>39</td>\n",
       "      <td>HS-grad</td>\n",
       "      <td>Sales</td>\n",
       "      <td>Married-civ-spouse</td>\n",
       "      <td>Male</td>\n",
       "      <td>United-States</td>\n",
       "    </tr>\n",
       "    <tr>\n",
       "      <th>22</th>\n",
       "      <td>39</td>\n",
       "      <td>HS-grad</td>\n",
       "      <td>Sales</td>\n",
       "      <td>Never-married</td>\n",
       "      <td>Female</td>\n",
       "      <td>United-States</td>\n",
       "    </tr>\n",
       "    <tr>\n",
       "      <th>23</th>\n",
       "      <td>36</td>\n",
       "      <td>HS-grad</td>\n",
       "      <td>Sales</td>\n",
       "      <td>Never-married</td>\n",
       "      <td>Male</td>\n",
       "      <td>United-States</td>\n",
       "    </tr>\n",
       "    <tr>\n",
       "      <th>24</th>\n",
       "      <td>36</td>\n",
       "      <td>HS-grad</td>\n",
       "      <td>Sales</td>\n",
       "      <td>Married-civ-spouse</td>\n",
       "      <td>Male</td>\n",
       "      <td>United-States</td>\n",
       "    </tr>\n",
       "    <tr>\n",
       "      <th>25</th>\n",
       "      <td>36</td>\n",
       "      <td>HS-grad</td>\n",
       "      <td>Sales</td>\n",
       "      <td>Never-married</td>\n",
       "      <td>Female</td>\n",
       "      <td>United-States</td>\n",
       "    </tr>\n",
       "    <tr>\n",
       "      <th>26</th>\n",
       "      <td>21</td>\n",
       "      <td>11th</td>\n",
       "      <td>Other-service</td>\n",
       "      <td>Never-married</td>\n",
       "      <td>Male</td>\n",
       "      <td>El-Salvador</td>\n",
       "    </tr>\n",
       "    <tr>\n",
       "      <th>27</th>\n",
       "      <td>40</td>\n",
       "      <td>Bachelors</td>\n",
       "      <td>Handlers-cleaners</td>\n",
       "      <td>Married-civ-spouse</td>\n",
       "      <td>Male</td>\n",
       "      <td>United-States</td>\n",
       "    </tr>\n",
       "  </tbody>\n",
       "</table>\n",
       "</div>"
      ],
      "text/plain": [
       "    age      education          occupation       marital-status      sex  \\\n",
       "0    43   Some-college               Sales   Married-civ-spouse     Male   \n",
       "1    43   Some-college               Sales   Married-civ-spouse   Female   \n",
       "4    35   Some-college        Adm-clerical   Married-civ-spouse     Male   \n",
       "5    35   Some-college        Adm-clerical   Married-civ-spouse   Female   \n",
       "8    20   Some-college       Other-service   Married-civ-spouse     Male   \n",
       "9    20   Some-college       Other-service   Married-civ-spouse   Female   \n",
       "12   53   Some-college     Exec-managerial   Married-civ-spouse     Male   \n",
       "13   53   Some-college     Exec-managerial   Married-civ-spouse   Female   \n",
       "16   45        Masters               Sales   Married-civ-spouse     Male   \n",
       "17   20        HS-grad   Handlers-cleaners        Never-married     Male   \n",
       "18   20        HS-grad   Handlers-cleaners   Married-civ-spouse     Male   \n",
       "19   20        HS-grad   Handlers-cleaners        Never-married   Female   \n",
       "20   39        HS-grad               Sales        Never-married     Male   \n",
       "21   39        HS-grad               Sales   Married-civ-spouse     Male   \n",
       "22   39        HS-grad               Sales        Never-married   Female   \n",
       "23   36        HS-grad               Sales        Never-married     Male   \n",
       "24   36        HS-grad               Sales   Married-civ-spouse     Male   \n",
       "25   36        HS-grad               Sales        Never-married   Female   \n",
       "26   21           11th       Other-service        Never-married     Male   \n",
       "27   40      Bachelors   Handlers-cleaners   Married-civ-spouse     Male   \n",
       "\n",
       "    native-country  \n",
       "0    United-States  \n",
       "1    United-States  \n",
       "4    United-States  \n",
       "5    United-States  \n",
       "8    United-States  \n",
       "9    United-States  \n",
       "12   United-States  \n",
       "13   United-States  \n",
       "16   United-States  \n",
       "17   United-States  \n",
       "18   United-States  \n",
       "19   United-States  \n",
       "20   United-States  \n",
       "21   United-States  \n",
       "22   United-States  \n",
       "23   United-States  \n",
       "24   United-States  \n",
       "25   United-States  \n",
       "26     El-Salvador  \n",
       "27   United-States  "
      ]
     },
     "execution_count": 40,
     "metadata": {},
     "output_type": "execute_result"
    }
   ],
   "source": [
    "# Merging the datasets on the 'education' column\n",
    "merged_dataset = pd.merge(dataset1, dataset2, on='education')\n",
    "\n",
    "# Let's drop duplicated if any\n",
    "final_dataset = merged_dataset.drop_duplicates()\n",
    "\n",
    "# Display the merged dataset\n",
    "final_dataset"
   ]
  },
  {
   "cell_type": "raw",
   "id": "069613f0",
   "metadata": {},
   "source": [
    "3. Create a series and practice basic arithmetic steps"
   ]
  },
  {
   "cell_type": "markdown",
   "id": "abc7c02f",
   "metadata": {},
   "source": [
    "a. Series 1 = 7.3, -2.5, 3.4, 1.5\n",
    "    i. Index = ‘a’, ‘c’, ‘d’, ‘e’"
   ]
  },
  {
   "cell_type": "code",
   "execution_count": 41,
   "id": "4c182bc8",
   "metadata": {},
   "outputs": [
    {
     "name": "stdout",
     "output_type": "stream",
     "text": [
      "Series 2\n",
      "a    7.3\n",
      "c   -2.5\n",
      "d    3.4\n",
      "e    1.5\n",
      "dtype: float64\n"
     ]
    }
   ],
   "source": [
    "# Creating the series\n",
    "# Importing the required library\n",
    "import pandas as pd\n",
    "\n",
    "# Creating the Series1\n",
    "data1 = [7.3, -2.5, 3.4, 1.5]\n",
    "index1 = ['a', 'c', 'd', 'e']\n",
    "Series1 = pd.Series(data=data1, index=index1)\n",
    "\n",
    "print('Series 2')\n",
    "print(Series1)"
   ]
  },
  {
   "cell_type": "raw",
   "id": "bdad2de9",
   "metadata": {},
   "source": [
    "b. Series 2 = -2.1, 3.6, -1.5, 4, 3.1\n",
    "    i. Index = ‘a’, ‘c’, ‘e’, ‘f’, ‘g’"
   ]
  },
  {
   "cell_type": "code",
   "execution_count": 42,
   "id": "72d27516",
   "metadata": {},
   "outputs": [
    {
     "name": "stdout",
     "output_type": "stream",
     "text": [
      "Series 2\n",
      "a   -2.1\n",
      "c    3.6\n",
      "e   -1.5\n",
      "f    4.0\n",
      "g    3.1\n",
      "dtype: float64\n"
     ]
    }
   ],
   "source": [
    "# Creating the Series2\n",
    "data2 = [-2.1, 3.6, -1.5, 4, 3.1]\n",
    "index2 = ['a', 'c', 'e', 'f', 'g']\n",
    "Series2 = pd.Series(data=data2, index=index2)\n",
    "\n",
    "print('Series 2')\n",
    "print(Series2)"
   ]
  },
  {
   "cell_type": "raw",
   "id": "df41209e",
   "metadata": {},
   "source": [
    "c. Add Series 1 and Series 2 together and print the results"
   ]
  },
  {
   "cell_type": "code",
   "execution_count": 43,
   "id": "65a17528",
   "metadata": {},
   "outputs": [
    {
     "name": "stdout",
     "output_type": "stream",
     "text": [
      "The addition of Series1 and Series2 is :\n",
      "\n",
      "a    5.2\n",
      "c    1.1\n",
      "d    3.4\n",
      "e    0.0\n",
      "f    4.0\n",
      "g    3.1\n",
      "dtype: float64\n"
     ]
    }
   ],
   "source": [
    "# Addind Series1 and Series2\n",
    "sum_Series = Series1.add(Series2,  fill_value=0)\n",
    "\n",
    "# Printing the result\n",
    "print('The addition of Series1 and Series2 is :\\n')\n",
    "print(sum_Series)"
   ]
  },
  {
   "cell_type": "raw",
   "id": "2e83ffda",
   "metadata": {},
   "source": [
    "d. Subtract Series 1 from Series 2 and print the results"
   ]
  },
  {
   "cell_type": "code",
   "execution_count": 44,
   "id": "24636e92",
   "metadata": {},
   "outputs": [
    {
     "name": "stdout",
     "output_type": "stream",
     "text": [
      "The sunstraction of Series1 from Series2 is :\n",
      "\n",
      "a   -9.4\n",
      "c    6.1\n",
      "d   -3.4\n",
      "e   -3.0\n",
      "f    4.0\n",
      "g    3.1\n",
      "dtype: float64\n"
     ]
    }
   ],
   "source": [
    "# Substracting Series1 from Series2\n",
    "diff_Series = Series2.sub(Series1, fill_value=0)\n",
    "\n",
    "# Print the result\n",
    "print('The sunstraction of Series1 from Series2 is :\\n')\n",
    "print(diff_Series)"
   ]
  }
 ],
 "metadata": {
  "kernelspec": {
   "display_name": "Python 3 (ipykernel)",
   "language": "python",
   "name": "python3"
  },
  "language_info": {
   "codemirror_mode": {
    "name": "ipython",
    "version": 3
   },
   "file_extension": ".py",
   "mimetype": "text/x-python",
   "name": "python",
   "nbconvert_exporter": "python",
   "pygments_lexer": "ipython3",
   "version": "3.11.5"
  }
 },
 "nbformat": 4,
 "nbformat_minor": 5
}
